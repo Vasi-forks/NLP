{
  "nbformat": 4,
  "nbformat_minor": 0,
  "metadata": {
    "kernelspec": {
      "display_name": "Python 3",
      "language": "python",
      "name": "python3"
    },
    "language_info": {
      "codemirror_mode": {
        "name": "ipython",
        "version": 3
      },
      "file_extension": ".py",
      "mimetype": "text/x-python",
      "name": "python",
      "nbconvert_exporter": "python",
      "pygments_lexer": "ipython3",
      "version": "3.7.9"
    },
    "colab": {
      "name": "Chap8_Encoder–decoder.ipynb",
      "provenance": [],
      "collapsed_sections": [
        "RQwkNkXlt-1G",
        "OeenCM03t-1M",
        "5Jg3Fga2t-1M",
        "cEDKedOrt-1P",
        "Bw6VLx3wt-1R"
      ],
      "machine_shape": "hm",
      "include_colab_link": true
    },
    "accelerator": "GPU"
  },
  "cells": [
    {
      "cell_type": "markdown",
      "metadata": {
        "id": "view-in-github",
        "colab_type": "text"
      },
      "source": [
        "<a href=\"https://colab.research.google.com/github/linghduoduo/NLP/blob/master/Chap8_Encoder%E2%80%93decoder.ipynb\" target=\"_parent\"><img src=\"https://colab.research.google.com/assets/colab-badge.svg\" alt=\"Open In Colab\"/></a>"
      ]
    },
    {
      "cell_type": "code",
      "metadata": {
        "colab": {
          "base_uri": "https://localhost:8080/"
        },
        "id": "lronjzKeDxZA",
        "outputId": "39fcb3cf-1108-483a-ea4a-95d45dbbff7d"
      },
      "source": [
        "!nvidia-smi"
      ],
      "execution_count": 1,
      "outputs": [
        {
          "output_type": "stream",
          "text": [
            "Mon Jan  4 15:55:16 2021       \n",
            "+-----------------------------------------------------------------------------+\n",
            "| NVIDIA-SMI 460.27.04    Driver Version: 418.67       CUDA Version: 10.1     |\n",
            "|-------------------------------+----------------------+----------------------+\n",
            "| GPU  Name        Persistence-M| Bus-Id        Disp.A | Volatile Uncorr. ECC |\n",
            "| Fan  Temp  Perf  Pwr:Usage/Cap|         Memory-Usage | GPU-Util  Compute M. |\n",
            "|                               |                      |               MIG M. |\n",
            "|===============================+======================+======================|\n",
            "|   0  Tesla V100-SXM2...  Off  | 00000000:00:04.0 Off |                    0 |\n",
            "| N/A   37C    P0    26W / 300W |      0MiB / 16130MiB |      0%      Default |\n",
            "|                               |                      |                 ERR! |\n",
            "+-------------------------------+----------------------+----------------------+\n",
            "                                                                               \n",
            "+-----------------------------------------------------------------------------+\n",
            "| Processes:                                                                  |\n",
            "|  GPU   GI   CI        PID   Type   Process name                  GPU Memory |\n",
            "|        ID   ID                                                   Usage      |\n",
            "|=============================================================================|\n",
            "|  No running processes found                                                 |\n",
            "+-----------------------------------------------------------------------------+\n"
          ],
          "name": "stdout"
        }
      ]
    },
    {
      "cell_type": "code",
      "metadata": {
        "id": "murCjmOYDz__"
      },
      "source": [
        "import torch\n",
        "import torch.nn as nn\n",
        "from torch.nn.utils.rnn import pack_padded_sequence, pad_packed_sequence"
      ],
      "execution_count": 3,
      "outputs": []
    },
    {
      "cell_type": "code",
      "metadata": {
        "id": "9x7botSAt-1B"
      },
      "source": [
        "def describe(x):\n",
        "    print(\"Type: {}\".format(x.type()))\n",
        "    print(\"Shape/size: {}\".format(x.shape))\n",
        "    print(\"Values: \\n{}\".format(x))"
      ],
      "execution_count": 4,
      "outputs": []
    },
    {
      "cell_type": "code",
      "metadata": {
        "colab": {
          "base_uri": "https://localhost:8080/"
        },
        "id": "tE6SL1w8DJsz",
        "outputId": "d1103778-2bea-46ea-84fa-b649c85d9a98"
      },
      "source": [
        "abcd_padded = torch.tensor([1, 2, 3, 4], dtype=torch.float32) \n",
        "efg_padded = torch.tensor([5, 6, 7, 0], dtype=torch.float32) \n",
        "h_padded = torch.tensor([8, 0, 0, 0], dtype=torch.float32)\n",
        "\n",
        "padded_tensor = torch.stack([abcd_padded, efg_padded, h_padded])\n",
        "\n",
        "describe(padded_tensor)"
      ],
      "execution_count": 7,
      "outputs": [
        {
          "output_type": "stream",
          "text": [
            "Type: torch.FloatTensor\n",
            "Shape/size: torch.Size([3, 4])\n",
            "Values: \n",
            "tensor([[1., 2., 3., 4.],\n",
            "        [5., 6., 7., 0.],\n",
            "        [8., 0., 0., 0.]])\n"
          ],
          "name": "stdout"
        }
      ]
    },
    {
      "cell_type": "code",
      "metadata": {
        "colab": {
          "base_uri": "https://localhost:8080/"
        },
        "id": "W_f-m7cgt-1C",
        "outputId": "b00ab5f2-a165-4116-c2ae-8febc4219a3c"
      },
      "source": [
        "lengths = [4, 3, 1]\n",
        "packed_tensor = pack_padded_sequence(padded_tensor, lengths, \n",
        "                                     batch_first=True)\n",
        "packed_tensor"
      ],
      "execution_count": 8,
      "outputs": [
        {
          "output_type": "execute_result",
          "data": {
            "text/plain": [
              "PackedSequence(data=tensor([1., 5., 8., 2., 6., 3., 7., 4.]), batch_sizes=tensor([3, 2, 2, 1]), sorted_indices=None, unsorted_indices=None)"
            ]
          },
          "metadata": {
            "tags": []
          },
          "execution_count": 8
        }
      ]
    },
    {
      "cell_type": "code",
      "metadata": {
        "colab": {
          "base_uri": "https://localhost:8080/"
        },
        "id": "qtQzhoDmt-1D",
        "outputId": "0baf7416-2b5f-4db3-d3e2-074ce7c93ec2"
      },
      "source": [
        "unpacked_tensor, unpacked_lengths = pad_packed_sequence(packed_tensor, batch_first=True)\n",
        "describe(unpacked_tensor)\n",
        "describe(unpacked_lengths)"
      ],
      "execution_count": 9,
      "outputs": [
        {
          "output_type": "stream",
          "text": [
            "Type: torch.FloatTensor\n",
            "Shape/size: torch.Size([3, 4])\n",
            "Values: \n",
            "tensor([[1., 2., 3., 4.],\n",
            "        [5., 6., 7., 0.],\n",
            "        [8., 0., 0., 0.]])\n",
            "Type: torch.LongTensor\n",
            "Shape/size: torch.Size([3])\n",
            "Values: \n",
            "tensor([4, 3, 1])\n"
          ],
          "name": "stdout"
        }
      ]
    },
    {
      "cell_type": "markdown",
      "metadata": {
        "id": "E1RzA7v_t-1D"
      },
      "source": [
        "### nmt_munging"
      ]
    },
    {
      "cell_type": "code",
      "metadata": {
        "id": "dUrwTwxKt-1D"
      },
      "source": [
        "from argparse import Namespace\n",
        "from nltk.tokenize import word_tokenize\n",
        "import numpy as np\n",
        "import pandas as pd"
      ],
      "execution_count": 10,
      "outputs": []
    },
    {
      "cell_type": "code",
      "metadata": {
        "colab": {
          "base_uri": "https://localhost:8080/"
        },
        "id": "HqUFjRMVvRD_",
        "outputId": "a55725b9-c9b2-4794-83e9-0b09dcc35251"
      },
      "source": [
        "from google.colab import drive\n",
        "drive.mount('/content/drive')\n",
        "workspace_dir = './drive/My Drive/Colab Notebooks/'"
      ],
      "execution_count": 11,
      "outputs": [
        {
          "output_type": "stream",
          "text": [
            "Mounted at /content/drive\n"
          ],
          "name": "stdout"
        }
      ]
    },
    {
      "cell_type": "code",
      "metadata": {
        "id": "MWKzLiL2t-1D"
      },
      "source": [
        "args = Namespace(\n",
        "    source_data_path=workspace_dir+\"data/nmt/eng-fra.txt\",\n",
        "    output_data_path=workspace_dir+\"data/nmt/simplest_eng_fra.csv\",\n",
        "    perc_train=0.7,\n",
        "    perc_val=0.15,\n",
        "    perc_test=0.15,\n",
        "    seed=1337\n",
        ")\n",
        "\n",
        "assert args.perc_test > 0 and (args.perc_test + args.perc_val + args.perc_train == 1.0)"
      ],
      "execution_count": 12,
      "outputs": []
    },
    {
      "cell_type": "code",
      "metadata": {
        "id": "5aU3C2mBt-1E"
      },
      "source": [
        "with open(args.source_data_path) as fp:\n",
        "    lines = fp.readlines()\n",
        "    \n",
        "lines = [line.replace(\"\\n\", \"\").lower().split(\"\\t\") for line in lines]"
      ],
      "execution_count": 13,
      "outputs": []
    },
    {
      "cell_type": "code",
      "metadata": {
        "colab": {
          "base_uri": "https://localhost:8080/"
        },
        "id": "z7ibapzEx3v2",
        "outputId": "8271276b-e68a-44ce-d172-e6ff435df72c"
      },
      "source": [
        "import nltk\n",
        "nltk.download('punkt')"
      ],
      "execution_count": 14,
      "outputs": [
        {
          "output_type": "stream",
          "text": [
            "[nltk_data] Downloading package punkt to /root/nltk_data...\n",
            "[nltk_data]   Unzipping tokenizers/punkt.zip.\n"
          ],
          "name": "stdout"
        },
        {
          "output_type": "execute_result",
          "data": {
            "text/plain": [
              "True"
            ]
          },
          "metadata": {
            "tags": []
          },
          "execution_count": 14
        }
      ]
    },
    {
      "cell_type": "code",
      "metadata": {
        "id": "P9PXZ5F7t-1E"
      },
      "source": [
        "data = []\n",
        "for english_sentence, french_sentence in lines:\n",
        "    data.append({\"english_tokens\": word_tokenize(english_sentence, language=\"english\"),\n",
        "                 \"french_tokens\": word_tokenize(french_sentence, language=\"french\")})"
      ],
      "execution_count": 15,
      "outputs": []
    },
    {
      "cell_type": "code",
      "metadata": {
        "id": "f_RBRZGOt-1E"
      },
      "source": [
        "filter_phrases = (\n",
        "    (\"i\", \"am\"), (\"i\", \"'m\"), \n",
        "    (\"he\", \"is\"), (\"he\", \"'s\"),\n",
        "    (\"she\", \"is\"), (\"she\", \"'s\"),\n",
        "    (\"you\", \"are\"), (\"you\", \"'re\"),\n",
        "    (\"we\", \"are\"), (\"we\", \"'re\"),\n",
        "    (\"they\", \"are\"), (\"they\", \"'re\")\n",
        ")"
      ],
      "execution_count": 16,
      "outputs": []
    },
    {
      "cell_type": "code",
      "metadata": {
        "id": "k1bNBDzQt-1F"
      },
      "source": [
        "data_subset = {phrase: [] for phrase in filter_phrases}\n",
        "for datum in data:\n",
        "    key = tuple(datum['english_tokens'][:2])\n",
        "    if key in data_subset:\n",
        "        data_subset[key].append(datum)"
      ],
      "execution_count": 17,
      "outputs": []
    },
    {
      "cell_type": "code",
      "metadata": {
        "colab": {
          "base_uri": "https://localhost:8080/"
        },
        "id": "7ksvbGU-t-1F",
        "outputId": "151f8b96-8665-47dd-b0c6-9db59daa3b92"
      },
      "source": [
        "counts = {k: len(v) for k,v in data_subset.items()}\n",
        "counts, sum(counts.values())"
      ],
      "execution_count": 18,
      "outputs": [
        {
          "output_type": "execute_result",
          "data": {
            "text/plain": [
              "({('he', \"'s\"): 787,\n",
              "  ('he', 'is'): 1069,\n",
              "  ('i', \"'m\"): 4760,\n",
              "  ('i', 'am'): 805,\n",
              "  ('she', \"'s\"): 316,\n",
              "  ('she', 'is'): 504,\n",
              "  ('they', \"'re\"): 470,\n",
              "  ('they', 'are'): 194,\n",
              "  ('we', \"'re\"): 1053,\n",
              "  ('we', 'are'): 181,\n",
              "  ('you', \"'re\"): 2474,\n",
              "  ('you', 'are'): 449},\n",
              " 13062)"
            ]
          },
          "metadata": {
            "tags": []
          },
          "execution_count": 18
        }
      ]
    },
    {
      "cell_type": "code",
      "metadata": {
        "id": "BuV5MCBYt-1F"
      },
      "source": [
        "np.random.seed(args.seed)\n",
        "\n",
        "dataset_stage3 = []\n",
        "for phrase, datum_list in sorted(data_subset.items()):\n",
        "    np.random.shuffle(datum_list)\n",
        "    n_train = int(len(datum_list) * args.perc_train)\n",
        "    n_val = int(len(datum_list) * args.perc_val)\n",
        "\n",
        "    for datum in datum_list[:n_train]:\n",
        "        datum['split'] = 'train'\n",
        "        \n",
        "    for datum in datum_list[n_train:n_train+n_val]:\n",
        "        datum['split'] = 'val'\n",
        "        \n",
        "    for datum in datum_list[n_train+n_val:]:\n",
        "        datum['split'] = 'test'\n",
        "    \n",
        "    dataset_stage3.extend(datum_list)"
      ],
      "execution_count": 19,
      "outputs": []
    },
    {
      "cell_type": "code",
      "metadata": {
        "id": "fJBlj8XDt-1F"
      },
      "source": [
        "# here we pop and assign into the dictionary, thus modifying in place\n",
        "for datum in dataset_stage3:\n",
        "    datum['source_language'] = \" \".join(datum.pop('english_tokens'))\n",
        "    datum['target_language'] = \" \".join(datum.pop('french_tokens'))"
      ],
      "execution_count": 20,
      "outputs": []
    },
    {
      "cell_type": "code",
      "metadata": {
        "id": "yvGQkCKct-1F"
      },
      "source": [
        "nmt_df = pd.DataFrame(dataset_stage3)"
      ],
      "execution_count": 21,
      "outputs": []
    },
    {
      "cell_type": "code",
      "metadata": {
        "colab": {
          "base_uri": "https://localhost:8080/",
          "height": 204
        },
        "id": "cszolPVjt-1G",
        "outputId": "83188657-775e-4adb-f43e-5112ad0cec22"
      },
      "source": [
        "nmt_df.head()"
      ],
      "execution_count": 22,
      "outputs": [
        {
          "output_type": "execute_result",
          "data": {
            "text/html": [
              "<div>\n",
              "<style scoped>\n",
              "    .dataframe tbody tr th:only-of-type {\n",
              "        vertical-align: middle;\n",
              "    }\n",
              "\n",
              "    .dataframe tbody tr th {\n",
              "        vertical-align: top;\n",
              "    }\n",
              "\n",
              "    .dataframe thead th {\n",
              "        text-align: right;\n",
              "    }\n",
              "</style>\n",
              "<table border=\"1\" class=\"dataframe\">\n",
              "  <thead>\n",
              "    <tr style=\"text-align: right;\">\n",
              "      <th></th>\n",
              "      <th>split</th>\n",
              "      <th>source_language</th>\n",
              "      <th>target_language</th>\n",
              "    </tr>\n",
              "  </thead>\n",
              "  <tbody>\n",
              "    <tr>\n",
              "      <th>0</th>\n",
              "      <td>train</td>\n",
              "      <td>he 's the cutest boy in town .</td>\n",
              "      <td>c'est le garçon le plus mignon en ville .</td>\n",
              "    </tr>\n",
              "    <tr>\n",
              "      <th>1</th>\n",
              "      <td>train</td>\n",
              "      <td>he 's a nonsmoker .</td>\n",
              "      <td>il est non-fumeur .</td>\n",
              "    </tr>\n",
              "    <tr>\n",
              "      <th>2</th>\n",
              "      <td>train</td>\n",
              "      <td>he 's smarter than me .</td>\n",
              "      <td>il est plus intelligent que moi .</td>\n",
              "    </tr>\n",
              "    <tr>\n",
              "      <th>3</th>\n",
              "      <td>train</td>\n",
              "      <td>he 's a lovely young man .</td>\n",
              "      <td>c'est un adorable jeune homme .</td>\n",
              "    </tr>\n",
              "    <tr>\n",
              "      <th>4</th>\n",
              "      <td>train</td>\n",
              "      <td>he 's three years older than me .</td>\n",
              "      <td>il a trois ans de plus que moi .</td>\n",
              "    </tr>\n",
              "  </tbody>\n",
              "</table>\n",
              "</div>"
            ],
            "text/plain": [
              "   split  ...                            target_language\n",
              "0  train  ...  c'est le garçon le plus mignon en ville .\n",
              "1  train  ...                        il est non-fumeur .\n",
              "2  train  ...          il est plus intelligent que moi .\n",
              "3  train  ...            c'est un adorable jeune homme .\n",
              "4  train  ...           il a trois ans de plus que moi .\n",
              "\n",
              "[5 rows x 3 columns]"
            ]
          },
          "metadata": {
            "tags": []
          },
          "execution_count": 22
        }
      ]
    },
    {
      "cell_type": "code",
      "metadata": {
        "id": "cBfDN4HIt-1G"
      },
      "source": [
        "nmt_df.to_csv(args.output_data_path)"
      ],
      "execution_count": 23,
      "outputs": []
    },
    {
      "cell_type": "markdown",
      "metadata": {
        "id": "RQwkNkXlt-1G"
      },
      "source": [
        "### NMT_No_Sampling.ipynb"
      ]
    },
    {
      "cell_type": "code",
      "metadata": {
        "id": "3odVXyyQt-1G"
      },
      "source": [
        "import os\n",
        "from argparse import Namespace\n",
        "from collections import Counter\n",
        "import json\n",
        "import re\n",
        "import string\n",
        "\n",
        "import numpy as np\n",
        "import pandas as pd\n",
        "import torch\n",
        "import torch.nn as nn\n",
        "from torch.nn import functional as F\n",
        "from torch.nn.utils.rnn import pack_padded_sequence, pad_packed_sequence\n",
        "import torch.optim as optim\n",
        "from torch.utils.data import Dataset, DataLoader\n",
        "from tqdm import tqdm_notebook"
      ],
      "execution_count": 24,
      "outputs": []
    },
    {
      "cell_type": "code",
      "metadata": {
        "id": "CY-ida2It-1H"
      },
      "source": [
        "class Vocabulary(object):\n",
        "    \"\"\"Class to process text and extract vocabulary for mapping\"\"\"\n",
        "\n",
        "    def __init__(self, token_to_idx=None):\n",
        "        \"\"\"\n",
        "        Args:\n",
        "            token_to_idx (dict): a pre-existing map of tokens to indices\n",
        "        \"\"\"\n",
        "\n",
        "        if token_to_idx is None:\n",
        "            token_to_idx = {}\n",
        "        self._token_to_idx = token_to_idx\n",
        "\n",
        "        self._idx_to_token = {idx: token \n",
        "                              for token, idx in self._token_to_idx.items()}\n",
        "        \n",
        "    def to_serializable(self):\n",
        "        \"\"\" returns a dictionary that can be serialized \"\"\"\n",
        "        return {'token_to_idx': self._token_to_idx}\n",
        "\n",
        "    @classmethod\n",
        "    def from_serializable(cls, contents):\n",
        "        \"\"\" instantiates the Vocabulary from a serialized dictionary \"\"\"\n",
        "        return cls(**contents)\n",
        "\n",
        "    def add_token(self, token):\n",
        "        \"\"\"Update mapping dicts based on the token.\n",
        "\n",
        "        Args:\n",
        "            token (str): the item to add into the Vocabulary\n",
        "        Returns:\n",
        "            index (int): the integer corresponding to the token\n",
        "        \"\"\"\n",
        "        if token in self._token_to_idx:\n",
        "            index = self._token_to_idx[token]\n",
        "        else:\n",
        "            index = len(self._token_to_idx)\n",
        "            self._token_to_idx[token] = index\n",
        "            self._idx_to_token[index] = token\n",
        "        return index\n",
        "            \n",
        "    def add_many(self, tokens):\n",
        "        \"\"\"Add a list of tokens into the Vocabulary\n",
        "        \n",
        "        Args:\n",
        "            tokens (list): a list of string tokens\n",
        "        Returns:\n",
        "            indices (list): a list of indices corresponding to the tokens\n",
        "        \"\"\"\n",
        "        return [self.add_token(token) for token in tokens]\n",
        "\n",
        "    def lookup_token(self, token):\n",
        "        \"\"\"Retrieve the index associated with the token \n",
        "        \n",
        "        Args:\n",
        "            token (str): the token to look up \n",
        "        Returns:\n",
        "            index (int): the index corresponding to the token\n",
        "        \"\"\"\n",
        "        return self._token_to_idx[token]\n",
        "\n",
        "    def lookup_index(self, index):\n",
        "        \"\"\"Return the token associated with the index\n",
        "        \n",
        "        Args: \n",
        "            index (int): the index to look up\n",
        "        Returns:\n",
        "            token (str): the token corresponding to the index\n",
        "        Raises:\n",
        "            KeyError: if the index is not in the Vocabulary\n",
        "        \"\"\"\n",
        "        if index not in self._idx_to_token:\n",
        "            raise KeyError(\"the index (%d) is not in the Vocabulary\" % index)\n",
        "        return self._idx_to_token[index]\n",
        "\n",
        "    def __str__(self):\n",
        "        return \"<Vocabulary(size=%d)>\" % len(self)\n",
        "\n",
        "    def __len__(self):\n",
        "        return len(self._token_to_idx)"
      ],
      "execution_count": 25,
      "outputs": []
    },
    {
      "cell_type": "code",
      "metadata": {
        "id": "md3XCUw0t-1H"
      },
      "source": [
        "class SequenceVocabulary(Vocabulary):\n",
        "    def __init__(self, token_to_idx=None, unk_token=\"<UNK>\",\n",
        "                 mask_token=\"<MASK>\", begin_seq_token=\"<BEGIN>\",\n",
        "                 end_seq_token=\"<END>\"):\n",
        "\n",
        "        super(SequenceVocabulary, self).__init__(token_to_idx)\n",
        "\n",
        "        self._mask_token = mask_token\n",
        "        self._unk_token = unk_token\n",
        "        self._begin_seq_token = begin_seq_token\n",
        "        self._end_seq_token = end_seq_token\n",
        "\n",
        "        self.mask_index = self.add_token(self._mask_token)\n",
        "        self.unk_index = self.add_token(self._unk_token)\n",
        "        self.begin_seq_index = self.add_token(self._begin_seq_token)\n",
        "        self.end_seq_index = self.add_token(self._end_seq_token)\n",
        "\n",
        "    def to_serializable(self):\n",
        "        contents = super(SequenceVocabulary, self).to_serializable()\n",
        "        contents.update({'unk_token': self._unk_token,\n",
        "                         'mask_token': self._mask_token,\n",
        "                         'begin_seq_token': self._begin_seq_token,\n",
        "                         'end_seq_token': self._end_seq_token})\n",
        "        return contents\n",
        "\n",
        "    def lookup_token(self, token):\n",
        "        \"\"\"Retrieve the index associated with the token \n",
        "          or the UNK index if token isn't present.\n",
        "        \n",
        "        Args:\n",
        "            token (str): the token to look up \n",
        "        Returns:\n",
        "            index (int): the index corresponding to the token\n",
        "        Notes:\n",
        "            `unk_index` needs to be >=0 (having been added into the Vocabulary) \n",
        "              for the UNK functionality \n",
        "        \"\"\"\n",
        "        if self.unk_index >= 0:\n",
        "            return self._token_to_idx.get(token, self.unk_index)\n",
        "        else:\n",
        "            return self._token_to_idx[token]"
      ],
      "execution_count": 26,
      "outputs": []
    },
    {
      "cell_type": "code",
      "metadata": {
        "id": "gZ2oIkZ7t-1I"
      },
      "source": [
        "class NMTVectorizer(object):\n",
        "    \"\"\" The Vectorizer which coordinates the Vocabularies and puts them to use\"\"\"        \n",
        "    def __init__(self, source_vocab, target_vocab, max_source_length, max_target_length):\n",
        "        \"\"\"\n",
        "        Args:\n",
        "            source_vocab (SequenceVocabulary): maps source words to integers\n",
        "            target_vocab (SequenceVocabulary): maps target words to integers\n",
        "            max_source_length (int): the longest sequence in the source dataset\n",
        "            max_target_length (int): the longest sequence in the target dataset\n",
        "        \"\"\"\n",
        "        self.source_vocab = source_vocab\n",
        "        self.target_vocab = target_vocab\n",
        "        \n",
        "        self.max_source_length = max_source_length\n",
        "        self.max_target_length = max_target_length\n",
        "        \n",
        "\n",
        "    def _vectorize(self, indices, vector_length=-1, mask_index=0):\n",
        "        \"\"\"Vectorize the provided indices\n",
        "        \n",
        "        Args:\n",
        "            indices (list): a list of integers that represent a sequence\n",
        "            vector_length (int): an argument for forcing the length of index vector\n",
        "            mask_index (int): the mask_index to use; almost always 0\n",
        "        \"\"\"\n",
        "        if vector_length < 0:\n",
        "            vector_length = len(indices)\n",
        "        \n",
        "        vector = np.zeros(vector_length, dtype=np.int64)\n",
        "        vector[:len(indices)] = indices\n",
        "        vector[len(indices):] = mask_index\n",
        "\n",
        "        return vector\n",
        "    \n",
        "    def _get_source_indices(self, text):\n",
        "        \"\"\"Return the vectorized source text\n",
        "        \n",
        "        Args:\n",
        "            text (str): the source text; tokens should be separated by spaces\n",
        "        Returns:\n",
        "            indices (list): list of integers representing the text\n",
        "        \"\"\"\n",
        "        indices = [self.source_vocab.begin_seq_index]\n",
        "        indices.extend(self.source_vocab.lookup_token(token) for token in text.split(\" \"))\n",
        "        indices.append(self.source_vocab.end_seq_index)\n",
        "        return indices\n",
        "    \n",
        "    def _get_target_indices(self, text):\n",
        "        \"\"\"Return the vectorized source text\n",
        "        \n",
        "        Args:\n",
        "            text (str): the source text; tokens should be separated by spaces\n",
        "        Returns:\n",
        "            a tuple: (x_indices, y_indices)\n",
        "                x_indices (list): list of integers representing the observations in target decoder \n",
        "                y_indices (list): list of integers representing predictions in target decoder\n",
        "        \"\"\"\n",
        "        indices = [self.target_vocab.lookup_token(token) for token in text.split(\" \")]\n",
        "        x_indices = [self.target_vocab.begin_seq_index] + indices\n",
        "        y_indices = indices + [self.target_vocab.end_seq_index]\n",
        "        return x_indices, y_indices\n",
        "        \n",
        "    def vectorize(self, source_text, target_text, use_dataset_max_lengths=True):\n",
        "        \"\"\"Return the vectorized source and target text\n",
        "        \n",
        "        The vetorized source text is just the a single vector.\n",
        "        The vectorized target text is split into two vectors in a similar style to \n",
        "            the surname modeling in Chapter 7.\n",
        "        At each timestep, the first vector is the observation and the second vector is the target. \n",
        "        \n",
        "        \n",
        "        Args:\n",
        "            source_text (str): text from the source language\n",
        "            target_text (str): text from the target language\n",
        "            use_dataset_max_lengths (bool): whether to use the global max vector lengths\n",
        "        Returns:\n",
        "            The vectorized data point as a dictionary with the keys: \n",
        "                source_vector, target_x_vector, target_y_vector, source_length\n",
        "        \"\"\"\n",
        "        source_vector_length = -1\n",
        "        target_vector_length = -1\n",
        "        \n",
        "        if use_dataset_max_lengths:\n",
        "            source_vector_length = self.max_source_length + 2\n",
        "            target_vector_length = self.max_target_length + 1\n",
        "            \n",
        "        source_indices = self._get_source_indices(source_text)\n",
        "        source_vector = self._vectorize(source_indices, \n",
        "                                        vector_length=source_vector_length, \n",
        "                                        mask_index=self.source_vocab.mask_index)\n",
        "        \n",
        "        target_x_indices, target_y_indices = self._get_target_indices(target_text)\n",
        "        target_x_vector = self._vectorize(target_x_indices,\n",
        "                                        vector_length=target_vector_length,\n",
        "                                        mask_index=self.target_vocab.mask_index)\n",
        "        target_y_vector = self._vectorize(target_y_indices,\n",
        "                                        vector_length=target_vector_length,\n",
        "                                        mask_index=self.target_vocab.mask_index)\n",
        "        return {\"source_vector\": source_vector, \n",
        "                \"target_x_vector\": target_x_vector, \n",
        "                \"target_y_vector\": target_y_vector, \n",
        "                \"source_length\": len(source_indices)}\n",
        "        \n",
        "    @classmethod\n",
        "    def from_dataframe(cls, bitext_df):\n",
        "        \"\"\"Instantiate the vectorizer from the dataset dataframe\n",
        "        \n",
        "        Args:\n",
        "            bitext_df (pandas.DataFrame): the parallel text dataset\n",
        "        Returns:\n",
        "            an instance of the NMTVectorizer\n",
        "        \"\"\"\n",
        "        source_vocab = SequenceVocabulary()\n",
        "        target_vocab = SequenceVocabulary()\n",
        "        \n",
        "        max_source_length = 0\n",
        "        max_target_length = 0\n",
        "\n",
        "        for _, row in bitext_df.iterrows():\n",
        "            source_tokens = row[\"source_language\"].split(\" \")\n",
        "            if len(source_tokens) > max_source_length:\n",
        "                max_source_length = len(source_tokens)\n",
        "            for token in source_tokens:\n",
        "                source_vocab.add_token(token)\n",
        "            \n",
        "            target_tokens = row[\"target_language\"].split(\" \")\n",
        "            if len(target_tokens) > max_target_length:\n",
        "                max_target_length = len(target_tokens)\n",
        "            for token in target_tokens:\n",
        "                target_vocab.add_token(token)\n",
        "            \n",
        "        return cls(source_vocab, target_vocab, max_source_length, max_target_length)\n",
        "\n",
        "    @classmethod\n",
        "    def from_serializable(cls, contents):\n",
        "        source_vocab = SequenceVocabulary.from_serializable(contents[\"source_vocab\"])\n",
        "        target_vocab = SequenceVocabulary.from_serializable(contents[\"target_vocab\"])\n",
        "        \n",
        "        return cls(source_vocab=source_vocab, \n",
        "                   target_vocab=target_vocab, \n",
        "                   max_source_length=contents[\"max_source_length\"], \n",
        "                   max_target_length=contents[\"max_target_length\"])\n",
        "\n",
        "    def to_serializable(self):\n",
        "        return {\"source_vocab\": self.source_vocab.to_serializable(), \n",
        "                \"target_vocab\": self.target_vocab.to_serializable(), \n",
        "                \"max_source_length\": self.max_source_length,\n",
        "                \"max_target_length\": self.max_target_length}"
      ],
      "execution_count": 27,
      "outputs": []
    },
    {
      "cell_type": "code",
      "metadata": {
        "id": "768ClNsit-1K"
      },
      "source": [
        "class NMTDataset(Dataset):\n",
        "    def __init__(self, text_df, vectorizer):\n",
        "        \"\"\"\n",
        "        Args:\n",
        "            surname_df (pandas.DataFrame): the dataset\n",
        "            vectorizer (SurnameVectorizer): vectorizer instatiated from dataset\n",
        "        \"\"\"\n",
        "        self.text_df = text_df\n",
        "        self._vectorizer = vectorizer\n",
        "\n",
        "        self.train_df = self.text_df[self.text_df.split=='train']\n",
        "        self.train_size = len(self.train_df)\n",
        "\n",
        "        self.val_df = self.text_df[self.text_df.split=='val']\n",
        "        self.validation_size = len(self.val_df)\n",
        "\n",
        "        self.test_df = self.text_df[self.text_df.split=='test']\n",
        "        self.test_size = len(self.test_df)\n",
        "\n",
        "        self._lookup_dict = {'train': (self.train_df, self.train_size),\n",
        "                             'val': (self.val_df, self.validation_size),\n",
        "                             'test': (self.test_df, self.test_size)}\n",
        "\n",
        "        self.set_split('train')\n",
        "\n",
        "    @classmethod\n",
        "    def load_dataset_and_make_vectorizer(cls, dataset_csv):\n",
        "        \"\"\"Load dataset and make a new vectorizer from scratch\n",
        "        \n",
        "        Args:\n",
        "            surname_csv (str): location of the dataset\n",
        "        Returns:\n",
        "            an instance of SurnameDataset\n",
        "        \"\"\"\n",
        "        text_df = pd.read_csv(dataset_csv)\n",
        "        train_subset = text_df[text_df.split=='train']\n",
        "        return cls(text_df, NMTVectorizer.from_dataframe(train_subset))\n",
        "\n",
        "    @classmethod\n",
        "    def load_dataset_and_load_vectorizer(cls, dataset_csv, vectorizer_filepath):\n",
        "        \"\"\"Load dataset and the corresponding vectorizer. \n",
        "        Used in the case in the vectorizer has been cached for re-use\n",
        "        \n",
        "        Args:\n",
        "            surname_csv (str): location of the dataset\n",
        "            vectorizer_filepath (str): location of the saved vectorizer\n",
        "        Returns:\n",
        "            an instance of SurnameDataset\n",
        "        \"\"\"\n",
        "        text_df = pd.read_csv(dataset_csv)\n",
        "        vectorizer = cls.load_vectorizer_only(vectorizer_filepath)\n",
        "        return cls(text_df, vectorizer)\n",
        "\n",
        "    @staticmethod\n",
        "    def load_vectorizer_only(vectorizer_filepath):\n",
        "        \"\"\"a static method for loading the vectorizer from file\n",
        "        \n",
        "        Args:\n",
        "            vectorizer_filepath (str): the location of the serialized vectorizer\n",
        "        Returns:\n",
        "            an instance of SurnameVectorizer\n",
        "        \"\"\"\n",
        "        with open(vectorizer_filepath) as fp:\n",
        "            return NMTVectorizer.from_serializable(json.load(fp))\n",
        "\n",
        "    def save_vectorizer(self, vectorizer_filepath):\n",
        "        \"\"\"saves the vectorizer to disk using json\n",
        "        \n",
        "        Args:\n",
        "            vectorizer_filepath (str): the location to save the vectorizer\n",
        "        \"\"\"\n",
        "        with open(vectorizer_filepath, \"w\") as fp:\n",
        "            json.dump(self._vectorizer.to_serializable(), fp)\n",
        "\n",
        "    def get_vectorizer(self):\n",
        "        \"\"\" returns the vectorizer \"\"\"\n",
        "        return self._vectorizer\n",
        "\n",
        "    def set_split(self, split=\"train\"):\n",
        "        self._target_split = split\n",
        "        self._target_df, self._target_size = self._lookup_dict[split]\n",
        "\n",
        "    def __len__(self):\n",
        "        return self._target_size\n",
        "\n",
        "    def __getitem__(self, index):\n",
        "        \"\"\"the primary entry point method for PyTorch datasets\n",
        "        \n",
        "        Args:\n",
        "            index (int): the index to the data point \n",
        "        Returns:\n",
        "            a dictionary holding the data point: (x_data, y_target, class_index)\n",
        "        \"\"\"\n",
        "        row = self._target_df.iloc[index]\n",
        "\n",
        "        vector_dict = self._vectorizer.vectorize(row.source_language, row.target_language)\n",
        "\n",
        "        return {\"x_source\": vector_dict[\"source_vector\"], \n",
        "                \"x_target\": vector_dict[\"target_x_vector\"],\n",
        "                \"y_target\": vector_dict[\"target_y_vector\"], \n",
        "                \"x_source_length\": vector_dict[\"source_length\"]}\n",
        "        \n",
        "    def get_num_batches(self, batch_size):\n",
        "        \"\"\"Given a batch size, return the number of batches in the dataset\n",
        "        \n",
        "        Args:\n",
        "            batch_size (int)\n",
        "        Returns:\n",
        "            number of batches in the dataset\n",
        "        \"\"\"\n",
        "        return len(self) // batch_size"
      ],
      "execution_count": 28,
      "outputs": []
    },
    {
      "cell_type": "code",
      "metadata": {
        "id": "_u7tK2Zpt-1M"
      },
      "source": [
        "def generate_nmt_batches(dataset, batch_size, shuffle=True, \n",
        "                            drop_last=True, device=\"cpu\"):\n",
        "    \"\"\"A generator function which wraps the PyTorch DataLoader.  The NMT Version \"\"\"\n",
        "    dataloader = DataLoader(dataset=dataset, batch_size=batch_size,\n",
        "                            shuffle=shuffle, drop_last=drop_last)\n",
        "\n",
        "    for data_dict in dataloader:\n",
        "        lengths = data_dict['x_source_length'].numpy()\n",
        "        sorted_length_indices = lengths.argsort()[::-1].tolist()\n",
        "        \n",
        "        out_data_dict = {}\n",
        "        for name, tensor in data_dict.items():\n",
        "            out_data_dict[name] = data_dict[name][sorted_length_indices].to(device)\n",
        "        yield out_data_dict"
      ],
      "execution_count": 29,
      "outputs": []
    },
    {
      "cell_type": "markdown",
      "metadata": {
        "id": "OeenCM03t-1M"
      },
      "source": [
        "### Neural Machine Translation Model"
      ]
    },
    {
      "cell_type": "markdown",
      "metadata": {
        "id": "HhmIfWi3t-1M"
      },
      "source": [
        "Components:\n",
        "\n",
        "1 NMTEncoder\n",
        "- accepts as input a source sequence to be embedded and fed through a bi-directional GRU\n",
        "\n",
        "2 NMTDecoder\n",
        "- using the encoder state and attention, the decoder generates a new sequence\n",
        "- the ground truth target sequence is used as input to the decoder at each time step\n",
        "- an alternative formulation would allow some of the decoder's own choices to be used as input\n",
        "- this is referred to as curriculum learning, learning to search\n",
        "TODO: Look up references for this. I believe Bengio has a paper from the image captioning competitions. Hal Daume has tons on this and is the main NLP guy for it.\n",
        "\n",
        "3 NMTModel\n",
        "Combines the encoder and decoder into a single class."
      ]
    },
    {
      "cell_type": "code",
      "metadata": {
        "id": "FJe0BC5ft-1M"
      },
      "source": [
        "class NMTEncoder(nn.Module):\n",
        "    def __init__(self, num_embeddings, embedding_size, rnn_hidden_size):\n",
        "        \"\"\"\n",
        "        Args:\n",
        "            num_embeddings (int): number of embeddings is the size of source vocabulary\n",
        "            embedding_size (int): size of the embedding vectors\n",
        "            rnn_hidden_size (int): size of the RNN hidden state vectors \n",
        "        \"\"\"\n",
        "        super(NMTEncoder, self).__init__()\n",
        "    \n",
        "        self.source_embedding = nn.Embedding(num_embeddings, embedding_size, padding_idx=0)\n",
        "        self.birnn = nn.GRU(embedding_size, rnn_hidden_size, bidirectional=True, batch_first=True)\n",
        "    \n",
        "    def forward(self, x_source, x_lengths):\n",
        "        \"\"\"The forward pass of the model\n",
        "        \n",
        "        Args:\n",
        "            x_source (torch.Tensor): the input data tensor.\n",
        "                x_source.shape is (batch, seq_size)\n",
        "            x_lengths (torch.Tensor): a vector of lengths for each item in the batch\n",
        "        Returns:\n",
        "            a tuple: x_unpacked (torch.Tensor), x_birnn_h (torch.Tensor)\n",
        "                x_unpacked.shape = (batch, seq_size, rnn_hidden_size * 2)\n",
        "                x_birnn_h.shape = (batch, rnn_hidden_size * 2)\n",
        "        \"\"\"\n",
        "        x_embedded = self.source_embedding(x_source)\n",
        "        # create PackedSequence; x_packed.data.shape=(number_items, embeddign_size)\n",
        "        x_packed = pack_padded_sequence(x_embedded, x_lengths.detach().cpu().numpy(), \n",
        "                                        batch_first=True)\n",
        "        \n",
        "        # x_birnn_h.shape = (num_rnn, batch_size, feature_size)\n",
        "        x_birnn_out, x_birnn_h  = self.birnn(x_packed)\n",
        "        # permute to (batch_size, num_rnn, feature_size)\n",
        "        x_birnn_h = x_birnn_h.permute(1, 0, 2)\n",
        "        \n",
        "        # flatten features; reshape to (batch_size, num_rnn * feature_size)\n",
        "        #  (recall: -1 takes the remaining positions, \n",
        "        #           flattening the two RNN hidden vectors into 1)\n",
        "        x_birnn_h = x_birnn_h.contiguous().view(x_birnn_h.size(0), -1)\n",
        "        \n",
        "        x_unpacked, _ = pad_packed_sequence(x_birnn_out, batch_first=True)\n",
        "        \n",
        "        return x_unpacked, x_birnn_h\n",
        "\n",
        "def verbose_attention(encoder_state_vectors, query_vector):\n",
        "    \"\"\"A descriptive version of the neural attention mechanism \n",
        "    \n",
        "    Args:\n",
        "        encoder_state_vectors (torch.Tensor): 3dim tensor from bi-GRU in encoder\n",
        "        query_vector (torch.Tensor): hidden state in decoder GRU\n",
        "    Returns:\n",
        "        \n",
        "    \"\"\"\n",
        "    batch_size, num_vectors, vector_size = encoder_state_vectors.size()\n",
        "    vector_scores = torch.sum(encoder_state_vectors * query_vector.view(batch_size, 1, vector_size), \n",
        "                              dim=2)\n",
        "    vector_probabilities = F.softmax(vector_scores, dim=1)\n",
        "    weighted_vectors = encoder_state_vectors * vector_probabilities.view(batch_size, num_vectors, 1)\n",
        "    context_vectors = torch.sum(weighted_vectors, dim=1)\n",
        "    return context_vectors, vector_probabilities, vector_scores\n",
        "\n",
        "def terse_attention(encoder_state_vectors, query_vector):\n",
        "    \"\"\"A shorter and more optimized version of the neural attention mechanism\n",
        "    \n",
        "    Args:\n",
        "        encoder_state_vectors (torch.Tensor): 3dim tensor from bi-GRU in encoder\n",
        "        query_vector (torch.Tensor): hidden state\n",
        "    \"\"\"\n",
        "    vector_scores = torch.matmul(encoder_state_vectors, query_vector.unsqueeze(dim=2)).squeeze()\n",
        "    vector_probabilities = F.softmax(vector_scores, dim=-1)\n",
        "    context_vectors = torch.matmul(encoder_state_vectors.transpose(-2, -1), \n",
        "                                   vector_probabilities.unsqueeze(dim=2)).squeeze()\n",
        "    return context_vectors, vector_probabilities\n",
        "\n",
        "\n",
        "class NMTDecoder(nn.Module):\n",
        "    def __init__(self, num_embeddings, embedding_size, rnn_hidden_size, bos_index):\n",
        "        \"\"\"\n",
        "        Args:\n",
        "            num_embeddings (int): number of embeddings is also the number of \n",
        "                unique words in target vocabulary \n",
        "            embedding_size (int): the embedding vector size\n",
        "            rnn_hidden_size (int): size of the hidden rnn state\n",
        "            bos_index(int): begin-of-sequence index\n",
        "        \"\"\"\n",
        "        super(NMTDecoder, self).__init__()\n",
        "        self._rnn_hidden_size = rnn_hidden_size\n",
        "        self.target_embedding = nn.Embedding(num_embeddings=num_embeddings, \n",
        "                                             embedding_dim=embedding_size, \n",
        "                                             padding_idx=0)\n",
        "        self.gru_cell = nn.GRUCell(embedding_size + rnn_hidden_size, \n",
        "                                   rnn_hidden_size)\n",
        "        self.hidden_map = nn.Linear(rnn_hidden_size, rnn_hidden_size)\n",
        "        self.classifier = nn.Linear(rnn_hidden_size * 2, num_embeddings)\n",
        "        self.bos_index = bos_index\n",
        "    \n",
        "    def _init_indices(self, batch_size):\n",
        "        \"\"\" return the BEGIN-OF-SEQUENCE index vector \"\"\"\n",
        "        return torch.ones(batch_size, dtype=torch.int64) * self.bos_index\n",
        "    \n",
        "    def _init_context_vectors(self, batch_size):\n",
        "        \"\"\" return a zeros vector for initializing the context \"\"\"\n",
        "        return torch.zeros(batch_size, self._rnn_hidden_size)\n",
        "            \n",
        "    def forward(self, encoder_state, initial_hidden_state, target_sequence):\n",
        "        \"\"\"The forward pass of the model\n",
        "        \n",
        "        Args:\n",
        "            encoder_state (torch.Tensor): the output of the NMTEncoder\n",
        "            initial_hidden_state (torch.Tensor): The last hidden state in the  NMTEncoder\n",
        "            target_sequence (torch.Tensor): the target text data tensor\n",
        "        Returns:\n",
        "            output_vectors (torch.Tensor): prediction vectors at each output step\n",
        "        \"\"\"    \n",
        "        # We are making an assumption there: The batch is on first\n",
        "        # The input is (Batch, Seq)\n",
        "        # We want to iterate over sequence so we permute it to (S, B)\n",
        "        target_sequence = target_sequence.permute(1, 0)\n",
        "        output_sequence_size = target_sequence.size(0)\n",
        "\n",
        "        # use the provided encoder hidden state as the initial hidden state\n",
        "        h_t = self.hidden_map(initial_hidden_state)\n",
        "\n",
        "        batch_size = encoder_state.size(0)\n",
        "        # initialize context vectors to zeros\n",
        "        context_vectors = self._init_context_vectors(batch_size)\n",
        "        # initialize first y_t word as BOS\n",
        "        y_t_index = self._init_indices(batch_size)\n",
        "        \n",
        "        h_t = h_t.to(encoder_state.device)\n",
        "        y_t_index = y_t_index.to(encoder_state.device)\n",
        "        context_vectors = context_vectors.to(encoder_state.device)\n",
        "\n",
        "        output_vectors = []\n",
        "        self._cached_p_attn = []\n",
        "        self._cached_ht = []\n",
        "        self._cached_decoder_state = encoder_state.cpu().detach().numpy()\n",
        "        \n",
        "        for i in range(output_sequence_size):\n",
        "            y_t_index = target_sequence[i]\n",
        "                \n",
        "            # Step 1: Embed word and concat with previous context\n",
        "            y_input_vector = self.target_embedding(y_t_index)\n",
        "            rnn_input = torch.cat([y_input_vector, context_vectors], dim=1)\n",
        "            \n",
        "            # Step 2: Make a GRU step, getting a new hidden vector\n",
        "            h_t = self.gru_cell(rnn_input, h_t)\n",
        "            self._cached_ht.append(h_t.cpu().detach().numpy())\n",
        "            \n",
        "            # Step 3: Use the current hidden to attend to the encoder state\n",
        "            context_vectors, p_attn, _ = verbose_attention(encoder_state_vectors=encoder_state, \n",
        "                                                           query_vector=h_t)\n",
        "            \n",
        "            # auxillary: cache the attention probabilities for visualization\n",
        "            self._cached_p_attn.append(p_attn.cpu().detach().numpy())\n",
        "            \n",
        "            # Step 4: Use the current hidden and context vectors to make a prediction to the next word\n",
        "            prediction_vector = torch.cat((context_vectors, h_t), dim=1)\n",
        "            score_for_y_t_index = self.classifier(F.dropout(prediction_vector, 0.3))\n",
        "            \n",
        "            # auxillary: collect the prediction scores\n",
        "            output_vectors.append(score_for_y_t_index)\n",
        "            \n",
        "        output_vectors = torch.stack(output_vectors).permute(1, 0, 2)\n",
        "        \n",
        "        return output_vectors\n",
        "    \n",
        "    \n",
        "class NMTModel(nn.Module):\n",
        "    \"\"\" The Neural Machine Translation Model \"\"\"\n",
        "    def __init__(self, source_vocab_size, source_embedding_size, \n",
        "                 target_vocab_size, target_embedding_size, encoding_size, \n",
        "                 target_bos_index):\n",
        "        \"\"\"\n",
        "        Args:\n",
        "            source_vocab_size (int): number of unique words in source language\n",
        "            source_embedding_size (int): size of the source embedding vectors\n",
        "            target_vocab_size (int): number of unique words in target language\n",
        "            target_embedding_size (int): size of the target embedding vectors\n",
        "            encoding_size (int): the size of the encoder RNN.  \n",
        "        \"\"\"\n",
        "        super(NMTModel, self).__init__()\n",
        "        self.encoder = NMTEncoder(num_embeddings=source_vocab_size, \n",
        "                                  embedding_size=source_embedding_size,\n",
        "                                  rnn_hidden_size=encoding_size)\n",
        "        decoding_size = encoding_size * 2\n",
        "        self.decoder = NMTDecoder(num_embeddings=target_vocab_size, \n",
        "                                  embedding_size=target_embedding_size, \n",
        "                                  rnn_hidden_size=decoding_size,\n",
        "                                  bos_index=target_bos_index)\n",
        "    \n",
        "    def forward(self, x_source, x_source_lengths, target_sequence):\n",
        "        \"\"\"The forward pass of the model\n",
        "        \n",
        "        Args:\n",
        "            x_source (torch.Tensor): the source text data tensor. \n",
        "                x_source.shape should be (batch, vectorizer.max_source_length)\n",
        "            x_source_lengths torch.Tensor): the length of the sequences in x_source \n",
        "            target_sequence (torch.Tensor): the target text data tensor\n",
        "        Returns:\n",
        "            decoded_states (torch.Tensor): prediction vectors at each output step\n",
        "        \"\"\"\n",
        "        encoder_state, final_hidden_states = self.encoder(x_source, x_source_lengths)\n",
        "        decoded_states = self.decoder(encoder_state=encoder_state, \n",
        "                                      initial_hidden_state=final_hidden_states, \n",
        "                                      target_sequence=target_sequence)\n",
        "        return decoded_states"
      ],
      "execution_count": 30,
      "outputs": []
    },
    {
      "cell_type": "markdown",
      "metadata": {
        "id": "5Jg3Fga2t-1M"
      },
      "source": [
        "### Training Routine and Bookkeeping Function"
      ]
    },
    {
      "cell_type": "code",
      "metadata": {
        "id": "xrnwzJ6-t-1M"
      },
      "source": [
        "def set_seed_everywhere(seed, cuda):\n",
        "    np.random.seed(seed)\n",
        "    torch.manual_seed(seed)\n",
        "    if cuda:\n",
        "        torch.cuda.manual_seed_all(seed)\n",
        "\n",
        "def handle_dirs(dirpath):\n",
        "    if not os.path.exists(dirpath):\n",
        "        os.makedirs(dirpath)\n",
        "\n",
        "def make_train_state(args):\n",
        "    return {'stop_early': False,\n",
        "            'early_stopping_step': 0,\n",
        "            'early_stopping_best_val': 1e8,\n",
        "            'learning_rate': args.learning_rate,\n",
        "            'epoch_index': 0,\n",
        "            'train_loss': [],\n",
        "            'train_acc': [],\n",
        "            'val_loss': [],\n",
        "            'val_acc': [],\n",
        "            'test_loss': -1,\n",
        "            'test_acc': -1,\n",
        "            'model_filename': args.model_state_file}\n",
        "\n",
        "def update_train_state(args, model, train_state):\n",
        "    \"\"\"Handle the training state updates.\n",
        "    Components:\n",
        "     - Early Stopping: Prevent overfitting.\n",
        "     - Model Checkpoint: Model is saved if the model is better\n",
        "    \n",
        "    :param args: main arguments\n",
        "    :param model: model to train\n",
        "    :param train_state: a dictionary representing the training state values\n",
        "    :returns:\n",
        "        a new train_state\n",
        "    \"\"\"\n",
        "\n",
        "    # Save one model at least\n",
        "    if train_state['epoch_index'] == 0:\n",
        "        torch.save(model.state_dict(), train_state['model_filename'])\n",
        "        train_state['stop_early'] = False\n",
        "\n",
        "    # Save model if performance improved\n",
        "    elif train_state['epoch_index'] >= 1:\n",
        "        loss_tm1, loss_t = train_state['val_loss'][-2:]\n",
        "         \n",
        "        # If loss worsened\n",
        "        if loss_t >= loss_tm1:\n",
        "            # Update step\n",
        "            train_state['early_stopping_step'] += 1\n",
        "        # Loss decreased\n",
        "        else:\n",
        "            # Save the best model\n",
        "            if loss_t < train_state['early_stopping_best_val']:\n",
        "                torch.save(model.state_dict(), train_state['model_filename'])\n",
        "                train_state['early_stopping_best_val'] = loss_t\n",
        "\n",
        "            # Reset early stopping step\n",
        "            train_state['early_stopping_step'] = 0\n",
        "\n",
        "        # Stop early ?\n",
        "        train_state['stop_early'] = \\\n",
        "            train_state['early_stopping_step'] >= args.early_stopping_criteria\n",
        "\n",
        "    return train_state\n",
        "\n",
        "def normalize_sizes(y_pred, y_true):\n",
        "    \"\"\"Normalize tensor sizes\n",
        "    \n",
        "    Args:\n",
        "        y_pred (torch.Tensor): the output of the model\n",
        "            If a 3-dimensional tensor, reshapes to a matrix\n",
        "        y_true (torch.Tensor): the target predictions\n",
        "            If a matrix, reshapes to be a vector\n",
        "    \"\"\"\n",
        "    if len(y_pred.size()) == 3:\n",
        "        y_pred = y_pred.contiguous().view(-1, y_pred.size(2))\n",
        "    if len(y_true.size()) == 2:\n",
        "        y_true = y_true.contiguous().view(-1)\n",
        "    return y_pred, y_true\n",
        "\n",
        "def compute_accuracy(y_pred, y_true, mask_index):\n",
        "    y_pred, y_true = normalize_sizes(y_pred, y_true)\n",
        "\n",
        "    _, y_pred_indices = y_pred.max(dim=1)\n",
        "    \n",
        "    correct_indices = torch.eq(y_pred_indices, y_true).float()\n",
        "    valid_indices = torch.ne(y_true, mask_index).float()\n",
        "    \n",
        "    n_correct = (correct_indices * valid_indices).sum().item()\n",
        "    n_valid = valid_indices.sum().item()\n",
        "\n",
        "    return n_correct / n_valid * 100\n",
        "\n",
        "def sequence_loss(y_pred, y_true, mask_index):\n",
        "    y_pred, y_true = normalize_sizes(y_pred, y_true)\n",
        "    return F.cross_entropy(y_pred, y_true, ignore_index=mask_index)"
      ],
      "execution_count": null,
      "outputs": []
    },
    {
      "cell_type": "code",
      "metadata": {
        "colab": {
          "base_uri": "https://localhost:8080/"
        },
        "id": "_-bboLJFt-1N",
        "outputId": "873ab243-b51f-4c47-f4e5-20f7e79946a2"
      },
      "source": [
        "args = Namespace(dataset_csv=workspace_dir+\"data/nmt/simplest_eng_fra.csv\",\n",
        "                 vectorizer_file=\"vectorizer.json\",\n",
        "                 model_state_file=\"model.pth\",\n",
        "                 save_dir=workspace_dir +\"model_storage/ch8/nmt_luong_no_sampling\",\n",
        "                 reload_from_files=True,\n",
        "                 expand_filepaths_to_save_dir=True,\n",
        "                 cuda=False,\n",
        "                 seed=1337,\n",
        "                 learning_rate=5e-4,\n",
        "                 batch_size=64,\n",
        "                 num_epochs=100,\n",
        "                 early_stopping_criteria=5,              \n",
        "                 source_embedding_size=64, \n",
        "                 target_embedding_size=64,\n",
        "                 encoding_size=64,\n",
        "                 catch_keyboard_interrupt=True)\n",
        "\n",
        "if args.expand_filepaths_to_save_dir:\n",
        "    args.vectorizer_file = os.path.join(args.save_dir,\n",
        "                                        args.vectorizer_file)\n",
        "\n",
        "    args.model_state_file = os.path.join(args.save_dir,\n",
        "                                         args.model_state_file)\n",
        "    \n",
        "    print(\"Expanded filepaths: \")\n",
        "    print(\"\\t{}\".format(args.vectorizer_file))\n",
        "    print(\"\\t{}\".format(args.model_state_file))\n",
        "    \n",
        "# Check CUDA\n",
        "if not torch.cuda.is_available():\n",
        "    args.cuda = False\n",
        "\n",
        "args.device = torch.device(\"cuda\" if args.cuda else \"cpu\")\n",
        "    \n",
        "print(\"Using CUDA: {}\".format(args.cuda))\n",
        "\n",
        "# Set seed for reproducibility\n",
        "set_seed_everywhere(args.seed, args.cuda)\n",
        "\n",
        "# handle dirs\n",
        "handle_dirs(args.save_dir)"
      ],
      "execution_count": null,
      "outputs": [
        {
          "output_type": "stream",
          "text": [
            "Expanded filepaths: \n",
            "\t./drive/My Drive/Colab Notebooks/model_storage/ch8/nmt_luong_no_sampling/vectorizer.json\n",
            "\t./drive/My Drive/Colab Notebooks/model_storage/ch8/nmt_luong_no_sampling/model.pth\n",
            "Using CUDA: False\n"
          ],
          "name": "stdout"
        }
      ]
    },
    {
      "cell_type": "code",
      "metadata": {
        "id": "ugRXH_wOt-1N"
      },
      "source": [
        "if args.reload_from_files and os.path.exists(args.vectorizer_file):\n",
        "    # training from a checkpoint\n",
        "    dataset = NMTDataset.load_dataset_and_load_vectorizer(args.dataset_csv,\n",
        "                                                          args.vectorizer_file)\n",
        "else:\n",
        "    # create dataset and vectorizer\n",
        "    dataset = NMTDataset.load_dataset_and_make_vectorizer(args.dataset_csv)\n",
        "    dataset.save_vectorizer(args.vectorizer_file)\n",
        "\n",
        "vectorizer = dataset.get_vectorizer()"
      ],
      "execution_count": null,
      "outputs": []
    },
    {
      "cell_type": "code",
      "metadata": {
        "colab": {
          "base_uri": "https://localhost:8080/"
        },
        "id": "5PdhSddSt-1N",
        "outputId": "b8b06c53-04e2-4f6d-da75-80f867ee18eb"
      },
      "source": [
        "model = NMTModel(source_vocab_size=len(vectorizer.source_vocab), \n",
        "                 source_embedding_size=args.source_embedding_size, \n",
        "                 target_vocab_size=len(vectorizer.target_vocab),\n",
        "                 target_embedding_size=args.target_embedding_size, \n",
        "                 encoding_size=args.encoding_size,\n",
        "                 target_bos_index=vectorizer.target_vocab.begin_seq_index)\n",
        "\n",
        "if args.reload_from_files and os.path.exists(args.model_state_file):\n",
        "    model.load_state_dict(torch.load(args.model_state_file))\n",
        "    print(\"Reloaded model\")\n",
        "else:\n",
        "    print(\"New model\")"
      ],
      "execution_count": null,
      "outputs": [
        {
          "output_type": "stream",
          "text": [
            "New model\n"
          ],
          "name": "stdout"
        }
      ]
    },
    {
      "cell_type": "code",
      "metadata": {
        "colab": {
          "base_uri": "https://localhost:8080/",
          "referenced_widgets": [
            "e2e1d0d4e4914026bea7d6645986c449",
            "f9343c83122548aa9f6dc45bb13704b7",
            "5b3fc2e343cb4f7ab7a06e39d525afe3"
          ]
        },
        "id": "V0DGEJF6t-1N",
        "outputId": "b5ee6332-fdb9-4431-f4a4-392879797492"
      },
      "source": [
        "model = model.to(args.device)\n",
        "\n",
        "optimizer = optim.Adam(model.parameters(), lr=args.learning_rate)\n",
        "scheduler = optim.lr_scheduler.ReduceLROnPlateau(optimizer=optimizer,\n",
        "                                           mode='min', factor=0.5,\n",
        "                                           patience=1)\n",
        "mask_index = vectorizer.target_vocab.mask_index\n",
        "train_state = make_train_state(args)\n",
        "\n",
        "epoch_bar = tqdm_notebook(desc='training routine', \n",
        "                          total=args.num_epochs,\n",
        "                          position=0)\n",
        "\n",
        "dataset.set_split('train')\n",
        "train_bar = tqdm_notebook(desc='split=train',\n",
        "                          total=dataset.get_num_batches(args.batch_size), \n",
        "                          position=1, \n",
        "                          leave=True)\n",
        "dataset.set_split('val')\n",
        "val_bar = tqdm_notebook(desc='split=val',\n",
        "                        total=dataset.get_num_batches(args.batch_size), \n",
        "                        position=1, \n",
        "                        leave=True)\n",
        "\n",
        "try:\n",
        "    for epoch_index in range(args.num_epochs):\n",
        "        train_state['epoch_index'] = epoch_index\n",
        "\n",
        "        # Iterate over training dataset\n",
        "\n",
        "        # setup: batch generator, set loss and acc to 0, set train mode on\n",
        "        dataset.set_split('train')\n",
        "        batch_generator = generate_nmt_batches(dataset, \n",
        "                                               batch_size=args.batch_size, \n",
        "                                               device=args.device)\n",
        "        running_loss = 0.0\n",
        "        running_acc = 0.0\n",
        "        model.train()\n",
        "        \n",
        "        for batch_index, batch_dict in enumerate(batch_generator):\n",
        "            # the training routine is these 5 steps:\n",
        "\n",
        "            # --------------------------------------    \n",
        "            # step 1. zero the gradients\n",
        "            optimizer.zero_grad()\n",
        "\n",
        "            # step 2. compute the output\n",
        "            y_pred = model(batch_dict['x_source'], \n",
        "                           batch_dict['x_source_length'], \n",
        "                           batch_dict['x_target'])\n",
        "\n",
        "            # step 3. compute the loss\n",
        "            loss = sequence_loss(y_pred, batch_dict['y_target'], mask_index)\n",
        "\n",
        "            # step 4. use loss to produce gradients\n",
        "            loss.backward()\n",
        "\n",
        "            # step 5. use optimizer to take gradient step\n",
        "            optimizer.step()\n",
        "            # -----------------------------------------\n",
        "            # compute the running loss and running accuracy\n",
        "            running_loss += (loss.item() - running_loss) / (batch_index + 1)\n",
        "\n",
        "            acc_t = compute_accuracy(y_pred, batch_dict['y_target'], mask_index)\n",
        "            running_acc += (acc_t - running_acc) / (batch_index + 1)\n",
        "            \n",
        "            # update bar\n",
        "            train_bar.set_postfix(loss=running_loss, acc=running_acc, \n",
        "                            epoch=epoch_index)\n",
        "            train_bar.update()\n",
        "\n",
        "        train_state['train_loss'].append(running_loss)\n",
        "        train_state['train_acc'].append(running_acc)\n",
        "\n",
        "        # Iterate over val dataset\n",
        "\n",
        "        # setup: batch generator, set loss and acc to 0; set eval mode on\n",
        "        dataset.set_split('val')\n",
        "        batch_generator = generate_nmt_batches(dataset, \n",
        "                                               batch_size=args.batch_size, \n",
        "                                               device=args.device)\n",
        "        running_loss = 0.\n",
        "        running_acc = 0.\n",
        "        model.eval()\n",
        "\n",
        "        for batch_index, batch_dict in enumerate(batch_generator):\n",
        "            # compute the output\n",
        "            y_pred = model(batch_dict['x_source'], \n",
        "                           batch_dict['x_source_length'], \n",
        "                           batch_dict['x_target'])\n",
        "\n",
        "            # step 3. compute the loss\n",
        "            loss = sequence_loss(y_pred, batch_dict['y_target'], mask_index)\n",
        "\n",
        "            # compute the running loss and accuracy\n",
        "            running_loss += (loss.item() - running_loss) / (batch_index + 1)\n",
        "            \n",
        "            acc_t = compute_accuracy(y_pred, batch_dict['y_target'], mask_index)\n",
        "            running_acc += (acc_t - running_acc) / (batch_index + 1)\n",
        "            \n",
        "            # Update bar\n",
        "            val_bar.set_postfix(loss=running_loss, acc=running_acc, \n",
        "                            epoch=epoch_index)\n",
        "            val_bar.update()\n",
        "\n",
        "        train_state['val_loss'].append(running_loss)\n",
        "        train_state['val_acc'].append(running_acc)\n",
        "\n",
        "        train_state = update_train_state(args=args, model=model, \n",
        "                                         train_state=train_state)\n",
        "\n",
        "        scheduler.step(train_state['val_loss'][-1])\n",
        "\n",
        "        if train_state['stop_early']:\n",
        "            break\n",
        "            \n",
        "        train_bar.n = 0\n",
        "        val_bar.n = 0\n",
        "        epoch_bar.set_postfix(best_val=train_state['early_stopping_best_val'] )\n",
        "        epoch_bar.update()\n",
        "        \n",
        "except KeyboardInterrupt:\n",
        "    print(\"Exiting loop\")"
      ],
      "execution_count": null,
      "outputs": [
        {
          "output_type": "stream",
          "text": [
            "/usr/local/lib/python3.6/dist-packages/ipykernel_launcher.py:12: TqdmDeprecationWarning: This function will be removed in tqdm==5.0.0\n",
            "Please use `tqdm.notebook.tqdm` instead of `tqdm.tqdm_notebook`\n",
            "  if sys.path[0] == '':\n"
          ],
          "name": "stderr"
        },
        {
          "output_type": "display_data",
          "data": {
            "application/vnd.jupyter.widget-view+json": {
              "model_id": "e2e1d0d4e4914026bea7d6645986c449",
              "version_minor": 0,
              "version_major": 2
            },
            "text/plain": [
              "HBox(children=(FloatProgress(value=0.0, description='training routine', style=ProgressStyle(description_width=…"
            ]
          },
          "metadata": {
            "tags": []
          }
        },
        {
          "output_type": "stream",
          "text": [
            "/usr/local/lib/python3.6/dist-packages/ipykernel_launcher.py:18: TqdmDeprecationWarning: This function will be removed in tqdm==5.0.0\n",
            "Please use `tqdm.notebook.tqdm` instead of `tqdm.tqdm_notebook`\n"
          ],
          "name": "stderr"
        },
        {
          "output_type": "display_data",
          "data": {
            "application/vnd.jupyter.widget-view+json": {
              "model_id": "f9343c83122548aa9f6dc45bb13704b7",
              "version_minor": 0,
              "version_major": 2
            },
            "text/plain": [
              "HBox(children=(FloatProgress(value=0.0, description='split=train', max=142.0, style=ProgressStyle(description_…"
            ]
          },
          "metadata": {
            "tags": []
          }
        },
        {
          "output_type": "stream",
          "text": [
            "/usr/local/lib/python3.6/dist-packages/ipykernel_launcher.py:23: TqdmDeprecationWarning: This function will be removed in tqdm==5.0.0\n",
            "Please use `tqdm.notebook.tqdm` instead of `tqdm.tqdm_notebook`\n"
          ],
          "name": "stderr"
        },
        {
          "output_type": "display_data",
          "data": {
            "application/vnd.jupyter.widget-view+json": {
              "model_id": "5b3fc2e343cb4f7ab7a06e39d525afe3",
              "version_minor": 0,
              "version_major": 2
            },
            "text/plain": [
              "HBox(children=(FloatProgress(value=0.0, description='split=val', max=30.0, style=ProgressStyle(description_wid…"
            ]
          },
          "metadata": {
            "tags": []
          }
        },
        {
          "output_type": "stream",
          "text": [
            "Exiting loop\n"
          ],
          "name": "stdout"
        }
      ]
    },
    {
      "cell_type": "code",
      "metadata": {
        "id": "QaQ_RtcLt-1O",
        "outputId": "b9f2bbd7-8b2c-4968-e811-f21bb8180d40"
      },
      "source": [
        "model.eval()"
      ],
      "execution_count": null,
      "outputs": [
        {
          "output_type": "error",
          "ename": "NameError",
          "evalue": "name 'model' is not defined",
          "traceback": [
            "\u001b[0;31m---------------------------------------------------------------------------\u001b[0m",
            "\u001b[0;31mNameError\u001b[0m                                 Traceback (most recent call last)",
            "\u001b[0;32m<ipython-input-20-67f96fad7f04>\u001b[0m in \u001b[0;36m<module>\u001b[0;34m\u001b[0m\n\u001b[0;32m----> 1\u001b[0;31m \u001b[0mmodel\u001b[0m\u001b[0;34m.\u001b[0m\u001b[0meval\u001b[0m\u001b[0;34m(\u001b[0m\u001b[0;34m)\u001b[0m\u001b[0;34m\u001b[0m\u001b[0;34m\u001b[0m\u001b[0m\n\u001b[0m",
            "\u001b[0;31mNameError\u001b[0m: name 'model' is not defined"
          ]
        }
      ]
    },
    {
      "cell_type": "code",
      "metadata": {
        "id": "e8xZL1IZt-1O",
        "outputId": "40d22454-c1fc-4b48-b499-b33b8a71737b"
      },
      "source": [
        "from nltk.translate import bleu_score\n",
        "import seaborn as sns\n",
        "import matplotlib.pyplot as plt\n",
        "\n",
        "chencherry = bleu_score.SmoothingFunction()"
      ],
      "execution_count": null,
      "outputs": [
        {
          "output_type": "error",
          "ename": "ModuleNotFoundError",
          "evalue": "No module named 'seaborn'",
          "traceback": [
            "\u001b[0;31m---------------------------------------------------------------------------\u001b[0m",
            "\u001b[0;31mModuleNotFoundError\u001b[0m                       Traceback (most recent call last)",
            "\u001b[0;32m<ipython-input-21-cafc3ef4cddf>\u001b[0m in \u001b[0;36m<module>\u001b[0;34m\u001b[0m\n\u001b[1;32m      1\u001b[0m \u001b[0;32mfrom\u001b[0m \u001b[0mnltk\u001b[0m\u001b[0;34m.\u001b[0m\u001b[0mtranslate\u001b[0m \u001b[0;32mimport\u001b[0m \u001b[0mbleu_score\u001b[0m\u001b[0;34m\u001b[0m\u001b[0;34m\u001b[0m\u001b[0m\n\u001b[0;32m----> 2\u001b[0;31m \u001b[0;32mimport\u001b[0m \u001b[0mseaborn\u001b[0m \u001b[0;32mas\u001b[0m \u001b[0msns\u001b[0m\u001b[0;34m\u001b[0m\u001b[0;34m\u001b[0m\u001b[0m\n\u001b[0m\u001b[1;32m      3\u001b[0m \u001b[0;32mimport\u001b[0m \u001b[0mmatplotlib\u001b[0m\u001b[0;34m.\u001b[0m\u001b[0mpyplot\u001b[0m \u001b[0;32mas\u001b[0m \u001b[0mplt\u001b[0m\u001b[0;34m\u001b[0m\u001b[0;34m\u001b[0m\u001b[0m\n\u001b[1;32m      4\u001b[0m \u001b[0;34m\u001b[0m\u001b[0m\n\u001b[1;32m      5\u001b[0m \u001b[0mchencherry\u001b[0m \u001b[0;34m=\u001b[0m \u001b[0mbleu_score\u001b[0m\u001b[0;34m.\u001b[0m\u001b[0mSmoothingFunction\u001b[0m\u001b[0;34m(\u001b[0m\u001b[0;34m)\u001b[0m\u001b[0;34m\u001b[0m\u001b[0;34m\u001b[0m\u001b[0m\n",
            "\u001b[0;31mModuleNotFoundError\u001b[0m: No module named 'seaborn'"
          ]
        }
      ]
    },
    {
      "cell_type": "code",
      "metadata": {
        "id": "BbFUWyJxt-1O"
      },
      "source": [
        "def sentence_from_indices(indices, vocab, strict=True, return_string=True):\n",
        "    ignore_indices = set([vocab.mask_index, vocab.begin_seq_index, vocab.end_seq_index])\n",
        "    out = []\n",
        "    for index in indices:\n",
        "        if index == vocab.begin_seq_index and strict:\n",
        "            continue\n",
        "        elif index == vocab.end_seq_index and strict:\n",
        "            break\n",
        "        else:\n",
        "            out.append(vocab.lookup_index(index))\n",
        "    if return_string:\n",
        "        return \" \".join(out)\n",
        "    else:\n",
        "        return out\n",
        "    \n",
        "class NMTSampler:\n",
        "    def __init__(self, vectorizer, model):\n",
        "        self.vectorizer = vectorizer\n",
        "        self.model = model\n",
        "    \n",
        "    def apply_to_batch(self, batch_dict):\n",
        "        self._last_batch = batch_dict\n",
        "        y_pred = self.model(x_source=batch_dict['x_source'], \n",
        "                            x_source_lengths=batch_dict['x_source_length'], \n",
        "                            target_sequence=batch_dict['x_target'])\n",
        "        self._last_batch['y_pred'] = y_pred\n",
        "        \n",
        "        attention_batched = np.stack(self.model.decoder._cached_p_attn).transpose(1, 0, 2)\n",
        "        self._last_batch['attention'] = attention_batched\n",
        "        \n",
        "    def _get_source_sentence(self, index, return_string=True):\n",
        "        indices = self._last_batch['x_source'][index].cpu().detach().numpy()\n",
        "        vocab = self.vectorizer.source_vocab\n",
        "        return sentence_from_indices(indices, vocab, return_string=return_string)\n",
        "\n",
        "    def _get_reference_sentence(self, index, return_string=True):\n",
        "        indices = self._last_batch['y_target'][index].cpu().detach().numpy()\n",
        "        vocab = self.vectorizer.target_vocab\n",
        "        return sentence_from_indices(indices, vocab, return_string=return_string)\n",
        "    \n",
        "    def _get_sampled_sentence(self, index, return_string=True):\n",
        "        _, all_indices = torch.max(self._last_batch['y_pred'], dim=2)\n",
        "        sentence_indices = all_indices[index].cpu().detach().numpy()\n",
        "        vocab = self.vectorizer.target_vocab\n",
        "        return sentence_from_indices(sentence_indices, vocab, return_string=return_string)\n",
        "\n",
        "    def get_ith_item(self, index, return_string=True):\n",
        "        output = {\"source\": self._get_source_sentence(index, return_string=return_string), \n",
        "                  \"reference\": self._get_reference_sentence(index, return_string=return_string), \n",
        "                  \"sampled\": self._get_sampled_sentence(index, return_string=return_string),\n",
        "                  \"attention\": self._last_batch['attention'][index]}\n",
        "        \n",
        "        reference = output['reference']\n",
        "        hypothesis = output['sampled']\n",
        "        \n",
        "        if not return_string:\n",
        "            reference = \" \".join(reference)\n",
        "            hypothesis = \" \".join(hypothesis)\n",
        "        \n",
        "        output['bleu-4'] = bleu_score.sentence_bleu(references=[reference],\n",
        "                                                    hypothesis=hypothesis,\n",
        "                                                    smoothing_function=chencherry.method1)\n",
        "        \n",
        "        return output"
      ],
      "execution_count": null,
      "outputs": []
    },
    {
      "cell_type": "code",
      "metadata": {
        "id": "gRkXmyhkt-1O",
        "outputId": "9dcda0ae-3857-4e25-9969-1f2bfce643e8"
      },
      "source": [
        "model = model.eval().to(args.device)\n",
        "\n",
        "sampler = NMTSampler(vectorizer, model)\n",
        "\n",
        "dataset.set_split('test')\n",
        "batch_generator = generate_nmt_batches(dataset, \n",
        "                                       batch_size=args.batch_size, \n",
        "                                       device=args.device)\n",
        "\n",
        "test_results = []\n",
        "for batch_dict in batch_generator:\n",
        "    sampler.apply_to_batch(batch_dict)\n",
        "    for i in range(args.batch_size):\n",
        "        test_results.append(sampler.get_ith_item(i, False))"
      ],
      "execution_count": null,
      "outputs": [
        {
          "output_type": "error",
          "ename": "NameError",
          "evalue": "name 'model' is not defined",
          "traceback": [
            "\u001b[0;31m---------------------------------------------------------------------------\u001b[0m",
            "\u001b[0;31mNameError\u001b[0m                                 Traceback (most recent call last)",
            "\u001b[0;32m<ipython-input-23-7dc56a612bd5>\u001b[0m in \u001b[0;36m<module>\u001b[0;34m\u001b[0m\n\u001b[0;32m----> 1\u001b[0;31m \u001b[0mmodel\u001b[0m \u001b[0;34m=\u001b[0m \u001b[0mmodel\u001b[0m\u001b[0;34m.\u001b[0m\u001b[0meval\u001b[0m\u001b[0;34m(\u001b[0m\u001b[0;34m)\u001b[0m\u001b[0;34m.\u001b[0m\u001b[0mto\u001b[0m\u001b[0;34m(\u001b[0m\u001b[0margs\u001b[0m\u001b[0;34m.\u001b[0m\u001b[0mdevice\u001b[0m\u001b[0;34m)\u001b[0m\u001b[0;34m\u001b[0m\u001b[0;34m\u001b[0m\u001b[0m\n\u001b[0m\u001b[1;32m      2\u001b[0m \u001b[0;34m\u001b[0m\u001b[0m\n\u001b[1;32m      3\u001b[0m \u001b[0msampler\u001b[0m \u001b[0;34m=\u001b[0m \u001b[0mNMTSampler\u001b[0m\u001b[0;34m(\u001b[0m\u001b[0mvectorizer\u001b[0m\u001b[0;34m,\u001b[0m \u001b[0mmodel\u001b[0m\u001b[0;34m)\u001b[0m\u001b[0;34m\u001b[0m\u001b[0;34m\u001b[0m\u001b[0m\n\u001b[1;32m      4\u001b[0m \u001b[0;34m\u001b[0m\u001b[0m\n\u001b[1;32m      5\u001b[0m \u001b[0mdataset\u001b[0m\u001b[0;34m.\u001b[0m\u001b[0mset_split\u001b[0m\u001b[0;34m(\u001b[0m\u001b[0;34m'test'\u001b[0m\u001b[0;34m)\u001b[0m\u001b[0;34m\u001b[0m\u001b[0;34m\u001b[0m\u001b[0m\n",
            "\u001b[0;31mNameError\u001b[0m: name 'model' is not defined"
          ]
        }
      ]
    },
    {
      "cell_type": "code",
      "metadata": {
        "id": "ooorIq6st-1O",
        "outputId": "8d9dd6a2-46b1-4f1d-bfd8-5979d0470462"
      },
      "source": [
        "plt.hist([r['bleu-4'] for r in test_results], bins=100);\n",
        "np.mean([r['bleu-4'] for r in test_results]), np.median([r['bleu-4'] for r in test_results])"
      ],
      "execution_count": null,
      "outputs": [
        {
          "output_type": "error",
          "ename": "NameError",
          "evalue": "name 'plt' is not defined",
          "traceback": [
            "\u001b[0;31m---------------------------------------------------------------------------\u001b[0m",
            "\u001b[0;31mNameError\u001b[0m                                 Traceback (most recent call last)",
            "\u001b[0;32m<ipython-input-24-118e0a3b66ea>\u001b[0m in \u001b[0;36m<module>\u001b[0;34m\u001b[0m\n\u001b[0;32m----> 1\u001b[0;31m \u001b[0mplt\u001b[0m\u001b[0;34m.\u001b[0m\u001b[0mhist\u001b[0m\u001b[0;34m(\u001b[0m\u001b[0;34m[\u001b[0m\u001b[0mr\u001b[0m\u001b[0;34m[\u001b[0m\u001b[0;34m'bleu-4'\u001b[0m\u001b[0;34m]\u001b[0m \u001b[0;32mfor\u001b[0m \u001b[0mr\u001b[0m \u001b[0;32min\u001b[0m \u001b[0mtest_results\u001b[0m\u001b[0;34m]\u001b[0m\u001b[0;34m,\u001b[0m \u001b[0mbins\u001b[0m\u001b[0;34m=\u001b[0m\u001b[0;36m100\u001b[0m\u001b[0;34m)\u001b[0m\u001b[0;34m;\u001b[0m\u001b[0;34m\u001b[0m\u001b[0;34m\u001b[0m\u001b[0m\n\u001b[0m\u001b[1;32m      2\u001b[0m \u001b[0mnp\u001b[0m\u001b[0;34m.\u001b[0m\u001b[0mmean\u001b[0m\u001b[0;34m(\u001b[0m\u001b[0;34m[\u001b[0m\u001b[0mr\u001b[0m\u001b[0;34m[\u001b[0m\u001b[0;34m'bleu-4'\u001b[0m\u001b[0;34m]\u001b[0m \u001b[0;32mfor\u001b[0m \u001b[0mr\u001b[0m \u001b[0;32min\u001b[0m \u001b[0mtest_results\u001b[0m\u001b[0;34m]\u001b[0m\u001b[0;34m)\u001b[0m\u001b[0;34m,\u001b[0m \u001b[0mnp\u001b[0m\u001b[0;34m.\u001b[0m\u001b[0mmedian\u001b[0m\u001b[0;34m(\u001b[0m\u001b[0;34m[\u001b[0m\u001b[0mr\u001b[0m\u001b[0;34m[\u001b[0m\u001b[0;34m'bleu-4'\u001b[0m\u001b[0;34m]\u001b[0m \u001b[0;32mfor\u001b[0m \u001b[0mr\u001b[0m \u001b[0;32min\u001b[0m \u001b[0mtest_results\u001b[0m\u001b[0;34m]\u001b[0m\u001b[0;34m)\u001b[0m\u001b[0;34m\u001b[0m\u001b[0;34m\u001b[0m\u001b[0m\n",
            "\u001b[0;31mNameError\u001b[0m: name 'plt' is not defined"
          ]
        }
      ]
    },
    {
      "cell_type": "code",
      "metadata": {
        "id": "u6IewScKt-1O",
        "outputId": "f1f33c8e-6896-4d51-fca6-a47fe35877c7"
      },
      "source": [
        "dataset.set_split('val')\n",
        "batch_generator = generate_nmt_batches(dataset, \n",
        "                                       batch_size=args.batch_size, \n",
        "                                       device=args.device)\n",
        "batch_dict = next(batch_generator)\n",
        "\n",
        "model = model.eval().to(args.device)\n",
        "sampler = NMTSampler(vectorizer, model)\n",
        "sampler.apply_to_batch(batch_dict)"
      ],
      "execution_count": null,
      "outputs": [
        {
          "output_type": "error",
          "ename": "NameError",
          "evalue": "name 'dataset' is not defined",
          "traceback": [
            "\u001b[0;31m---------------------------------------------------------------------------\u001b[0m",
            "\u001b[0;31mNameError\u001b[0m                                 Traceback (most recent call last)",
            "\u001b[0;32m<ipython-input-26-862058b77b3e>\u001b[0m in \u001b[0;36m<module>\u001b[0;34m\u001b[0m\n\u001b[0;32m----> 1\u001b[0;31m \u001b[0mdataset\u001b[0m\u001b[0;34m.\u001b[0m\u001b[0mset_split\u001b[0m\u001b[0;34m(\u001b[0m\u001b[0;34m'val'\u001b[0m\u001b[0;34m)\u001b[0m\u001b[0;34m\u001b[0m\u001b[0;34m\u001b[0m\u001b[0m\n\u001b[0m\u001b[1;32m      2\u001b[0m batch_generator = generate_nmt_batches(dataset, \n\u001b[1;32m      3\u001b[0m                                        \u001b[0mbatch_size\u001b[0m\u001b[0;34m=\u001b[0m\u001b[0margs\u001b[0m\u001b[0;34m.\u001b[0m\u001b[0mbatch_size\u001b[0m\u001b[0;34m,\u001b[0m\u001b[0;34m\u001b[0m\u001b[0;34m\u001b[0m\u001b[0m\n\u001b[1;32m      4\u001b[0m                                        device=args.device)\n\u001b[1;32m      5\u001b[0m \u001b[0mbatch_dict\u001b[0m \u001b[0;34m=\u001b[0m \u001b[0mnext\u001b[0m\u001b[0;34m(\u001b[0m\u001b[0mbatch_generator\u001b[0m\u001b[0;34m)\u001b[0m\u001b[0;34m\u001b[0m\u001b[0;34m\u001b[0m\u001b[0m\n",
            "\u001b[0;31mNameError\u001b[0m: name 'dataset' is not defined"
          ]
        }
      ]
    },
    {
      "cell_type": "code",
      "metadata": {
        "id": "W-_7PbCIt-1P",
        "outputId": "0a27dd6f-0368-459c-bd71-bedfbf12795c"
      },
      "source": [
        "all_results = []\n",
        "for i in range(args.batch_size):\n",
        "    all_results.append(sampler.get_ith_item(i, False))"
      ],
      "execution_count": null,
      "outputs": [
        {
          "output_type": "error",
          "ename": "NameError",
          "evalue": "name 'sampler' is not defined",
          "traceback": [
            "\u001b[0;31m---------------------------------------------------------------------------\u001b[0m",
            "\u001b[0;31mNameError\u001b[0m                                 Traceback (most recent call last)",
            "\u001b[0;32m<ipython-input-27-3acc57483235>\u001b[0m in \u001b[0;36m<module>\u001b[0;34m\u001b[0m\n\u001b[1;32m      1\u001b[0m \u001b[0mall_results\u001b[0m \u001b[0;34m=\u001b[0m \u001b[0;34m[\u001b[0m\u001b[0;34m]\u001b[0m\u001b[0;34m\u001b[0m\u001b[0;34m\u001b[0m\u001b[0m\n\u001b[1;32m      2\u001b[0m \u001b[0;32mfor\u001b[0m \u001b[0mi\u001b[0m \u001b[0;32min\u001b[0m \u001b[0mrange\u001b[0m\u001b[0;34m(\u001b[0m\u001b[0margs\u001b[0m\u001b[0;34m.\u001b[0m\u001b[0mbatch_size\u001b[0m\u001b[0;34m)\u001b[0m\u001b[0;34m:\u001b[0m\u001b[0;34m\u001b[0m\u001b[0;34m\u001b[0m\u001b[0m\n\u001b[0;32m----> 3\u001b[0;31m     \u001b[0mall_results\u001b[0m\u001b[0;34m.\u001b[0m\u001b[0mappend\u001b[0m\u001b[0;34m(\u001b[0m\u001b[0msampler\u001b[0m\u001b[0;34m.\u001b[0m\u001b[0mget_ith_item\u001b[0m\u001b[0;34m(\u001b[0m\u001b[0mi\u001b[0m\u001b[0;34m,\u001b[0m \u001b[0;32mFalse\u001b[0m\u001b[0;34m)\u001b[0m\u001b[0;34m)\u001b[0m\u001b[0;34m\u001b[0m\u001b[0;34m\u001b[0m\u001b[0m\n\u001b[0m",
            "\u001b[0;31mNameError\u001b[0m: name 'sampler' is not defined"
          ]
        }
      ]
    },
    {
      "cell_type": "code",
      "metadata": {
        "id": "rsgN4-KDt-1P",
        "outputId": "ff3b49f3-8e59-4724-db92-7f5367e32f13"
      },
      "source": [
        "top_results = [x for x in all_results if x['bleu-4']>0.1]\n",
        "len(top_results)"
      ],
      "execution_count": null,
      "outputs": [
        {
          "output_type": "execute_result",
          "data": {
            "text/plain": [
              "0"
            ]
          },
          "metadata": {
            "tags": []
          },
          "execution_count": 28
        }
      ]
    },
    {
      "cell_type": "code",
      "metadata": {
        "id": "kSe4kNJit-1P"
      },
      "source": [
        "for sample in top_results:\n",
        "    plt.figure()\n",
        "    target_len = len(sample['sampled'])\n",
        "    source_len = len(sample['source'])\n",
        "\n",
        "    attention_matrix = sample['attention'][:target_len, :source_len+2].transpose()#[::-1]\n",
        "    ax = sns.heatmap(attention_matrix, center=0.0)\n",
        "    ylabs = [\"<BOS>\"]+sample['source']+[\"<EOS>\"]\n",
        "    #ylabs = sample['source']\n",
        "    #ylabs = ylabs[::-1]\n",
        "    ax.set_yticklabels(ylabs, rotation=0)\n",
        "    ax.set_xticklabels(sample['sampled'], rotation=90)\n",
        "    ax.set_xlabel(\"Target Sentence\")\n",
        "    ax.set_ylabel(\"Source Sentence\\n\\n\")"
      ],
      "execution_count": null,
      "outputs": []
    },
    {
      "cell_type": "code",
      "metadata": {
        "id": "BxpEWS00t-1P",
        "outputId": "1c19a628-66e7-459a-c7be-d101de09f393"
      },
      "source": [
        "def get_source_sentence(vectorizer, batch_dict, index):\n",
        "    indices = batch_dict['x_source'][index].cpu().data.numpy()\n",
        "    vocab = vectorizer.source_vocab\n",
        "    return sentence_from_indices(indices, vocab)\n",
        "\n",
        "def get_true_sentence(vectorizer, batch_dict, index):\n",
        "    return sentence_from_indices(batch_dict['y_target'].cpu().data.numpy()[index], vectorizer.target_vocab)\n",
        "    \n",
        "def get_sampled_sentence(vectorizer, batch_dict, index):\n",
        "    y_pred = model(x_source=batch_dict['x_source'], \n",
        "                   x_source_lengths=batch_dict['x_source_length'], \n",
        "                   target_sequence=batch_dict['x_target'])\n",
        "    return sentence_from_indices(torch.max(y_pred, dim=2)[1].cpu().data.numpy()[index], vectorizer.target_vocab)\n",
        "\n",
        "def get_all_sentences(vectorizer, batch_dict, index):\n",
        "    return {\"source\": get_source_sentence(vectorizer, batch_dict, index), \n",
        "            \"truth\": get_true_sentence(vectorizer, batch_dict, index), \n",
        "            \"sampled\": get_sampled_sentence(vectorizer, batch_dict, index)}\n",
        "    \n",
        "def sentence_from_indices(indices, vocab, strict=True):\n",
        "    ignore_indices = set([vocab.mask_index, vocab.begin_seq_index, vocab.end_seq_index])\n",
        "    out = []\n",
        "    for index in indices:\n",
        "        if index == vocab.begin_seq_index and strict:\n",
        "            continue\n",
        "        elif index == vocab.end_seq_index and strict:\n",
        "            return \" \".join(out)\n",
        "        else:\n",
        "            out.append(vocab.lookup_index(index))\n",
        "    return \" \".join(out)\n",
        "\n",
        "results = get_all_sentences(vectorizer, batch_dict, 1)\n",
        "results"
      ],
      "execution_count": null,
      "outputs": [
        {
          "output_type": "error",
          "ename": "NameError",
          "evalue": "name 'vectorizer' is not defined",
          "traceback": [
            "\u001b[0;31m---------------------------------------------------------------------------\u001b[0m",
            "\u001b[0;31mNameError\u001b[0m                                 Traceback (most recent call last)",
            "\u001b[0;32m<ipython-input-30-514c3ea8f5da>\u001b[0m in \u001b[0;36m<module>\u001b[0;34m\u001b[0m\n\u001b[1;32m     30\u001b[0m     \u001b[0;32mreturn\u001b[0m \u001b[0;34m\" \"\u001b[0m\u001b[0;34m.\u001b[0m\u001b[0mjoin\u001b[0m\u001b[0;34m(\u001b[0m\u001b[0mout\u001b[0m\u001b[0;34m)\u001b[0m\u001b[0;34m\u001b[0m\u001b[0;34m\u001b[0m\u001b[0m\n\u001b[1;32m     31\u001b[0m \u001b[0;34m\u001b[0m\u001b[0m\n\u001b[0;32m---> 32\u001b[0;31m \u001b[0mresults\u001b[0m \u001b[0;34m=\u001b[0m \u001b[0mget_all_sentences\u001b[0m\u001b[0;34m(\u001b[0m\u001b[0mvectorizer\u001b[0m\u001b[0;34m,\u001b[0m \u001b[0mbatch_dict\u001b[0m\u001b[0;34m,\u001b[0m \u001b[0;36m1\u001b[0m\u001b[0;34m)\u001b[0m\u001b[0;34m\u001b[0m\u001b[0;34m\u001b[0m\u001b[0m\n\u001b[0m\u001b[1;32m     33\u001b[0m \u001b[0mresults\u001b[0m\u001b[0;34m\u001b[0m\u001b[0;34m\u001b[0m\u001b[0m\n",
            "\u001b[0;31mNameError\u001b[0m: name 'vectorizer' is not defined"
          ]
        }
      ]
    },
    {
      "cell_type": "markdown",
      "metadata": {
        "id": "cEDKedOrt-1P"
      },
      "source": [
        "### scheduled_sampling"
      ]
    },
    {
      "cell_type": "code",
      "metadata": {
        "id": "YDzUOZvwt-1Q"
      },
      "source": [
        "import os\n",
        "from argparse import Namespace\n",
        "from collections import Counter\n",
        "import json\n",
        "import re\n",
        "import string\n",
        "\n",
        "import numpy as np\n",
        "import pandas as pd\n",
        "import torch\n",
        "import torch.nn as nn\n",
        "from torch.nn import functional as F\n",
        "from torch.nn.utils.rnn import pack_padded_sequence, pad_packed_sequence\n",
        "import torch.optim as optim\n",
        "from torch.utils.data import Dataset, DataLoader\n",
        "from tqdm import tqdm_notebook"
      ],
      "execution_count": null,
      "outputs": []
    },
    {
      "cell_type": "code",
      "metadata": {
        "id": "K1cCjOupt-1Q"
      },
      "source": [
        "class Vocabulary(object):\n",
        "    \"\"\"Class to process text and extract vocabulary for mapping\"\"\"\n",
        "\n",
        "    def __init__(self, token_to_idx=None):\n",
        "        \"\"\"\n",
        "        Args:\n",
        "            token_to_idx (dict): a pre-existing map of tokens to indices\n",
        "        \"\"\"\n",
        "\n",
        "        if token_to_idx is None:\n",
        "            token_to_idx = {}\n",
        "        self._token_to_idx = token_to_idx\n",
        "\n",
        "        self._idx_to_token = {idx: token \n",
        "                              for token, idx in self._token_to_idx.items()}\n",
        "        \n",
        "    def to_serializable(self):\n",
        "        \"\"\" returns a dictionary that can be serialized \"\"\"\n",
        "        return {'token_to_idx': self._token_to_idx}\n",
        "\n",
        "    @classmethod\n",
        "    def from_serializable(cls, contents):\n",
        "        \"\"\" instantiates the Vocabulary from a serialized dictionary \"\"\"\n",
        "        return cls(**contents)\n",
        "\n",
        "    def add_token(self, token):\n",
        "        \"\"\"Update mapping dicts based on the token.\n",
        "\n",
        "        Args:\n",
        "            token (str): the item to add into the Vocabulary\n",
        "        Returns:\n",
        "            index (int): the integer corresponding to the token\n",
        "        \"\"\"\n",
        "        if token in self._token_to_idx:\n",
        "            index = self._token_to_idx[token]\n",
        "        else:\n",
        "            index = len(self._token_to_idx)\n",
        "            self._token_to_idx[token] = index\n",
        "            self._idx_to_token[index] = token\n",
        "        return index\n",
        "            \n",
        "    def add_many(self, tokens):\n",
        "        \"\"\"Add a list of tokens into the Vocabulary\n",
        "        \n",
        "        Args:\n",
        "            tokens (list): a list of string tokens\n",
        "        Returns:\n",
        "            indices (list): a list of indices corresponding to the tokens\n",
        "        \"\"\"\n",
        "        return [self.add_token(token) for token in tokens]\n",
        "\n",
        "    def lookup_token(self, token):\n",
        "        \"\"\"Retrieve the index associated with the token \n",
        "        \n",
        "        Args:\n",
        "            token (str): the token to look up \n",
        "        Returns:\n",
        "            index (int): the index corresponding to the token\n",
        "        \"\"\"\n",
        "        return self._token_to_idx[token]\n",
        "\n",
        "    def lookup_index(self, index):\n",
        "        \"\"\"Return the token associated with the index\n",
        "        \n",
        "        Args: \n",
        "            index (int): the index to look up\n",
        "        Returns:\n",
        "            token (str): the token corresponding to the index\n",
        "        Raises:\n",
        "            KeyError: if the index is not in the Vocabulary\n",
        "        \"\"\"\n",
        "        if index not in self._idx_to_token:\n",
        "            raise KeyError(\"the index (%d) is not in the Vocabulary\" % index)\n",
        "        return self._idx_to_token[index]\n",
        "\n",
        "    def __str__(self):\n",
        "        return \"<Vocabulary(size=%d)>\" % len(self)\n",
        "\n",
        "    def __len__(self):\n",
        "        return len(self._token_to_idx)"
      ],
      "execution_count": null,
      "outputs": []
    },
    {
      "cell_type": "code",
      "metadata": {
        "id": "ZMZMv3ZIt-1Q"
      },
      "source": [
        "class SequenceVocabulary(Vocabulary):\n",
        "    def __init__(self, token_to_idx=None, unk_token=\"<UNK>\",\n",
        "                 mask_token=\"<MASK>\", begin_seq_token=\"<BEGIN>\",\n",
        "                 end_seq_token=\"<END>\"):\n",
        "\n",
        "        super(SequenceVocabulary, self).__init__(token_to_idx)\n",
        "\n",
        "        self._mask_token = mask_token\n",
        "        self._unk_token = unk_token\n",
        "        self._begin_seq_token = begin_seq_token\n",
        "        self._end_seq_token = end_seq_token\n",
        "\n",
        "        self.mask_index = self.add_token(self._mask_token)\n",
        "        self.unk_index = self.add_token(self._unk_token)\n",
        "        self.begin_seq_index = self.add_token(self._begin_seq_token)\n",
        "        self.end_seq_index = self.add_token(self._end_seq_token)\n",
        "\n",
        "    def to_serializable(self):\n",
        "        contents = super(SequenceVocabulary, self).to_serializable()\n",
        "        contents.update({'unk_token': self._unk_token,\n",
        "                         'mask_token': self._mask_token,\n",
        "                         'begin_seq_token': self._begin_seq_token,\n",
        "                         'end_seq_token': self._end_seq_token})\n",
        "        return contents\n",
        "\n",
        "    def lookup_token(self, token):\n",
        "        \"\"\"Retrieve the index associated with the token \n",
        "          or the UNK index if token isn't present.\n",
        "        \n",
        "        Args:\n",
        "            token (str): the token to look up \n",
        "        Returns:\n",
        "            index (int): the index corresponding to the token\n",
        "        Notes:\n",
        "            `unk_index` needs to be >=0 (having been added into the Vocabulary) \n",
        "              for the UNK functionality \n",
        "        \"\"\"\n",
        "        if self.unk_index >= 0:\n",
        "            return self._token_to_idx.get(token, self.unk_index)\n",
        "        else:\n",
        "            return self._token_to_idx[token]"
      ],
      "execution_count": null,
      "outputs": []
    },
    {
      "cell_type": "code",
      "metadata": {
        "id": "s_l8APO8t-1Q"
      },
      "source": [
        "class NMTVectorizer(object):\n",
        "    \"\"\" The Vectorizer which coordinates the Vocabularies and puts them to use\"\"\"        \n",
        "    def __init__(self, source_vocab, target_vocab, max_source_length, max_target_length):\n",
        "        \"\"\"\n",
        "        Args:\n",
        "            source_vocab (SequenceVocabulary): maps source words to integers\n",
        "            target_vocab (SequenceVocabulary): maps target words to integers\n",
        "            max_source_length (int): the longest sequence in the source dataset\n",
        "            max_target_length (int): the longest sequence in the target dataset\n",
        "        \"\"\"\n",
        "        self.source_vocab = source_vocab\n",
        "        self.target_vocab = target_vocab\n",
        "        \n",
        "        self.max_source_length = max_source_length\n",
        "        self.max_target_length = max_target_length\n",
        "        \n",
        "\n",
        "    def _vectorize(self, indices, vector_length=-1, mask_index=0):\n",
        "        \"\"\"Vectorize the provided indices\n",
        "        \n",
        "        Args:\n",
        "            indices (list): a list of integers that represent a sequence\n",
        "            vector_length (int): an argument for forcing the length of index vector\n",
        "            mask_index (int): the mask_index to use; almost always 0\n",
        "        \"\"\"\n",
        "        if vector_length < 0:\n",
        "            vector_length = len(indices)\n",
        "        \n",
        "        vector = np.zeros(vector_length, dtype=np.int64)\n",
        "        vector[:len(indices)] = indices\n",
        "        vector[len(indices):] = mask_index\n",
        "\n",
        "        return vector\n",
        "    \n",
        "    def _get_source_indices(self, text):\n",
        "        \"\"\"Return the vectorized source text\n",
        "        \n",
        "        Args:\n",
        "            text (str): the source text; tokens should be separated by spaces\n",
        "        Returns:\n",
        "            indices (list): list of integers representing the text\n",
        "        \"\"\"\n",
        "        indices = [self.source_vocab.begin_seq_index]\n",
        "        indices.extend(self.source_vocab.lookup_token(token) for token in text.split(\" \"))\n",
        "        indices.append(self.source_vocab.end_seq_index)\n",
        "        return indices\n",
        "    \n",
        "    def _get_target_indices(self, text):\n",
        "        \"\"\"Return the vectorized source text\n",
        "        \n",
        "        Args:\n",
        "            text (str): the source text; tokens should be separated by spaces\n",
        "        Returns:\n",
        "            a tuple: (x_indices, y_indices)\n",
        "                x_indices (list): list of integers representing the observations in target decoder \n",
        "                y_indices (list): list of integers representing predictions in target decoder\n",
        "        \"\"\"\n",
        "        indices = [self.target_vocab.lookup_token(token) for token in text.split(\" \")]\n",
        "        x_indices = [self.target_vocab.begin_seq_index] + indices\n",
        "        y_indices = indices + [self.target_vocab.end_seq_index]\n",
        "        return x_indices, y_indices\n",
        "        \n",
        "    def vectorize(self, source_text, target_text, use_dataset_max_lengths=True):\n",
        "        \"\"\"Return the vectorized source and target text\n",
        "        \n",
        "        The vetorized source text is just the a single vector.\n",
        "        The vectorized target text is split into two vectors in a similar style to \n",
        "            the surname modeling in Chapter 7.\n",
        "        At each timestep, the first vector is the observation and the second vector is the target. \n",
        "        \n",
        "        \n",
        "        Args:\n",
        "            source_text (str): text from the source language\n",
        "            target_text (str): text from the target language\n",
        "            use_dataset_max_lengths (bool): whether to use the global max vector lengths\n",
        "        Returns:\n",
        "            The vectorized data point as a dictionary with the keys: \n",
        "                source_vector, target_x_vector, target_y_vector, source_length\n",
        "        \"\"\"\n",
        "        source_vector_length = -1\n",
        "        target_vector_length = -1\n",
        "        \n",
        "        if use_dataset_max_lengths:\n",
        "            source_vector_length = self.max_source_length + 2\n",
        "            target_vector_length = self.max_target_length + 1\n",
        "            \n",
        "        source_indices = self._get_source_indices(source_text)\n",
        "        source_vector = self._vectorize(source_indices, \n",
        "                                        vector_length=source_vector_length, \n",
        "                                        mask_index=self.source_vocab.mask_index)\n",
        "        \n",
        "        target_x_indices, target_y_indices = self._get_target_indices(target_text)\n",
        "        target_x_vector = self._vectorize(target_x_indices,\n",
        "                                        vector_length=target_vector_length,\n",
        "                                        mask_index=self.target_vocab.mask_index)\n",
        "        target_y_vector = self._vectorize(target_y_indices,\n",
        "                                        vector_length=target_vector_length,\n",
        "                                        mask_index=self.target_vocab.mask_index)\n",
        "        return {\"source_vector\": source_vector, \n",
        "                \"target_x_vector\": target_x_vector, \n",
        "                \"target_y_vector\": target_y_vector, \n",
        "                \"source_length\": len(source_indices)}\n",
        "        \n",
        "    @classmethod\n",
        "    def from_dataframe(cls, bitext_df):\n",
        "        \"\"\"Instantiate the vectorizer from the dataset dataframe\n",
        "        \n",
        "        Args:\n",
        "            bitext_df (pandas.DataFrame): the parallel text dataset\n",
        "        Returns:\n",
        "            an instance of the NMTVectorizer\n",
        "        \"\"\"\n",
        "        source_vocab = SequenceVocabulary()\n",
        "        target_vocab = SequenceVocabulary()\n",
        "        \n",
        "        max_source_length = 0\n",
        "        max_target_length = 0\n",
        "\n",
        "        for _, row in bitext_df.iterrows():\n",
        "            source_tokens = row[\"source_language\"].split(\" \")\n",
        "            if len(source_tokens) > max_source_length:\n",
        "                max_source_length = len(source_tokens)\n",
        "            for token in source_tokens:\n",
        "                source_vocab.add_token(token)\n",
        "            \n",
        "            target_tokens = row[\"target_language\"].split(\" \")\n",
        "            if len(target_tokens) > max_target_length:\n",
        "                max_target_length = len(target_tokens)\n",
        "            for token in target_tokens:\n",
        "                target_vocab.add_token(token)\n",
        "            \n",
        "        return cls(source_vocab, target_vocab, max_source_length, max_target_length)\n",
        "\n",
        "    @classmethod\n",
        "    def from_serializable(cls, contents):\n",
        "        source_vocab = SequenceVocabulary.from_serializable(contents[\"source_vocab\"])\n",
        "        target_vocab = SequenceVocabulary.from_serializable(contents[\"target_vocab\"])\n",
        "        \n",
        "        return cls(source_vocab=source_vocab, \n",
        "                   target_vocab=target_vocab, \n",
        "                   max_source_length=contents[\"max_source_length\"], \n",
        "                   max_target_length=contents[\"max_target_length\"])\n",
        "\n",
        "    def to_serializable(self):\n",
        "        return {\"source_vocab\": self.source_vocab.to_serializable(), \n",
        "                \"target_vocab\": self.target_vocab.to_serializable(), \n",
        "                \"max_source_length\": self.max_source_length,\n",
        "                \"max_target_length\": self.max_target_length}"
      ],
      "execution_count": null,
      "outputs": []
    },
    {
      "cell_type": "code",
      "metadata": {
        "id": "E0oytcsrt-1Q"
      },
      "source": [
        "class NMTDataset(Dataset):\n",
        "    def __init__(self, text_df, vectorizer):\n",
        "        \"\"\"\n",
        "        Args:\n",
        "            surname_df (pandas.DataFrame): the dataset\n",
        "            vectorizer (SurnameVectorizer): vectorizer instatiated from dataset\n",
        "        \"\"\"\n",
        "        self.text_df = text_df\n",
        "        self._vectorizer = vectorizer\n",
        "\n",
        "        self.train_df = self.text_df[self.text_df.split=='train']\n",
        "        self.train_size = len(self.train_df)\n",
        "\n",
        "        self.val_df = self.text_df[self.text_df.split=='val']\n",
        "        self.validation_size = len(self.val_df)\n",
        "\n",
        "        self.test_df = self.text_df[self.text_df.split=='test']\n",
        "        self.test_size = len(self.test_df)\n",
        "\n",
        "        self._lookup_dict = {'train': (self.train_df, self.train_size),\n",
        "                             'val': (self.val_df, self.validation_size),\n",
        "                             'test': (self.test_df, self.test_size)}\n",
        "\n",
        "        self.set_split('train')\n",
        "\n",
        "    @classmethod\n",
        "    def load_dataset_and_make_vectorizer(cls, dataset_csv):\n",
        "        \"\"\"Load dataset and make a new vectorizer from scratch\n",
        "        \n",
        "        Args:\n",
        "            surname_csv (str): location of the dataset\n",
        "        Returns:\n",
        "            an instance of SurnameDataset\n",
        "        \"\"\"\n",
        "        text_df = pd.read_csv(dataset_csv)\n",
        "        train_subset = text_df[text_df.split=='train']\n",
        "        return cls(text_df, NMTVectorizer.from_dataframe(train_subset))\n",
        "\n",
        "    @classmethod\n",
        "    def load_dataset_and_load_vectorizer(cls, dataset_csv, vectorizer_filepath):\n",
        "        \"\"\"Load dataset and the corresponding vectorizer. \n",
        "        Used in the case in the vectorizer has been cached for re-use\n",
        "        \n",
        "        Args:\n",
        "            surname_csv (str): location of the dataset\n",
        "            vectorizer_filepath (str): location of the saved vectorizer\n",
        "        Returns:\n",
        "            an instance of SurnameDataset\n",
        "        \"\"\"\n",
        "        text_df = pd.read_csv(dataset_csv)\n",
        "        vectorizer = cls.load_vectorizer_only(vectorizer_filepath)\n",
        "        return cls(text_df, vectorizer)\n",
        "\n",
        "    @staticmethod\n",
        "    def load_vectorizer_only(vectorizer_filepath):\n",
        "        \"\"\"a static method for loading the vectorizer from file\n",
        "        \n",
        "        Args:\n",
        "            vectorizer_filepath (str): the location of the serialized vectorizer\n",
        "        Returns:\n",
        "            an instance of SurnameVectorizer\n",
        "        \"\"\"\n",
        "        with open(vectorizer_filepath) as fp:\n",
        "            return NMTVectorizer.from_serializable(json.load(fp))\n",
        "\n",
        "    def save_vectorizer(self, vectorizer_filepath):\n",
        "        \"\"\"saves the vectorizer to disk using json\n",
        "        \n",
        "        Args:\n",
        "            vectorizer_filepath (str): the location to save the vectorizer\n",
        "        \"\"\"\n",
        "        with open(vectorizer_filepath, \"w\") as fp:\n",
        "            json.dump(self._vectorizer.to_serializable(), fp)\n",
        "\n",
        "    def get_vectorizer(self):\n",
        "        \"\"\" returns the vectorizer \"\"\"\n",
        "        return self._vectorizer\n",
        "\n",
        "    def set_split(self, split=\"train\"):\n",
        "        self._target_split = split\n",
        "        self._target_df, self._target_size = self._lookup_dict[split]\n",
        "\n",
        "    def __len__(self):\n",
        "        return self._target_size\n",
        "\n",
        "    def __getitem__(self, index):\n",
        "        \"\"\"the primary entry point method for PyTorch datasets\n",
        "        \n",
        "        Args:\n",
        "            index (int): the index to the data point \n",
        "        Returns:\n",
        "            a dictionary holding the data point: (x_data, y_target, class_index)\n",
        "        \"\"\"\n",
        "        row = self._target_df.iloc[index]\n",
        "\n",
        "        vector_dict = self._vectorizer.vectorize(row.source_language, row.target_language)\n",
        "\n",
        "        return {\"x_source\": vector_dict[\"source_vector\"], \n",
        "                \"x_target\": vector_dict[\"target_x_vector\"],\n",
        "                \"y_target\": vector_dict[\"target_y_vector\"], \n",
        "                \"x_source_length\": vector_dict[\"source_length\"]}\n",
        "        \n",
        "    def get_num_batches(self, batch_size):\n",
        "        \"\"\"Given a batch size, return the number of batches in the dataset\n",
        "        \n",
        "        Args:\n",
        "            batch_size (int)\n",
        "        Returns:\n",
        "            number of batches in the dataset\n",
        "        \"\"\"\n",
        "        return len(self) // batch_size\n",
        "\n",
        "def generate_nmt_batches(dataset, batch_size, shuffle=True, \n",
        "                            drop_last=True, device=\"cpu\"):\n",
        "    \"\"\"A generator function which wraps the PyTorch DataLoader.  The NMT Version \"\"\"\n",
        "    dataloader = DataLoader(dataset=dataset, batch_size=batch_size,\n",
        "                            shuffle=shuffle, drop_last=drop_last)\n",
        "\n",
        "    for data_dict in dataloader:\n",
        "        lengths = data_dict['x_source_length'].numpy()\n",
        "        sorted_length_indices = lengths.argsort()[::-1].tolist()\n",
        "        \n",
        "        out_data_dict = {}\n",
        "        for name, tensor in data_dict.items():\n",
        "            out_data_dict[name] = data_dict[name][sorted_length_indices].to(device)\n",
        "        yield out_data_dict"
      ],
      "execution_count": null,
      "outputs": []
    },
    {
      "cell_type": "code",
      "metadata": {
        "id": "mlEc7KPLt-1Q"
      },
      "source": [
        "class NMTEncoder(nn.Module):\n",
        "    def __init__(self, num_embeddings, embedding_size, rnn_hidden_size):\n",
        "        \"\"\"\n",
        "        Args:\n",
        "            num_embeddings (int): number of embeddings is the size of source vocabulary\n",
        "            embedding_size (int): size of the embedding vectors\n",
        "            rnn_hidden_size (int): size of the RNN hidden state vectors \n",
        "        \"\"\"\n",
        "        super(NMTEncoder, self).__init__()\n",
        "    \n",
        "        self.source_embedding = nn.Embedding(num_embeddings, embedding_size, padding_idx=0)\n",
        "        self.birnn = nn.GRU(embedding_size, rnn_hidden_size, bidirectional=True, batch_first=True)\n",
        "    \n",
        "    def forward(self, x_source, x_lengths):\n",
        "        \"\"\"The forward pass of the model\n",
        "        \n",
        "        Args:\n",
        "            x_source (torch.Tensor): the input data tensor.\n",
        "                x_source.shape is (batch, seq_size)\n",
        "            x_lengths (torch.Tensor): a vector of lengths for each item in the batch\n",
        "        Returns:\n",
        "            a tuple: x_unpacked (torch.Tensor), x_birnn_h (torch.Tensor)\n",
        "                x_unpacked.shape = (batch, seq_size, rnn_hidden_size * 2)\n",
        "                x_birnn_h.shape = (batch, rnn_hidden_size * 2)\n",
        "        \"\"\"\n",
        "        x_embedded = self.source_embedding(x_source)\n",
        "        # create PackedSequence; x_packed.data.shape=(number_items, embeddign_size)\n",
        "        x_packed = pack_padded_sequence(x_embedded, x_lengths.detach().cpu().numpy(), \n",
        "                                        batch_first=True)\n",
        "        \n",
        "        # x_birnn_h.shape = (num_rnn, batch_size, feature_size)\n",
        "        x_birnn_out, x_birnn_h  = self.birnn(x_packed)\n",
        "        # permute to (batch_size, num_rnn, feature_size)\n",
        "        x_birnn_h = x_birnn_h.permute(1, 0, 2)\n",
        "        \n",
        "        # flatten features; reshape to (batch_size, num_rnn * feature_size)\n",
        "        #  (recall: -1 takes the remaining positions, \n",
        "        #           flattening the two RNN hidden vectors into 1)\n",
        "        x_birnn_h = x_birnn_h.contiguous().view(x_birnn_h.size(0), -1)\n",
        "        \n",
        "        x_unpacked, _ = pad_packed_sequence(x_birnn_out, batch_first=True)\n",
        "        \n",
        "        return x_unpacked, x_birnn_h\n",
        "\n",
        "def verbose_attention(encoder_state_vectors, query_vector):\n",
        "    \"\"\"A descriptive version of the neural attention mechanism \n",
        "    \n",
        "    Args:\n",
        "        encoder_state_vectors (torch.Tensor): 3dim tensor from bi-GRU in encoder\n",
        "        query_vector (torch.Tensor): hidden state in decoder GRU\n",
        "    Returns:\n",
        "        \n",
        "    \"\"\"\n",
        "    batch_size, num_vectors, vector_size = encoder_state_vectors.size()\n",
        "    vector_scores = torch.sum(encoder_state_vectors * query_vector.view(batch_size, 1, vector_size), \n",
        "                              dim=2)\n",
        "    vector_probabilities = F.softmax(vector_scores, dim=1)\n",
        "    weighted_vectors = encoder_state_vectors * vector_probabilities.view(batch_size, num_vectors, 1)\n",
        "    context_vectors = torch.sum(weighted_vectors, dim=1)\n",
        "    return context_vectors, vector_probabilities, vector_scores\n",
        "\n",
        "def terse_attention(encoder_state_vectors, query_vector):\n",
        "    \"\"\"A shorter and more optimized version of the neural attention mechanism\n",
        "    \n",
        "    Args:\n",
        "        encoder_state_vectors (torch.Tensor): 3dim tensor from bi-GRU in encoder\n",
        "        query_vector (torch.Tensor): hidden state\n",
        "    \"\"\"\n",
        "    vector_scores = torch.matmul(encoder_state_vectors, query_vector.unsqueeze(dim=2)).squeeze()\n",
        "    vector_probabilities = F.softmax(vector_scores, dim=-1)\n",
        "    context_vectors = torch.matmul(encoder_state_vectors.transpose(-2, -1), \n",
        "                                   vector_probabilities.unsqueeze(dim=2)).squeeze()\n",
        "    return context_vectors, vector_probabilities\n",
        "\n",
        "\n",
        "\n",
        "class NMTDecoder(nn.Module):\n",
        "    def __init__(self, num_embeddings, embedding_size, rnn_hidden_size, bos_index):\n",
        "        \"\"\"\n",
        "        Args:\n",
        "            num_embeddings (int): number of embeddings is also the number of \n",
        "                unique words in target vocabulary \n",
        "            embedding_size (int): the embedding vector size\n",
        "            rnn_hidden_size (int): size of the hidden rnn state\n",
        "            bos_index(int): begin-of-sequence index\n",
        "        \"\"\"\n",
        "        super(NMTDecoder, self).__init__()\n",
        "        self._rnn_hidden_size = rnn_hidden_size\n",
        "        self.target_embedding = nn.Embedding(num_embeddings=num_embeddings, \n",
        "                                             embedding_dim=embedding_size, \n",
        "                                             padding_idx=0)\n",
        "        self.gru_cell = nn.GRUCell(embedding_size + rnn_hidden_size, \n",
        "                                   rnn_hidden_size)\n",
        "        self.hidden_map = nn.Linear(rnn_hidden_size, rnn_hidden_size)\n",
        "        self.classifier = nn.Linear(rnn_hidden_size * 2, num_embeddings)\n",
        "        self.bos_index = bos_index\n",
        "        self._sampling_temperature = 3\n",
        "    \n",
        "    def _init_indices(self, batch_size):\n",
        "        \"\"\" return the BEGIN-OF-SEQUENCE index vector \"\"\"\n",
        "        return torch.ones(batch_size, dtype=torch.int64) * self.bos_index\n",
        "    \n",
        "    def _init_context_vectors(self, batch_size):\n",
        "        \"\"\" return a zeros vector for initializing the context \"\"\"\n",
        "        return torch.zeros(batch_size, self._rnn_hidden_size)\n",
        "            \n",
        "    def forward(self, encoder_state, initial_hidden_state, target_sequence, sample_probability=0.0):\n",
        "        \"\"\"The forward pass of the model\n",
        "        \n",
        "        Args:\n",
        "            encoder_state (torch.Tensor): the output of the NMTEncoder\n",
        "            initial_hidden_state (torch.Tensor): The last hidden state in the  NMTEncoder\n",
        "            target_sequence (torch.Tensor): the target text data tensor\n",
        "            sample_probability (float): the schedule sampling parameter\n",
        "                probabilty of using model's predictions at each decoder step\n",
        "        Returns:\n",
        "            output_vectors (torch.Tensor): prediction vectors at each output step\n",
        "        \"\"\"\n",
        "        if target_sequence is None:\n",
        "            sample_probability = 1.0\n",
        "        else:\n",
        "            # We are making an assumption there: The batch is on first\n",
        "            # The input is (Batch, Seq)\n",
        "            # We want to iterate over sequence so we permute it to (S, B)\n",
        "            target_sequence = target_sequence.permute(1, 0)\n",
        "            output_sequence_size = target_sequence.size(0)\n",
        "        \n",
        "        # use the provided encoder hidden state as the initial hidden state\n",
        "        h_t = self.hidden_map(initial_hidden_state)\n",
        "        \n",
        "        batch_size = encoder_state.size(0)\n",
        "        # initialize context vectors to zeros\n",
        "        context_vectors = self._init_context_vectors(batch_size)\n",
        "        # initialize first y_t word as BOS\n",
        "        y_t_index = self._init_indices(batch_size)\n",
        "        \n",
        "        h_t = h_t.to(encoder_state.device)\n",
        "        y_t_index = y_t_index.to(encoder_state.device)\n",
        "        context_vectors = context_vectors.to(encoder_state.device)\n",
        "\n",
        "        output_vectors = []\n",
        "        self._cached_p_attn = []\n",
        "        self._cached_ht = []\n",
        "        self._cached_decoder_state = encoder_state.cpu().detach().numpy()\n",
        "        \n",
        "        for i in range(output_sequence_size):\n",
        "            # Schedule sampling is whe\n",
        "            use_sample = np.random.random() < sample_probability\n",
        "            if not use_sample:\n",
        "                y_t_index = target_sequence[i]\n",
        "                \n",
        "            # Step 1: Embed word and concat with previous context\n",
        "            y_input_vector = self.target_embedding(y_t_index)\n",
        "            rnn_input = torch.cat([y_input_vector, context_vectors], dim=1)\n",
        "            \n",
        "            # Step 2: Make a GRU step, getting a new hidden vector\n",
        "            h_t = self.gru_cell(rnn_input, h_t)\n",
        "            self._cached_ht.append(h_t.cpu().detach().numpy())\n",
        "            \n",
        "            # Step 3: Use the current hidden to attend to the encoder state\n",
        "            context_vectors, p_attn, _ = verbose_attention(encoder_state_vectors=encoder_state, \n",
        "                                                           query_vector=h_t)\n",
        "            \n",
        "            # auxillary: cache the attention probabilities for visualization\n",
        "            self._cached_p_attn.append(p_attn.cpu().detach().numpy())\n",
        "            \n",
        "            # Step 4: Use the current hidden and context vectors to make a prediction to the next word\n",
        "            prediction_vector = torch.cat((context_vectors, h_t), dim=1)\n",
        "            score_for_y_t_index = self.classifier(F.dropout(prediction_vector, 0.3))\n",
        "            \n",
        "            if use_sample:\n",
        "                p_y_t_index = F.softmax(score_for_y_t_index * self._sampling_temperature, dim=1)\n",
        "                # _, y_t_index = torch.max(p_y_t_index, 1)\n",
        "                y_t_index = torch.multinomial(p_y_t_index, 1).squeeze()\n",
        "            \n",
        "            # auxillary: collect the prediction scores\n",
        "            output_vectors.append(score_for_y_t_index)\n",
        "            \n",
        "        output_vectors = torch.stack(output_vectors).permute(1, 0, 2)\n",
        "        \n",
        "        return output_vectors\n",
        "    \n",
        "    \n",
        "class NMTModel(nn.Module):\n",
        "    \"\"\" The Neural Machine Translation Model \"\"\"\n",
        "    def __init__(self, source_vocab_size, source_embedding_size, \n",
        "                 target_vocab_size, target_embedding_size, encoding_size, \n",
        "                 target_bos_index):\n",
        "        \"\"\"\n",
        "        Args:\n",
        "            source_vocab_size (int): number of unique words in source language\n",
        "            source_embedding_size (int): size of the source embedding vectors\n",
        "            target_vocab_size (int): number of unique words in target language\n",
        "            target_embedding_size (int): size of the target embedding vectors\n",
        "            encoding_size (int): the size of the encoder RNN.  \n",
        "        \"\"\"\n",
        "        super(NMTModel, self).__init__()\n",
        "        self.encoder = NMTEncoder(num_embeddings=source_vocab_size, \n",
        "                                  embedding_size=source_embedding_size,\n",
        "                                  rnn_hidden_size=encoding_size)\n",
        "        decoding_size = encoding_size * 2\n",
        "        self.decoder = NMTDecoder(num_embeddings=target_vocab_size, \n",
        "                                  embedding_size=target_embedding_size, \n",
        "                                  rnn_hidden_size=decoding_size,\n",
        "                                  bos_index=target_bos_index)\n",
        "    \n",
        "    def forward(self, x_source, x_source_lengths, target_sequence, sample_probability=0.0):\n",
        "        \"\"\"The forward pass of the model\n",
        "        \n",
        "        Args:\n",
        "            x_source (torch.Tensor): the source text data tensor. \n",
        "                x_source.shape should be (batch, vectorizer.max_source_length)\n",
        "            x_source_lengths torch.Tensor): the length of the sequences in x_source \n",
        "            target_sequence (torch.Tensor): the target text data tensor\n",
        "            sample_probability (float): the schedule sampling parameter\n",
        "                probabilty of using model's predictions at each decoder step\n",
        "        Returns:\n",
        "            decoded_states (torch.Tensor): prediction vectors at each output step\n",
        "        \"\"\"\n",
        "        encoder_state, final_hidden_states = self.encoder(x_source, x_source_lengths)\n",
        "        decoded_states = self.decoder(encoder_state=encoder_state, \n",
        "                                      initial_hidden_state=final_hidden_states, \n",
        "                                      target_sequence=target_sequence, \n",
        "                                      sample_probability=sample_probability)\n",
        "        return decoded_states"
      ],
      "execution_count": null,
      "outputs": []
    },
    {
      "cell_type": "markdown",
      "metadata": {
        "id": "Bw6VLx3wt-1R"
      },
      "source": [
        "### Training Routine and Bookkeeping Functions"
      ]
    },
    {
      "cell_type": "code",
      "metadata": {
        "id": "x7NTRLQPt-1R"
      },
      "source": [
        "def set_seed_everywhere(seed, cuda):\n",
        "    np.random.seed(seed)\n",
        "    torch.manual_seed(seed)\n",
        "    if cuda:\n",
        "        torch.cuda.manual_seed_all(seed)\n",
        "\n",
        "def handle_dirs(dirpath):\n",
        "    if not os.path.exists(dirpath):\n",
        "        os.makedirs(dirpath)\n",
        "\n",
        "def make_train_state(args):\n",
        "    return {'stop_early': False,\n",
        "            'early_stopping_step': 0,\n",
        "            'early_stopping_best_val': 1e8,\n",
        "            'learning_rate': args.learning_rate,\n",
        "            'epoch_index': 0,\n",
        "            'train_loss': [],\n",
        "            'train_acc': [],\n",
        "            'val_loss': [],\n",
        "            'val_acc': [],\n",
        "            'test_loss': -1,\n",
        "            'test_acc': -1,\n",
        "            'model_filename': args.model_state_file}\n",
        "\n",
        "def update_train_state(args, model, train_state):\n",
        "    \"\"\"Handle the training state updates.\n",
        "    Components:\n",
        "     - Early Stopping: Prevent overfitting.\n",
        "     - Model Checkpoint: Model is saved if the model is better\n",
        "    \n",
        "    :param args: main arguments\n",
        "    :param model: model to train\n",
        "    :param train_state: a dictionary representing the training state values\n",
        "    :returns:\n",
        "        a new train_state\n",
        "    \"\"\"\n",
        "\n",
        "    # Save one model at least\n",
        "    if train_state['epoch_index'] == 0:\n",
        "        torch.save(model.state_dict(), train_state['model_filename'])\n",
        "        train_state['stop_early'] = False\n",
        "\n",
        "    # Save model if performance improved\n",
        "    elif train_state['epoch_index'] >= 1:\n",
        "        loss_tm1, loss_t = train_state['val_loss'][-2:]\n",
        "         \n",
        "        # If loss worsened\n",
        "        if loss_t >= loss_tm1:\n",
        "            # Update step\n",
        "            train_state['early_stopping_step'] += 1\n",
        "        # Loss decreased\n",
        "        else:\n",
        "            # Save the best model\n",
        "            if loss_t < train_state['early_stopping_best_val']:\n",
        "                torch.save(model.state_dict(), train_state['model_filename'])\n",
        "                train_state['early_stopping_best_val'] = loss_t\n",
        "\n",
        "            # Reset early stopping step\n",
        "            train_state['early_stopping_step'] = 0\n",
        "\n",
        "        # Stop early ?\n",
        "        train_state['stop_early'] = \\\n",
        "            train_state['early_stopping_step'] >= args.early_stopping_criteria\n",
        "\n",
        "    return train_state\n",
        "\n",
        "def normalize_sizes(y_pred, y_true):\n",
        "    \"\"\"Normalize tensor sizes\n",
        "    \n",
        "    Args:\n",
        "        y_pred (torch.Tensor): the output of the model\n",
        "            If a 3-dimensional tensor, reshapes to a matrix\n",
        "        y_true (torch.Tensor): the target predictions\n",
        "            If a matrix, reshapes to be a vector\n",
        "    \"\"\"\n",
        "    if len(y_pred.size()) == 3:\n",
        "        y_pred = y_pred.contiguous().view(-1, y_pred.size(2))\n",
        "    if len(y_true.size()) == 2:\n",
        "        y_true = y_true.contiguous().view(-1)\n",
        "    return y_pred, y_true\n",
        "\n",
        "def compute_accuracy(y_pred, y_true, mask_index):\n",
        "    y_pred, y_true = normalize_sizes(y_pred, y_true)\n",
        "\n",
        "    _, y_pred_indices = y_pred.max(dim=1)\n",
        "    \n",
        "    correct_indices = torch.eq(y_pred_indices, y_true).float()\n",
        "    valid_indices = torch.ne(y_true, mask_index).float()\n",
        "    \n",
        "    n_correct = (correct_indices * valid_indices).sum().item()\n",
        "    n_valid = valid_indices.sum().item()\n",
        "\n",
        "    return n_correct / n_valid * 100\n",
        "\n",
        "def sequence_loss(y_pred, y_true, mask_index):\n",
        "    y_pred, y_true = normalize_sizes(y_pred, y_true)\n",
        "    return F.cross_entropy(y_pred, y_true, ignore_index=mask_index)"
      ],
      "execution_count": null,
      "outputs": []
    },
    {
      "cell_type": "code",
      "metadata": {
        "id": "xqAOQRmXt-1R",
        "outputId": "7a10d643-b60f-462e-9091-79e5ae35169a"
      },
      "source": [
        "args = Namespace(dataset_csv=\"data/nmt/simplest_eng_fra.csv\",\n",
        "                 vectorizer_file=\"vectorizer.json\",\n",
        "                 model_state_file=\"model.pth\",\n",
        "                 save_dir=\"model_storage/ch8/nmt_luong_sampling\",\n",
        "                 reload_from_files=False,\n",
        "                 expand_filepaths_to_save_dir=True,\n",
        "                 cuda=True,\n",
        "                 seed=1337,\n",
        "                 learning_rate=5e-4,\n",
        "                 batch_size=32,\n",
        "                 num_epochs=100,\n",
        "                 early_stopping_criteria=5,              \n",
        "                 source_embedding_size=24, \n",
        "                 target_embedding_size=24,\n",
        "                 encoding_size=32,\n",
        "                 catch_keyboard_interrupt=True)\n",
        "\n",
        "if args.expand_filepaths_to_save_dir:\n",
        "    args.vectorizer_file = os.path.join(args.save_dir,\n",
        "                                        args.vectorizer_file)\n",
        "\n",
        "    args.model_state_file = os.path.join(args.save_dir,\n",
        "                                         args.model_state_file)\n",
        "    \n",
        "    print(\"Expanded filepaths: \")\n",
        "    print(\"\\t{}\".format(args.vectorizer_file))\n",
        "    print(\"\\t{}\".format(args.model_state_file))\n",
        "    \n",
        "# Check CUDA\n",
        "if not torch.cuda.is_available():\n",
        "    args.cuda = False\n",
        "\n",
        "args.device = torch.device(\"cuda\" if args.cuda else \"cpu\")\n",
        "    \n",
        "print(\"Using CUDA: {}\".format(args.cuda))\n",
        "\n",
        "# Set seed for reproducibility\n",
        "set_seed_everywhere(args.seed, args.cuda)\n",
        "\n",
        "# handle dirs\n",
        "handle_dirs(args.save_dir)"
      ],
      "execution_count": null,
      "outputs": [
        {
          "output_type": "stream",
          "text": [
            "Expanded filepaths: \n",
            "\tmodel_storage/ch8/nmt_luong_sampling/vectorizer.json\n",
            "\tmodel_storage/ch8/nmt_luong_sampling/model.pth\n",
            "Using CUDA: False\n"
          ],
          "name": "stdout"
        }
      ]
    },
    {
      "cell_type": "code",
      "metadata": {
        "id": "aANPzvS5t-1R",
        "outputId": "d664b555-7b4e-46ff-afa5-3b172d064142"
      },
      "source": [
        "if args.reload_from_files and os.path.exists(args.vectorizer_file):\n",
        "    # training from a checkpoint\n",
        "    dataset = NMTDataset.load_dataset_and_load_vectorizer(args.dataset_csv,\n",
        "                                                          args.vectorizer_file)\n",
        "else:\n",
        "    # create dataset and vectorizer\n",
        "    dataset = NMTDataset.load_dataset_and_make_vectorizer(args.dataset_csv)\n",
        "    dataset.save_vectorizer(args.vectorizer_file)\n",
        "\n",
        "vectorizer = dataset.get_vectorizer()"
      ],
      "execution_count": null,
      "outputs": [
        {
          "output_type": "error",
          "ename": "FileNotFoundError",
          "evalue": "[Errno 2] File b'data/nmt/simplest_eng_fra.csv' does not exist: b'data/nmt/simplest_eng_fra.csv'",
          "traceback": [
            "\u001b[0;31m---------------------------------------------------------------------------\u001b[0m",
            "\u001b[0;31mFileNotFoundError\u001b[0m                         Traceback (most recent call last)",
            "\u001b[0;32m<ipython-input-39-2f80e0bbdced>\u001b[0m in \u001b[0;36m<module>\u001b[0;34m\u001b[0m\n\u001b[1;32m      5\u001b[0m \u001b[0;32melse\u001b[0m\u001b[0;34m:\u001b[0m\u001b[0;34m\u001b[0m\u001b[0;34m\u001b[0m\u001b[0m\n\u001b[1;32m      6\u001b[0m     \u001b[0;31m# create dataset and vectorizer\u001b[0m\u001b[0;34m\u001b[0m\u001b[0;34m\u001b[0m\u001b[0;34m\u001b[0m\u001b[0m\n\u001b[0;32m----> 7\u001b[0;31m     \u001b[0mdataset\u001b[0m \u001b[0;34m=\u001b[0m \u001b[0mNMTDataset\u001b[0m\u001b[0;34m.\u001b[0m\u001b[0mload_dataset_and_make_vectorizer\u001b[0m\u001b[0;34m(\u001b[0m\u001b[0margs\u001b[0m\u001b[0;34m.\u001b[0m\u001b[0mdataset_csv\u001b[0m\u001b[0;34m)\u001b[0m\u001b[0;34m\u001b[0m\u001b[0;34m\u001b[0m\u001b[0m\n\u001b[0m\u001b[1;32m      8\u001b[0m     \u001b[0mdataset\u001b[0m\u001b[0;34m.\u001b[0m\u001b[0msave_vectorizer\u001b[0m\u001b[0;34m(\u001b[0m\u001b[0margs\u001b[0m\u001b[0;34m.\u001b[0m\u001b[0mvectorizer_file\u001b[0m\u001b[0;34m)\u001b[0m\u001b[0;34m\u001b[0m\u001b[0;34m\u001b[0m\u001b[0m\n\u001b[1;32m      9\u001b[0m \u001b[0;34m\u001b[0m\u001b[0m\n",
            "\u001b[0;32m<ipython-input-35-bf95ea188e08>\u001b[0m in \u001b[0;36mload_dataset_and_make_vectorizer\u001b[0;34m(cls, dataset_csv)\u001b[0m\n\u001b[1;32m     33\u001b[0m             \u001b[0man\u001b[0m \u001b[0minstance\u001b[0m \u001b[0mof\u001b[0m \u001b[0mSurnameDataset\u001b[0m\u001b[0;34m\u001b[0m\u001b[0;34m\u001b[0m\u001b[0m\n\u001b[1;32m     34\u001b[0m         \"\"\"\n\u001b[0;32m---> 35\u001b[0;31m         \u001b[0mtext_df\u001b[0m \u001b[0;34m=\u001b[0m \u001b[0mpd\u001b[0m\u001b[0;34m.\u001b[0m\u001b[0mread_csv\u001b[0m\u001b[0;34m(\u001b[0m\u001b[0mdataset_csv\u001b[0m\u001b[0;34m)\u001b[0m\u001b[0;34m\u001b[0m\u001b[0;34m\u001b[0m\u001b[0m\n\u001b[0m\u001b[1;32m     36\u001b[0m         \u001b[0mtrain_subset\u001b[0m \u001b[0;34m=\u001b[0m \u001b[0mtext_df\u001b[0m\u001b[0;34m[\u001b[0m\u001b[0mtext_df\u001b[0m\u001b[0;34m.\u001b[0m\u001b[0msplit\u001b[0m\u001b[0;34m==\u001b[0m\u001b[0;34m'train'\u001b[0m\u001b[0;34m]\u001b[0m\u001b[0;34m\u001b[0m\u001b[0;34m\u001b[0m\u001b[0m\n\u001b[1;32m     37\u001b[0m         \u001b[0;32mreturn\u001b[0m \u001b[0mcls\u001b[0m\u001b[0;34m(\u001b[0m\u001b[0mtext_df\u001b[0m\u001b[0;34m,\u001b[0m \u001b[0mNMTVectorizer\u001b[0m\u001b[0;34m.\u001b[0m\u001b[0mfrom_dataframe\u001b[0m\u001b[0;34m(\u001b[0m\u001b[0mtrain_subset\u001b[0m\u001b[0;34m)\u001b[0m\u001b[0;34m)\u001b[0m\u001b[0;34m\u001b[0m\u001b[0;34m\u001b[0m\u001b[0m\n",
            "\u001b[0;32m~/miniconda3/envs/tf2/lib/python3.7/site-packages/pandas/io/parsers.py\u001b[0m in \u001b[0;36mparser_f\u001b[0;34m(filepath_or_buffer, sep, delimiter, header, names, index_col, usecols, squeeze, prefix, mangle_dupe_cols, dtype, engine, converters, true_values, false_values, skipinitialspace, skiprows, skipfooter, nrows, na_values, keep_default_na, na_filter, verbose, skip_blank_lines, parse_dates, infer_datetime_format, keep_date_col, date_parser, dayfirst, cache_dates, iterator, chunksize, compression, thousands, decimal, lineterminator, quotechar, quoting, doublequote, escapechar, comment, encoding, dialect, error_bad_lines, warn_bad_lines, delim_whitespace, low_memory, memory_map, float_precision)\u001b[0m\n\u001b[1;32m    683\u001b[0m         )\n\u001b[1;32m    684\u001b[0m \u001b[0;34m\u001b[0m\u001b[0m\n\u001b[0;32m--> 685\u001b[0;31m         \u001b[0;32mreturn\u001b[0m \u001b[0m_read\u001b[0m\u001b[0;34m(\u001b[0m\u001b[0mfilepath_or_buffer\u001b[0m\u001b[0;34m,\u001b[0m \u001b[0mkwds\u001b[0m\u001b[0;34m)\u001b[0m\u001b[0;34m\u001b[0m\u001b[0;34m\u001b[0m\u001b[0m\n\u001b[0m\u001b[1;32m    686\u001b[0m \u001b[0;34m\u001b[0m\u001b[0m\n\u001b[1;32m    687\u001b[0m     \u001b[0mparser_f\u001b[0m\u001b[0;34m.\u001b[0m\u001b[0m__name__\u001b[0m \u001b[0;34m=\u001b[0m \u001b[0mname\u001b[0m\u001b[0;34m\u001b[0m\u001b[0;34m\u001b[0m\u001b[0m\n",
            "\u001b[0;32m~/miniconda3/envs/tf2/lib/python3.7/site-packages/pandas/io/parsers.py\u001b[0m in \u001b[0;36m_read\u001b[0;34m(filepath_or_buffer, kwds)\u001b[0m\n\u001b[1;32m    455\u001b[0m \u001b[0;34m\u001b[0m\u001b[0m\n\u001b[1;32m    456\u001b[0m     \u001b[0;31m# Create the parser.\u001b[0m\u001b[0;34m\u001b[0m\u001b[0;34m\u001b[0m\u001b[0;34m\u001b[0m\u001b[0m\n\u001b[0;32m--> 457\u001b[0;31m     \u001b[0mparser\u001b[0m \u001b[0;34m=\u001b[0m \u001b[0mTextFileReader\u001b[0m\u001b[0;34m(\u001b[0m\u001b[0mfp_or_buf\u001b[0m\u001b[0;34m,\u001b[0m \u001b[0;34m**\u001b[0m\u001b[0mkwds\u001b[0m\u001b[0;34m)\u001b[0m\u001b[0;34m\u001b[0m\u001b[0;34m\u001b[0m\u001b[0m\n\u001b[0m\u001b[1;32m    458\u001b[0m \u001b[0;34m\u001b[0m\u001b[0m\n\u001b[1;32m    459\u001b[0m     \u001b[0;32mif\u001b[0m \u001b[0mchunksize\u001b[0m \u001b[0;32mor\u001b[0m \u001b[0miterator\u001b[0m\u001b[0;34m:\u001b[0m\u001b[0;34m\u001b[0m\u001b[0;34m\u001b[0m\u001b[0m\n",
            "\u001b[0;32m~/miniconda3/envs/tf2/lib/python3.7/site-packages/pandas/io/parsers.py\u001b[0m in \u001b[0;36m__init__\u001b[0;34m(self, f, engine, **kwds)\u001b[0m\n\u001b[1;32m    893\u001b[0m             \u001b[0mself\u001b[0m\u001b[0;34m.\u001b[0m\u001b[0moptions\u001b[0m\u001b[0;34m[\u001b[0m\u001b[0;34m\"has_index_names\"\u001b[0m\u001b[0;34m]\u001b[0m \u001b[0;34m=\u001b[0m \u001b[0mkwds\u001b[0m\u001b[0;34m[\u001b[0m\u001b[0;34m\"has_index_names\"\u001b[0m\u001b[0;34m]\u001b[0m\u001b[0;34m\u001b[0m\u001b[0;34m\u001b[0m\u001b[0m\n\u001b[1;32m    894\u001b[0m \u001b[0;34m\u001b[0m\u001b[0m\n\u001b[0;32m--> 895\u001b[0;31m         \u001b[0mself\u001b[0m\u001b[0;34m.\u001b[0m\u001b[0m_make_engine\u001b[0m\u001b[0;34m(\u001b[0m\u001b[0mself\u001b[0m\u001b[0;34m.\u001b[0m\u001b[0mengine\u001b[0m\u001b[0;34m)\u001b[0m\u001b[0;34m\u001b[0m\u001b[0;34m\u001b[0m\u001b[0m\n\u001b[0m\u001b[1;32m    896\u001b[0m \u001b[0;34m\u001b[0m\u001b[0m\n\u001b[1;32m    897\u001b[0m     \u001b[0;32mdef\u001b[0m \u001b[0mclose\u001b[0m\u001b[0;34m(\u001b[0m\u001b[0mself\u001b[0m\u001b[0;34m)\u001b[0m\u001b[0;34m:\u001b[0m\u001b[0;34m\u001b[0m\u001b[0;34m\u001b[0m\u001b[0m\n",
            "\u001b[0;32m~/miniconda3/envs/tf2/lib/python3.7/site-packages/pandas/io/parsers.py\u001b[0m in \u001b[0;36m_make_engine\u001b[0;34m(self, engine)\u001b[0m\n\u001b[1;32m   1133\u001b[0m     \u001b[0;32mdef\u001b[0m \u001b[0m_make_engine\u001b[0m\u001b[0;34m(\u001b[0m\u001b[0mself\u001b[0m\u001b[0;34m,\u001b[0m \u001b[0mengine\u001b[0m\u001b[0;34m=\u001b[0m\u001b[0;34m\"c\"\u001b[0m\u001b[0;34m)\u001b[0m\u001b[0;34m:\u001b[0m\u001b[0;34m\u001b[0m\u001b[0;34m\u001b[0m\u001b[0m\n\u001b[1;32m   1134\u001b[0m         \u001b[0;32mif\u001b[0m \u001b[0mengine\u001b[0m \u001b[0;34m==\u001b[0m \u001b[0;34m\"c\"\u001b[0m\u001b[0;34m:\u001b[0m\u001b[0;34m\u001b[0m\u001b[0;34m\u001b[0m\u001b[0m\n\u001b[0;32m-> 1135\u001b[0;31m             \u001b[0mself\u001b[0m\u001b[0;34m.\u001b[0m\u001b[0m_engine\u001b[0m \u001b[0;34m=\u001b[0m \u001b[0mCParserWrapper\u001b[0m\u001b[0;34m(\u001b[0m\u001b[0mself\u001b[0m\u001b[0;34m.\u001b[0m\u001b[0mf\u001b[0m\u001b[0;34m,\u001b[0m \u001b[0;34m**\u001b[0m\u001b[0mself\u001b[0m\u001b[0;34m.\u001b[0m\u001b[0moptions\u001b[0m\u001b[0;34m)\u001b[0m\u001b[0;34m\u001b[0m\u001b[0;34m\u001b[0m\u001b[0m\n\u001b[0m\u001b[1;32m   1136\u001b[0m         \u001b[0;32melse\u001b[0m\u001b[0;34m:\u001b[0m\u001b[0;34m\u001b[0m\u001b[0;34m\u001b[0m\u001b[0m\n\u001b[1;32m   1137\u001b[0m             \u001b[0;32mif\u001b[0m \u001b[0mengine\u001b[0m \u001b[0;34m==\u001b[0m \u001b[0;34m\"python\"\u001b[0m\u001b[0;34m:\u001b[0m\u001b[0;34m\u001b[0m\u001b[0;34m\u001b[0m\u001b[0m\n",
            "\u001b[0;32m~/miniconda3/envs/tf2/lib/python3.7/site-packages/pandas/io/parsers.py\u001b[0m in \u001b[0;36m__init__\u001b[0;34m(self, src, **kwds)\u001b[0m\n\u001b[1;32m   1915\u001b[0m         \u001b[0mkwds\u001b[0m\u001b[0;34m[\u001b[0m\u001b[0;34m\"usecols\"\u001b[0m\u001b[0;34m]\u001b[0m \u001b[0;34m=\u001b[0m \u001b[0mself\u001b[0m\u001b[0;34m.\u001b[0m\u001b[0musecols\u001b[0m\u001b[0;34m\u001b[0m\u001b[0;34m\u001b[0m\u001b[0m\n\u001b[1;32m   1916\u001b[0m \u001b[0;34m\u001b[0m\u001b[0m\n\u001b[0;32m-> 1917\u001b[0;31m         \u001b[0mself\u001b[0m\u001b[0;34m.\u001b[0m\u001b[0m_reader\u001b[0m \u001b[0;34m=\u001b[0m \u001b[0mparsers\u001b[0m\u001b[0;34m.\u001b[0m\u001b[0mTextReader\u001b[0m\u001b[0;34m(\u001b[0m\u001b[0msrc\u001b[0m\u001b[0;34m,\u001b[0m \u001b[0;34m**\u001b[0m\u001b[0mkwds\u001b[0m\u001b[0;34m)\u001b[0m\u001b[0;34m\u001b[0m\u001b[0;34m\u001b[0m\u001b[0m\n\u001b[0m\u001b[1;32m   1918\u001b[0m         \u001b[0mself\u001b[0m\u001b[0;34m.\u001b[0m\u001b[0munnamed_cols\u001b[0m \u001b[0;34m=\u001b[0m \u001b[0mself\u001b[0m\u001b[0;34m.\u001b[0m\u001b[0m_reader\u001b[0m\u001b[0;34m.\u001b[0m\u001b[0munnamed_cols\u001b[0m\u001b[0;34m\u001b[0m\u001b[0;34m\u001b[0m\u001b[0m\n\u001b[1;32m   1919\u001b[0m \u001b[0;34m\u001b[0m\u001b[0m\n",
            "\u001b[0;32mpandas/_libs/parsers.pyx\u001b[0m in \u001b[0;36mpandas._libs.parsers.TextReader.__cinit__\u001b[0;34m()\u001b[0m\n",
            "\u001b[0;32mpandas/_libs/parsers.pyx\u001b[0m in \u001b[0;36mpandas._libs.parsers.TextReader._setup_parser_source\u001b[0;34m()\u001b[0m\n",
            "\u001b[0;31mFileNotFoundError\u001b[0m: [Errno 2] File b'data/nmt/simplest_eng_fra.csv' does not exist: b'data/nmt/simplest_eng_fra.csv'"
          ]
        }
      ]
    },
    {
      "cell_type": "code",
      "metadata": {
        "id": "FZHpGsi6t-1R",
        "outputId": "cfab2e09-7aa3-427a-e158-62a915ae37cc"
      },
      "source": [
        "model = NMTModel(source_vocab_size=len(vectorizer.source_vocab), \n",
        "                 source_embedding_size=args.source_embedding_size, \n",
        "                 target_vocab_size=len(vectorizer.target_vocab),\n",
        "                 target_embedding_size=args.target_embedding_size, \n",
        "                 encoding_size=args.encoding_size,\n",
        "                 target_bos_index=vectorizer.target_vocab.begin_seq_index)\n",
        "\n",
        "if args.reload_from_files and os.path.exists(args.model_state_file):\n",
        "    model.load_state_dict(torch.load(args.model_state_file))\n",
        "    print(\"Reloaded model\")\n",
        "else:\n",
        "    print(\"New model\")"
      ],
      "execution_count": null,
      "outputs": [
        {
          "output_type": "error",
          "ename": "NameError",
          "evalue": "name 'vectorizer' is not defined",
          "traceback": [
            "\u001b[0;31m---------------------------------------------------------------------------\u001b[0m",
            "\u001b[0;31mNameError\u001b[0m                                 Traceback (most recent call last)",
            "\u001b[0;32m<ipython-input-40-8b62c2fec43c>\u001b[0m in \u001b[0;36m<module>\u001b[0;34m\u001b[0m\n\u001b[0;32m----> 1\u001b[0;31m model = NMTModel(source_vocab_size=len(vectorizer.source_vocab), \n\u001b[0m\u001b[1;32m      2\u001b[0m                  \u001b[0msource_embedding_size\u001b[0m\u001b[0;34m=\u001b[0m\u001b[0margs\u001b[0m\u001b[0;34m.\u001b[0m\u001b[0msource_embedding_size\u001b[0m\u001b[0;34m,\u001b[0m\u001b[0;34m\u001b[0m\u001b[0;34m\u001b[0m\u001b[0m\n\u001b[1;32m      3\u001b[0m                  \u001b[0mtarget_vocab_size\u001b[0m\u001b[0;34m=\u001b[0m\u001b[0mlen\u001b[0m\u001b[0;34m(\u001b[0m\u001b[0mvectorizer\u001b[0m\u001b[0;34m.\u001b[0m\u001b[0mtarget_vocab\u001b[0m\u001b[0;34m)\u001b[0m\u001b[0;34m,\u001b[0m\u001b[0;34m\u001b[0m\u001b[0;34m\u001b[0m\u001b[0m\n\u001b[1;32m      4\u001b[0m                  \u001b[0mtarget_embedding_size\u001b[0m\u001b[0;34m=\u001b[0m\u001b[0margs\u001b[0m\u001b[0;34m.\u001b[0m\u001b[0mtarget_embedding_size\u001b[0m\u001b[0;34m,\u001b[0m\u001b[0;34m\u001b[0m\u001b[0;34m\u001b[0m\u001b[0m\n\u001b[1;32m      5\u001b[0m                  \u001b[0mencoding_size\u001b[0m\u001b[0;34m=\u001b[0m\u001b[0margs\u001b[0m\u001b[0;34m.\u001b[0m\u001b[0mencoding_size\u001b[0m\u001b[0;34m,\u001b[0m\u001b[0;34m\u001b[0m\u001b[0;34m\u001b[0m\u001b[0m\n",
            "\u001b[0;31mNameError\u001b[0m: name 'vectorizer' is not defined"
          ]
        }
      ]
    },
    {
      "cell_type": "code",
      "metadata": {
        "id": "wLahYe7Pt-1R",
        "outputId": "b1f0cec4-086f-448a-c3f4-8321593a2d9f"
      },
      "source": [
        "model = model.to(args.device)\n",
        "\n",
        "optimizer = optim.Adam(model.parameters(), lr=args.learning_rate)\n",
        "scheduler = optim.lr_scheduler.ReduceLROnPlateau(optimizer=optimizer,\n",
        "                                           mode='min', factor=0.5,\n",
        "                                           patience=1)\n",
        "mask_index = vectorizer.target_vocab.mask_index\n",
        "train_state = make_train_state(args)\n",
        "\n",
        "epoch_bar = tqdm_notebook(desc='training routine', \n",
        "                          total=args.num_epochs,\n",
        "                          position=0)\n",
        "\n",
        "dataset.set_split('train')\n",
        "train_bar = tqdm_notebook(desc='split=train',\n",
        "                          total=dataset.get_num_batches(args.batch_size), \n",
        "                          position=1, \n",
        "                          leave=True)\n",
        "dataset.set_split('val')\n",
        "val_bar = tqdm_notebook(desc='split=val',\n",
        "                        total=dataset.get_num_batches(args.batch_size), \n",
        "                        position=1, \n",
        "                        leave=True)\n",
        "\n",
        "try:\n",
        "    for epoch_index in range(args.num_epochs):\n",
        "        sample_probability = (20 + epoch_index) / args.num_epochs\n",
        "        \n",
        "        train_state['epoch_index'] = epoch_index\n",
        "\n",
        "        # Iterate over training dataset\n",
        "\n",
        "        # setup: batch generator, set loss and acc to 0, set train mode on\n",
        "        dataset.set_split('train')\n",
        "        batch_generator = generate_nmt_batches(dataset, \n",
        "                                               batch_size=args.batch_size, \n",
        "                                               device=args.device)\n",
        "        running_loss = 0.0\n",
        "        running_acc = 0.0\n",
        "        model.train()\n",
        "        \n",
        "        for batch_index, batch_dict in enumerate(batch_generator):\n",
        "            # the training routine is these 5 steps:\n",
        "\n",
        "            # --------------------------------------    \n",
        "            # step 1. zero the gradients\n",
        "            optimizer.zero_grad()\n",
        "\n",
        "            # step 2. compute the output\n",
        "            y_pred = model(batch_dict['x_source'], \n",
        "                           batch_dict['x_source_length'], \n",
        "                           batch_dict['x_target'],\n",
        "                           sample_probability=sample_probability)\n",
        "\n",
        "            # step 3. compute the loss\n",
        "            loss = sequence_loss(y_pred, batch_dict['y_target'], mask_index)\n",
        "\n",
        "            # step 4. use loss to produce gradients\n",
        "            loss.backward()\n",
        "\n",
        "            # step 5. use optimizer to take gradient step\n",
        "            optimizer.step()\n",
        "\n",
        "            # -----------------------------------------\n",
        "            # compute the running loss and running accuracy\n",
        "            running_loss += (loss.item() - running_loss) / (batch_index + 1)\n",
        "\n",
        "            acc_t = compute_accuracy(y_pred, batch_dict['y_target'], mask_index)\n",
        "            running_acc += (acc_t - running_acc) / (batch_index + 1)\n",
        "\n",
        "            # update bar\n",
        "            train_bar.set_postfix(loss=running_loss, acc=running_acc, \n",
        "                                  epoch=epoch_index)\n",
        "            train_bar.update()\n",
        "\n",
        "        train_state['train_loss'].append(running_loss)\n",
        "        train_state['train_acc'].append(running_acc)\n",
        "\n",
        "        # Iterate over val dataset\n",
        "\n",
        "        # setup: batch generator, set loss and acc to 0; set eval mode on\n",
        "        dataset.set_split('val')\n",
        "        batch_generator = generate_nmt_batches(dataset, \n",
        "                                               batch_size=args.batch_size, \n",
        "                                               device=args.device)\n",
        "        running_loss = 0.\n",
        "        running_acc = 0.\n",
        "        model.eval()\n",
        "\n",
        "        for batch_index, batch_dict in enumerate(batch_generator):\n",
        "            # compute the output\n",
        "            y_pred = model(batch_dict['x_source'], \n",
        "                           batch_dict['x_source_length'], \n",
        "                           batch_dict['x_target'],\n",
        "                           sample_probability=sample_probability)\n",
        "\n",
        "            # step 3. compute the loss\n",
        "            loss = sequence_loss(y_pred, batch_dict['y_target'], mask_index)\n",
        "\n",
        "            # compute the running loss and accuracy\n",
        "            running_loss += (loss.item() - running_loss) / (batch_index + 1)\n",
        "            \n",
        "            acc_t = compute_accuracy(y_pred, batch_dict['y_target'], mask_index)\n",
        "            running_acc += (acc_t - running_acc) / (batch_index + 1)\n",
        "            \n",
        "            # Update bar\n",
        "            val_bar.set_postfix(loss=running_loss, acc=running_acc, \n",
        "                            epoch=epoch_index)\n",
        "            val_bar.update()\n",
        "\n",
        "        train_state['val_loss'].append(running_loss)\n",
        "        train_state['val_acc'].append(running_acc)\n",
        "\n",
        "        train_state = update_train_state(args=args, model=model, \n",
        "                                         train_state=train_state)\n",
        "\n",
        "        scheduler.step(train_state['val_loss'][-1])\n",
        "\n",
        "        if train_state['stop_early']:\n",
        "            break\n",
        "        \n",
        "        train_bar.n = 0\n",
        "        val_bar.n = 0\n",
        "        epoch_bar.set_postfix(best_val=train_state['early_stopping_best_val'])\n",
        "        epoch_bar.update()\n",
        "        \n",
        "except KeyboardInterrupt:\n",
        "    print(\"Exiting loop\")"
      ],
      "execution_count": null,
      "outputs": [
        {
          "output_type": "error",
          "ename": "NameError",
          "evalue": "name 'model' is not defined",
          "traceback": [
            "\u001b[0;31m---------------------------------------------------------------------------\u001b[0m",
            "\u001b[0;31mNameError\u001b[0m                                 Traceback (most recent call last)",
            "\u001b[0;32m<ipython-input-41-1bc6e0e24792>\u001b[0m in \u001b[0;36m<module>\u001b[0;34m\u001b[0m\n\u001b[0;32m----> 1\u001b[0;31m \u001b[0mmodel\u001b[0m \u001b[0;34m=\u001b[0m \u001b[0mmodel\u001b[0m\u001b[0;34m.\u001b[0m\u001b[0mto\u001b[0m\u001b[0;34m(\u001b[0m\u001b[0margs\u001b[0m\u001b[0;34m.\u001b[0m\u001b[0mdevice\u001b[0m\u001b[0;34m)\u001b[0m\u001b[0;34m\u001b[0m\u001b[0;34m\u001b[0m\u001b[0m\n\u001b[0m\u001b[1;32m      2\u001b[0m \u001b[0;34m\u001b[0m\u001b[0m\n\u001b[1;32m      3\u001b[0m \u001b[0moptimizer\u001b[0m \u001b[0;34m=\u001b[0m \u001b[0moptim\u001b[0m\u001b[0;34m.\u001b[0m\u001b[0mAdam\u001b[0m\u001b[0;34m(\u001b[0m\u001b[0mmodel\u001b[0m\u001b[0;34m.\u001b[0m\u001b[0mparameters\u001b[0m\u001b[0;34m(\u001b[0m\u001b[0;34m)\u001b[0m\u001b[0;34m,\u001b[0m \u001b[0mlr\u001b[0m\u001b[0;34m=\u001b[0m\u001b[0margs\u001b[0m\u001b[0;34m.\u001b[0m\u001b[0mlearning_rate\u001b[0m\u001b[0;34m)\u001b[0m\u001b[0;34m\u001b[0m\u001b[0;34m\u001b[0m\u001b[0m\n\u001b[1;32m      4\u001b[0m scheduler = optim.lr_scheduler.ReduceLROnPlateau(optimizer=optimizer,\n\u001b[1;32m      5\u001b[0m                                            \u001b[0mmode\u001b[0m\u001b[0;34m=\u001b[0m\u001b[0;34m'min'\u001b[0m\u001b[0;34m,\u001b[0m \u001b[0mfactor\u001b[0m\u001b[0;34m=\u001b[0m\u001b[0;36m0.5\u001b[0m\u001b[0;34m,\u001b[0m\u001b[0;34m\u001b[0m\u001b[0;34m\u001b[0m\u001b[0m\n",
            "\u001b[0;31mNameError\u001b[0m: name 'model' is not defined"
          ]
        }
      ]
    },
    {
      "cell_type": "code",
      "metadata": {
        "id": "6A_JxTESt-1S",
        "outputId": "3e18dbec-0d9b-4fea-df21-23760727dab0"
      },
      "source": [
        "from nltk.translate import bleu_score\n",
        "import seaborn as sns\n",
        "import matplotlib.pyplot as plt\n",
        "\n",
        "chencherry = bleu_score.SmoothingFunction()"
      ],
      "execution_count": null,
      "outputs": [
        {
          "output_type": "error",
          "ename": "ModuleNotFoundError",
          "evalue": "No module named 'seaborn'",
          "traceback": [
            "\u001b[0;31m---------------------------------------------------------------------------\u001b[0m",
            "\u001b[0;31mModuleNotFoundError\u001b[0m                       Traceback (most recent call last)",
            "\u001b[0;32m<ipython-input-42-cafc3ef4cddf>\u001b[0m in \u001b[0;36m<module>\u001b[0;34m\u001b[0m\n\u001b[1;32m      1\u001b[0m \u001b[0;32mfrom\u001b[0m \u001b[0mnltk\u001b[0m\u001b[0;34m.\u001b[0m\u001b[0mtranslate\u001b[0m \u001b[0;32mimport\u001b[0m \u001b[0mbleu_score\u001b[0m\u001b[0;34m\u001b[0m\u001b[0;34m\u001b[0m\u001b[0m\n\u001b[0;32m----> 2\u001b[0;31m \u001b[0;32mimport\u001b[0m \u001b[0mseaborn\u001b[0m \u001b[0;32mas\u001b[0m \u001b[0msns\u001b[0m\u001b[0;34m\u001b[0m\u001b[0;34m\u001b[0m\u001b[0m\n\u001b[0m\u001b[1;32m      3\u001b[0m \u001b[0;32mimport\u001b[0m \u001b[0mmatplotlib\u001b[0m\u001b[0;34m.\u001b[0m\u001b[0mpyplot\u001b[0m \u001b[0;32mas\u001b[0m \u001b[0mplt\u001b[0m\u001b[0;34m\u001b[0m\u001b[0;34m\u001b[0m\u001b[0m\n\u001b[1;32m      4\u001b[0m \u001b[0;34m\u001b[0m\u001b[0m\n\u001b[1;32m      5\u001b[0m \u001b[0mchencherry\u001b[0m \u001b[0;34m=\u001b[0m \u001b[0mbleu_score\u001b[0m\u001b[0;34m.\u001b[0m\u001b[0mSmoothingFunction\u001b[0m\u001b[0;34m(\u001b[0m\u001b[0;34m)\u001b[0m\u001b[0;34m\u001b[0m\u001b[0;34m\u001b[0m\u001b[0m\n",
            "\u001b[0;31mModuleNotFoundError\u001b[0m: No module named 'seaborn'"
          ]
        }
      ]
    },
    {
      "cell_type": "code",
      "metadata": {
        "id": "rp21FWvBt-1S"
      },
      "source": [
        "def sentence_from_indices(indices, vocab, strict=True, return_string=True):\n",
        "    ignore_indices = set([vocab.mask_index, vocab.begin_seq_index, vocab.end_seq_index])\n",
        "    out = []\n",
        "    for index in indices:\n",
        "        if index == vocab.begin_seq_index and strict:\n",
        "            continue\n",
        "        elif index == vocab.end_seq_index and strict:\n",
        "            break\n",
        "        else:\n",
        "            out.append(vocab.lookup_index(index))\n",
        "    if return_string:\n",
        "        return \" \".join(out)\n",
        "    else:\n",
        "        return out\n",
        "    \n",
        "class NMTSampler:\n",
        "    def __init__(self, vectorizer, model):\n",
        "        self.vectorizer = vectorizer\n",
        "        self.model = model\n",
        "    \n",
        "    def apply_to_batch(self, batch_dict):\n",
        "        self._last_batch = batch_dict\n",
        "        y_pred = self.model(x_source=batch_dict['x_source'], \n",
        "                            x_source_lengths=batch_dict['x_source_length'], \n",
        "                            target_sequence=batch_dict['x_target'])\n",
        "        self._last_batch['y_pred'] = y_pred\n",
        "        \n",
        "        attention_batched = np.stack(self.model.decoder._cached_p_attn).transpose(1, 0, 2)\n",
        "        self._last_batch['attention'] = attention_batched\n",
        "        \n",
        "    def _get_source_sentence(self, index, return_string=True):\n",
        "        indices = self._last_batch['x_source'][index].cpu().detach().numpy()\n",
        "        vocab = self.vectorizer.source_vocab\n",
        "        return sentence_from_indices(indices, vocab, return_string=return_string)\n",
        "\n",
        "    def _get_reference_sentence(self, index, return_string=True):\n",
        "        indices = self._last_batch['y_target'][index].cpu().detach().numpy()\n",
        "        vocab = self.vectorizer.target_vocab\n",
        "        return sentence_from_indices(indices, vocab, return_string=return_string)\n",
        "    \n",
        "    def _get_sampled_sentence(self, index, return_string=True):\n",
        "        _, all_indices = torch.max(self._last_batch['y_pred'], dim=2)\n",
        "        sentence_indices = all_indices[index].cpu().detach().numpy()\n",
        "        vocab = self.vectorizer.target_vocab\n",
        "        return sentence_from_indices(sentence_indices, vocab, return_string=return_string)\n",
        "\n",
        "    def get_ith_item(self, index, return_string=True):\n",
        "        output = {\"source\": self._get_source_sentence(index, return_string=return_string), \n",
        "                  \"reference\": self._get_reference_sentence(index, return_string=return_string), \n",
        "                  \"sampled\": self._get_sampled_sentence(index, return_string=return_string),\n",
        "                  \"attention\": self._last_batch['attention'][index]}\n",
        "        \n",
        "        reference = output['reference']\n",
        "        hypothesis = output['sampled']\n",
        "        \n",
        "        if not return_string:\n",
        "            reference = \" \".join(reference)\n",
        "            hypothesis = \" \".join(hypothesis)\n",
        "        \n",
        "        output['bleu-4'] = bleu_score.sentence_bleu(references=[reference],\n",
        "                                                    hypothesis=hypothesis,\n",
        "                                                    smoothing_function=chencherry.method1)\n",
        "        \n",
        "        return output"
      ],
      "execution_count": null,
      "outputs": []
    },
    {
      "cell_type": "code",
      "metadata": {
        "id": "RIanx-NPt-1S",
        "outputId": "38b7316e-9f80-4aa3-f59b-430931a42c34"
      },
      "source": [
        "model = model.eval().to(args.device)\n",
        "\n",
        "sampler = NMTSampler(vectorizer, model)\n",
        "\n",
        "dataset.set_split('test')\n",
        "batch_generator = generate_nmt_batches(dataset, \n",
        "                                       batch_size=args.batch_size, \n",
        "                                       device=args.device)\n",
        "\n",
        "test_results = []\n",
        "for batch_dict in batch_generator:\n",
        "    sampler.apply_to_batch(batch_dict)\n",
        "    for i in range(args.batch_size):\n",
        "        test_results.append(sampler.get_ith_item(i, False))"
      ],
      "execution_count": null,
      "outputs": [
        {
          "output_type": "error",
          "ename": "NameError",
          "evalue": "name 'model' is not defined",
          "traceback": [
            "\u001b[0;31m---------------------------------------------------------------------------\u001b[0m",
            "\u001b[0;31mNameError\u001b[0m                                 Traceback (most recent call last)",
            "\u001b[0;32m<ipython-input-44-7dc56a612bd5>\u001b[0m in \u001b[0;36m<module>\u001b[0;34m\u001b[0m\n\u001b[0;32m----> 1\u001b[0;31m \u001b[0mmodel\u001b[0m \u001b[0;34m=\u001b[0m \u001b[0mmodel\u001b[0m\u001b[0;34m.\u001b[0m\u001b[0meval\u001b[0m\u001b[0;34m(\u001b[0m\u001b[0;34m)\u001b[0m\u001b[0;34m.\u001b[0m\u001b[0mto\u001b[0m\u001b[0;34m(\u001b[0m\u001b[0margs\u001b[0m\u001b[0;34m.\u001b[0m\u001b[0mdevice\u001b[0m\u001b[0;34m)\u001b[0m\u001b[0;34m\u001b[0m\u001b[0;34m\u001b[0m\u001b[0m\n\u001b[0m\u001b[1;32m      2\u001b[0m \u001b[0;34m\u001b[0m\u001b[0m\n\u001b[1;32m      3\u001b[0m \u001b[0msampler\u001b[0m \u001b[0;34m=\u001b[0m \u001b[0mNMTSampler\u001b[0m\u001b[0;34m(\u001b[0m\u001b[0mvectorizer\u001b[0m\u001b[0;34m,\u001b[0m \u001b[0mmodel\u001b[0m\u001b[0;34m)\u001b[0m\u001b[0;34m\u001b[0m\u001b[0;34m\u001b[0m\u001b[0m\n\u001b[1;32m      4\u001b[0m \u001b[0;34m\u001b[0m\u001b[0m\n\u001b[1;32m      5\u001b[0m \u001b[0mdataset\u001b[0m\u001b[0;34m.\u001b[0m\u001b[0mset_split\u001b[0m\u001b[0;34m(\u001b[0m\u001b[0;34m'test'\u001b[0m\u001b[0;34m)\u001b[0m\u001b[0;34m\u001b[0m\u001b[0;34m\u001b[0m\u001b[0m\n",
            "\u001b[0;31mNameError\u001b[0m: name 'model' is not defined"
          ]
        }
      ]
    },
    {
      "cell_type": "code",
      "metadata": {
        "id": "AAjZJoTEt-1S",
        "outputId": "9c22ed47-ae77-4415-be6d-248c4580b879"
      },
      "source": [
        "plt.hist([r['bleu-4'] for r in test_results], bins=100);\n",
        "np.mean([r['bleu-4'] for r in test_results]), np.median([r['bleu-4'] for r in test_results])"
      ],
      "execution_count": null,
      "outputs": [
        {
          "output_type": "error",
          "ename": "NameError",
          "evalue": "name 'plt' is not defined",
          "traceback": [
            "\u001b[0;31m---------------------------------------------------------------------------\u001b[0m",
            "\u001b[0;31mNameError\u001b[0m                                 Traceback (most recent call last)",
            "\u001b[0;32m<ipython-input-45-118e0a3b66ea>\u001b[0m in \u001b[0;36m<module>\u001b[0;34m\u001b[0m\n\u001b[0;32m----> 1\u001b[0;31m \u001b[0mplt\u001b[0m\u001b[0;34m.\u001b[0m\u001b[0mhist\u001b[0m\u001b[0;34m(\u001b[0m\u001b[0;34m[\u001b[0m\u001b[0mr\u001b[0m\u001b[0;34m[\u001b[0m\u001b[0;34m'bleu-4'\u001b[0m\u001b[0;34m]\u001b[0m \u001b[0;32mfor\u001b[0m \u001b[0mr\u001b[0m \u001b[0;32min\u001b[0m \u001b[0mtest_results\u001b[0m\u001b[0;34m]\u001b[0m\u001b[0;34m,\u001b[0m \u001b[0mbins\u001b[0m\u001b[0;34m=\u001b[0m\u001b[0;36m100\u001b[0m\u001b[0;34m)\u001b[0m\u001b[0;34m;\u001b[0m\u001b[0;34m\u001b[0m\u001b[0;34m\u001b[0m\u001b[0m\n\u001b[0m\u001b[1;32m      2\u001b[0m \u001b[0mnp\u001b[0m\u001b[0;34m.\u001b[0m\u001b[0mmean\u001b[0m\u001b[0;34m(\u001b[0m\u001b[0;34m[\u001b[0m\u001b[0mr\u001b[0m\u001b[0;34m[\u001b[0m\u001b[0;34m'bleu-4'\u001b[0m\u001b[0;34m]\u001b[0m \u001b[0;32mfor\u001b[0m \u001b[0mr\u001b[0m \u001b[0;32min\u001b[0m \u001b[0mtest_results\u001b[0m\u001b[0;34m]\u001b[0m\u001b[0;34m)\u001b[0m\u001b[0;34m,\u001b[0m \u001b[0mnp\u001b[0m\u001b[0;34m.\u001b[0m\u001b[0mmedian\u001b[0m\u001b[0;34m(\u001b[0m\u001b[0;34m[\u001b[0m\u001b[0mr\u001b[0m\u001b[0;34m[\u001b[0m\u001b[0;34m'bleu-4'\u001b[0m\u001b[0;34m]\u001b[0m \u001b[0;32mfor\u001b[0m \u001b[0mr\u001b[0m \u001b[0;32min\u001b[0m \u001b[0mtest_results\u001b[0m\u001b[0;34m]\u001b[0m\u001b[0;34m)\u001b[0m\u001b[0;34m\u001b[0m\u001b[0;34m\u001b[0m\u001b[0m\n",
            "\u001b[0;31mNameError\u001b[0m: name 'plt' is not defined"
          ]
        }
      ]
    },
    {
      "cell_type": "code",
      "metadata": {
        "id": "ujonz65wt-1S",
        "outputId": "5b6e5911-6898-4313-a040-1047a1358b02"
      },
      "source": [
        "dataset.set_split('val')\n",
        "batch_generator = generate_nmt_batches(dataset, \n",
        "                                       batch_size=args.batch_size, \n",
        "                                       device=args.device)\n",
        "batch_dict = next(batch_generator)\n",
        "\n",
        "model = model.eval().to(args.device)\n",
        "sampler = NMTSampler(vectorizer, model)\n",
        "sampler.apply_to_batch(batch_dict)"
      ],
      "execution_count": null,
      "outputs": [
        {
          "output_type": "error",
          "ename": "NameError",
          "evalue": "name 'dataset' is not defined",
          "traceback": [
            "\u001b[0;31m---------------------------------------------------------------------------\u001b[0m",
            "\u001b[0;31mNameError\u001b[0m                                 Traceback (most recent call last)",
            "\u001b[0;32m<ipython-input-46-862058b77b3e>\u001b[0m in \u001b[0;36m<module>\u001b[0;34m\u001b[0m\n\u001b[0;32m----> 1\u001b[0;31m \u001b[0mdataset\u001b[0m\u001b[0;34m.\u001b[0m\u001b[0mset_split\u001b[0m\u001b[0;34m(\u001b[0m\u001b[0;34m'val'\u001b[0m\u001b[0;34m)\u001b[0m\u001b[0;34m\u001b[0m\u001b[0;34m\u001b[0m\u001b[0m\n\u001b[0m\u001b[1;32m      2\u001b[0m batch_generator = generate_nmt_batches(dataset, \n\u001b[1;32m      3\u001b[0m                                        \u001b[0mbatch_size\u001b[0m\u001b[0;34m=\u001b[0m\u001b[0margs\u001b[0m\u001b[0;34m.\u001b[0m\u001b[0mbatch_size\u001b[0m\u001b[0;34m,\u001b[0m\u001b[0;34m\u001b[0m\u001b[0;34m\u001b[0m\u001b[0m\n\u001b[1;32m      4\u001b[0m                                        device=args.device)\n\u001b[1;32m      5\u001b[0m \u001b[0mbatch_dict\u001b[0m \u001b[0;34m=\u001b[0m \u001b[0mnext\u001b[0m\u001b[0;34m(\u001b[0m\u001b[0mbatch_generator\u001b[0m\u001b[0;34m)\u001b[0m\u001b[0;34m\u001b[0m\u001b[0;34m\u001b[0m\u001b[0m\n",
            "\u001b[0;31mNameError\u001b[0m: name 'dataset' is not defined"
          ]
        }
      ]
    },
    {
      "cell_type": "code",
      "metadata": {
        "id": "KBrXaW_3t-1T",
        "outputId": "fc4811df-756c-4f1e-d84c-0ab93f9788fb"
      },
      "source": [
        "all_results = []\n",
        "for i in range(args.batch_size):\n",
        "    all_results.append(sampler.get_ith_item(i, False))"
      ],
      "execution_count": null,
      "outputs": [
        {
          "output_type": "error",
          "ename": "NameError",
          "evalue": "name 'sampler' is not defined",
          "traceback": [
            "\u001b[0;31m---------------------------------------------------------------------------\u001b[0m",
            "\u001b[0;31mNameError\u001b[0m                                 Traceback (most recent call last)",
            "\u001b[0;32m<ipython-input-47-3acc57483235>\u001b[0m in \u001b[0;36m<module>\u001b[0;34m\u001b[0m\n\u001b[1;32m      1\u001b[0m \u001b[0mall_results\u001b[0m \u001b[0;34m=\u001b[0m \u001b[0;34m[\u001b[0m\u001b[0;34m]\u001b[0m\u001b[0;34m\u001b[0m\u001b[0;34m\u001b[0m\u001b[0m\n\u001b[1;32m      2\u001b[0m \u001b[0;32mfor\u001b[0m \u001b[0mi\u001b[0m \u001b[0;32min\u001b[0m \u001b[0mrange\u001b[0m\u001b[0;34m(\u001b[0m\u001b[0margs\u001b[0m\u001b[0;34m.\u001b[0m\u001b[0mbatch_size\u001b[0m\u001b[0;34m)\u001b[0m\u001b[0;34m:\u001b[0m\u001b[0;34m\u001b[0m\u001b[0;34m\u001b[0m\u001b[0m\n\u001b[0;32m----> 3\u001b[0;31m     \u001b[0mall_results\u001b[0m\u001b[0;34m.\u001b[0m\u001b[0mappend\u001b[0m\u001b[0;34m(\u001b[0m\u001b[0msampler\u001b[0m\u001b[0;34m.\u001b[0m\u001b[0mget_ith_item\u001b[0m\u001b[0;34m(\u001b[0m\u001b[0mi\u001b[0m\u001b[0;34m,\u001b[0m \u001b[0;32mFalse\u001b[0m\u001b[0;34m)\u001b[0m\u001b[0;34m)\u001b[0m\u001b[0;34m\u001b[0m\u001b[0;34m\u001b[0m\u001b[0m\n\u001b[0m",
            "\u001b[0;31mNameError\u001b[0m: name 'sampler' is not defined"
          ]
        }
      ]
    },
    {
      "cell_type": "code",
      "metadata": {
        "id": "_SL03ttvt-1T",
        "outputId": "cd0e631e-c13a-4043-bca8-514088120d3c"
      },
      "source": [
        "top_results = [x for x in all_results if x['bleu-4']>0.5]\n",
        "len(top_results)"
      ],
      "execution_count": null,
      "outputs": [
        {
          "output_type": "execute_result",
          "data": {
            "text/plain": [
              "0"
            ]
          },
          "metadata": {
            "tags": []
          },
          "execution_count": 48
        }
      ]
    },
    {
      "cell_type": "code",
      "metadata": {
        "id": "lcKqoe3St-1T"
      },
      "source": [
        "for sample in top_results:\n",
        "    plt.figure()\n",
        "    target_len = len(sample['sampled'])\n",
        "    source_len = len(sample['source'])\n",
        "\n",
        "    attention_matrix = sample['attention'][:target_len, :source_len+2].transpose()#[::-1]\n",
        "    ax = sns.heatmap(attention_matrix, center=0.0)\n",
        "    ylabs = [\"<BOS>\"]+sample['source']+[\"<EOS>\"]\n",
        "    #ylabs = sample['source']\n",
        "    #ylabs = ylabs[::-1]\n",
        "    ax.set_yticklabels(ylabs, rotation=0)\n",
        "    ax.set_xticklabels(sample['sampled'], rotation=90)\n",
        "    ax.set_xlabel(\"Target Sentence\")\n",
        "    ax.set_ylabel(\"Source Sentence\\n\\n\")"
      ],
      "execution_count": null,
      "outputs": []
    },
    {
      "cell_type": "code",
      "metadata": {
        "id": "aLoe0Lrqt-1T",
        "outputId": "1d1052fc-8392-49b0-cc14-05f9225ee416"
      },
      "source": [
        "def get_source_sentence(vectorizer, batch_dict, index):\n",
        "    indices = batch_dict['x_source'][index].cpu().data.numpy()\n",
        "    vocab = vectorizer.source_vocab\n",
        "    return sentence_from_indices(indices, vocab)\n",
        "\n",
        "def get_true_sentence(vectorizer, batch_dict, index):\n",
        "    return sentence_from_indices(batch_dict['y_target'].cpu().data.numpy()[index], vectorizer.target_vocab)\n",
        "    \n",
        "def get_sampled_sentence(vectorizer, batch_dict, index):\n",
        "    y_pred = model(x_source=batch_dict['x_source'], \n",
        "                   x_source_lengths=batch_dict['x_source_length'], \n",
        "                   target_sequence=batch_dict['x_target'], \n",
        "                   sample_probability=1.0)\n",
        "    return sentence_from_indices(torch.max(y_pred, dim=2)[1].cpu().data.numpy()[index], vectorizer.target_vocab)\n",
        "\n",
        "def get_all_sentences(vectorizer, batch_dict, index):\n",
        "    return {\"source\": get_source_sentence(vectorizer, batch_dict, index), \n",
        "            \"truth\": get_true_sentence(vectorizer, batch_dict, index), \n",
        "            \"sampled\": get_sampled_sentence(vectorizer, batch_dict, index)}\n",
        "    \n",
        "def sentence_from_indices(indices, vocab, strict=True):\n",
        "    ignore_indices = set([vocab.mask_index, vocab.begin_seq_index, vocab.end_seq_index])\n",
        "    out = []\n",
        "    for index in indices:\n",
        "        if index == vocab.begin_seq_index and strict:\n",
        "            continue\n",
        "        elif index == vocab.end_seq_index and strict:\n",
        "            return \" \".join(out)\n",
        "        else:\n",
        "            out.append(vocab.lookup_index(index))\n",
        "    return \" \".join(out)\n",
        "\n",
        "results = get_all_sentences(vectorizer, batch_dict, 1)\n",
        "results"
      ],
      "execution_count": null,
      "outputs": [
        {
          "output_type": "error",
          "ename": "NameError",
          "evalue": "name 'vectorizer' is not defined",
          "traceback": [
            "\u001b[0;31m---------------------------------------------------------------------------\u001b[0m",
            "\u001b[0;31mNameError\u001b[0m                                 Traceback (most recent call last)",
            "\u001b[0;32m<ipython-input-50-c197e579213d>\u001b[0m in \u001b[0;36m<module>\u001b[0;34m\u001b[0m\n\u001b[1;32m     31\u001b[0m     \u001b[0;32mreturn\u001b[0m \u001b[0;34m\" \"\u001b[0m\u001b[0;34m.\u001b[0m\u001b[0mjoin\u001b[0m\u001b[0;34m(\u001b[0m\u001b[0mout\u001b[0m\u001b[0;34m)\u001b[0m\u001b[0;34m\u001b[0m\u001b[0;34m\u001b[0m\u001b[0m\n\u001b[1;32m     32\u001b[0m \u001b[0;34m\u001b[0m\u001b[0m\n\u001b[0;32m---> 33\u001b[0;31m \u001b[0mresults\u001b[0m \u001b[0;34m=\u001b[0m \u001b[0mget_all_sentences\u001b[0m\u001b[0;34m(\u001b[0m\u001b[0mvectorizer\u001b[0m\u001b[0;34m,\u001b[0m \u001b[0mbatch_dict\u001b[0m\u001b[0;34m,\u001b[0m \u001b[0;36m1\u001b[0m\u001b[0;34m)\u001b[0m\u001b[0;34m\u001b[0m\u001b[0;34m\u001b[0m\u001b[0m\n\u001b[0m\u001b[1;32m     34\u001b[0m \u001b[0mresults\u001b[0m\u001b[0;34m\u001b[0m\u001b[0;34m\u001b[0m\u001b[0m\n",
            "\u001b[0;31mNameError\u001b[0m: name 'vectorizer' is not defined"
          ]
        }
      ]
    },
    {
      "cell_type": "code",
      "metadata": {
        "id": "YWcg982mt-1T"
      },
      "source": [
        ""
      ],
      "execution_count": null,
      "outputs": []
    },
    {
      "cell_type": "code",
      "metadata": {
        "id": "ctxIi5-ZETQc"
      },
      "source": [
        ""
      ],
      "execution_count": null,
      "outputs": []
    }
  ]
}