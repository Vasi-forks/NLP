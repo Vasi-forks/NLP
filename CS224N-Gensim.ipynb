{
 "cells": [
  {
   "cell_type": "code",
   "execution_count": 4,
   "metadata": {},
   "outputs": [],
   "source": [
    "import numpy as np\n",
    "\n",
    "# Get the interactive Tools for Matplotlib\n",
    "%matplotlib inline\n",
    "import matplotlib.pyplot as plt\n",
    "plt.style.use('ggplot')\n",
    "\n",
    "from sklearn.decomposition import PCA\n",
    "\n",
    "from gensim.test.utils import datapath, get_tmpfile\n",
    "from gensim.models import KeyedVectors\n",
    "from gensim.scripts.glove2word2vec import glove2word2vec"
   ]
  },
  {
   "cell_type": "markdown",
   "metadata": {},
   "source": [
    "### Word2Vec Model"
   ]
  },
  {
   "cell_type": "code",
   "execution_count": 5,
   "metadata": {},
   "outputs": [
    {
     "data": {
      "text/plain": [
       "(400000, 100)"
      ]
     },
     "execution_count": 5,
     "metadata": {},
     "output_type": "execute_result"
    }
   ],
   "source": [
    "glove_file = datapath('/Users/ling/Desktop/CS224/glove.6B.100d.txt')\n",
    "word2vec_glove_file = get_tmpfile(\"glove.6B.100d.word2vec.txt\")\n",
    "glove2word2vec(glove_file, word2vec_glove_file)"
   ]
  },
  {
   "cell_type": "code",
   "execution_count": 6,
   "metadata": {},
   "outputs": [],
   "source": [
    "model = KeyedVectors.load_word2vec_format(word2vec_glove_file)"
   ]
  },
  {
   "cell_type": "code",
   "execution_count": 39,
   "metadata": {},
   "outputs": [],
   "source": [
    "keywords = [\n",
    "\"how to lose weight\",\n",
    "\"gym\",\n",
    "\"fitness\",\n",
    "\"bodybuilding\",\n",
    "\"pilates\",\n",
    "\"exercise\",\n",
    "\"health\",\n",
    "\"weight loss\",\n",
    "\"workout\",\n",
    "\"diet\",\n",
    "\"nutrition\",\n",
    "\"personal trainer\",\n",
    "\"aerobic\",\n",
    "\"mens health\",\n",
    "\"lose weight\",\n",
    "\"athletic club\",\n",
    "\"health tips\"\n",
    "]"
   ]
  },
  {
   "cell_type": "code",
   "execution_count": 40,
   "metadata": {},
   "outputs": [
    {
     "name": "stdout",
     "output_type": "stream",
     "text": [
      "how to lose weight...not in vocabulary\n",
      "weight loss...not in vocabulary\n",
      "personal trainer...not in vocabulary\n",
      "mens health...not in vocabulary\n",
      "lose weight...not in vocabulary\n",
      "athletic club...not in vocabulary\n",
      "health tips...not in vocabulary\n"
     ]
    }
   ],
   "source": [
    "import pandas as pd\n",
    "extended_keywords = []\n",
    "for keyword in keywords:\n",
    "    extended_keywords.append(keyword)\n",
    "    try:\n",
    "        tmp = pd.DataFrame(model.most_similar(keyword))\n",
    "        for i in tmp[0]:\n",
    "            extended_keywords.append(i)\n",
    "#         extended_keywords.append(model.most_similar(keyword[1]))\n",
    "    except:\n",
    "        print(keyword + \"...not in vocabulary\")"
   ]
  },
  {
   "cell_type": "code",
   "execution_count": 42,
   "metadata": {},
   "outputs": [
    {
     "data": {
      "text/plain": [
       "117"
      ]
     },
     "execution_count": 42,
     "metadata": {},
     "output_type": "execute_result"
    }
   ],
   "source": [
    "len(extended_keywords)"
   ]
  },
  {
   "cell_type": "code",
   "execution_count": 43,
   "metadata": {},
   "outputs": [
    {
     "data": {
      "text/plain": [
       "['how to lose weight',\n",
       " 'gym',\n",
       " 'gyms',\n",
       " 'gymnasium',\n",
       " 'workout',\n",
       " 'room',\n",
       " 'cafeteria',\n",
       " 'playground',\n",
       " 'locker',\n",
       " 'canteen',\n",
       " 'dorm',\n",
       " 'fitness',\n",
       " 'fitness',\n",
       " 'workout',\n",
       " 'physical',\n",
       " 'wellness',\n",
       " 'mental',\n",
       " 'gym',\n",
       " 'aerobics',\n",
       " 'skills',\n",
       " 'training',\n",
       " 'testing',\n",
       " 'stamina',\n",
       " 'bodybuilding',\n",
       " 'motocross',\n",
       " 'powerlifting',\n",
       " 'wrestling',\n",
       " 'weightlifting',\n",
       " 'bodybuilder',\n",
       " 'judo',\n",
       " 'boxing',\n",
       " 'taekwondo',\n",
       " 'bodybuilders',\n",
       " 'kickboxing',\n",
       " 'pilates',\n",
       " 'yoga',\n",
       " 'aerobics',\n",
       " 'hatha',\n",
       " 'kriya',\n",
       " 'cardio',\n",
       " 'zumba',\n",
       " 'ashtanga',\n",
       " 'meditation',\n",
       " 'gym',\n",
       " 'patanjali',\n",
       " 'exercise',\n",
       " 'exercises',\n",
       " 'routine',\n",
       " 'training',\n",
       " 'practice',\n",
       " 'preparation',\n",
       " 'necessary',\n",
       " 'activities',\n",
       " 'exercising',\n",
       " 'regimen',\n",
       " 'take',\n",
       " 'health',\n",
       " 'care',\n",
       " 'medical',\n",
       " 'healthcare',\n",
       " 'education',\n",
       " 'welfare',\n",
       " 'environmental',\n",
       " 'nutrition',\n",
       " 'aids',\n",
       " 'prevention',\n",
       " 'hospitals',\n",
       " 'weight loss',\n",
       " 'workout',\n",
       " 'workouts',\n",
       " 'regimen',\n",
       " 'gym',\n",
       " 'fitness',\n",
       " 'pregame',\n",
       " 'shootaround',\n",
       " 'aerobics',\n",
       " 'treadmill',\n",
       " 'offseason',\n",
       " 'routine',\n",
       " 'diet',\n",
       " 'diets',\n",
       " 'eating',\n",
       " 'foods',\n",
       " 'nutrition',\n",
       " 'supplements',\n",
       " 'dietary',\n",
       " 'eat',\n",
       " 'vegetarian',\n",
       " 'calorie',\n",
       " 'fat',\n",
       " 'nutrition',\n",
       " 'nutritional',\n",
       " 'health',\n",
       " 'medicine',\n",
       " 'food',\n",
       " 'diet',\n",
       " 'care',\n",
       " 'hygiene',\n",
       " 'wellness',\n",
       " 'prevention',\n",
       " 'obesity',\n",
       " 'personal trainer',\n",
       " 'aerobic',\n",
       " 'anaerobic',\n",
       " 'respiration',\n",
       " 'aerobics',\n",
       " 'endurance',\n",
       " 'cardio',\n",
       " 'exertion',\n",
       " 'regimen',\n",
       " 'treadmill',\n",
       " 'cortisol',\n",
       " 'thermophilic',\n",
       " 'mens health',\n",
       " 'lose weight',\n",
       " 'athletic club',\n",
       " 'health tips']"
      ]
     },
     "execution_count": 43,
     "metadata": {},
     "output_type": "execute_result"
    }
   ],
   "source": [
    "extended_keywords"
   ]
  },
  {
   "cell_type": "code",
   "execution_count": 4,
   "metadata": {},
   "outputs": [
    {
     "data": {
      "text/plain": [
       "[('barack', 0.937216579914093),\n",
       " ('bush', 0.9272854328155518),\n",
       " ('clinton', 0.8960003852844238),\n",
       " ('mccain', 0.8875634074211121),\n",
       " ('gore', 0.8000321388244629),\n",
       " ('hillary', 0.7933663129806519),\n",
       " ('dole', 0.7851964235305786),\n",
       " ('rodham', 0.7518897652626038),\n",
       " ('romney', 0.7488930225372314),\n",
       " ('kerry', 0.7472623586654663)]"
      ]
     },
     "execution_count": 4,
     "metadata": {},
     "output_type": "execute_result"
    }
   ],
   "source": [
    "model.most_similar('obama')"
   ]
  },
  {
   "cell_type": "code",
   "execution_count": 5,
   "metadata": {},
   "outputs": [
    {
     "data": {
      "text/plain": [
       "[('coconut', 0.7097253799438477),\n",
       " ('mango', 0.7054824233055115),\n",
       " ('bananas', 0.6887733340263367),\n",
       " ('potato', 0.6629636287689209),\n",
       " ('pineapple', 0.6534532308578491),\n",
       " ('fruit', 0.6519854664802551),\n",
       " ('peanut', 0.6420576572418213),\n",
       " ('pecan', 0.6349173188209534),\n",
       " ('cashew', 0.629442036151886),\n",
       " ('papaya', 0.6246591210365295)]"
      ]
     },
     "execution_count": 5,
     "metadata": {},
     "output_type": "execute_result"
    }
   ],
   "source": [
    "model.most_similar('banana')"
   ]
  },
  {
   "cell_type": "code",
   "execution_count": 9,
   "metadata": {},
   "outputs": [
    {
     "data": {
      "text/plain": [
       "[('instagram', 0.8230136036872864),\n",
       " ('livejournal', 0.7461103200912476),\n",
       " ('pinterest', 0.7256048917770386),\n",
       " ('twitter', 0.7218025922775269),\n",
       " ('myspace', 0.7040384411811829),\n",
       " ('soundcloud', 0.7028563022613525),\n",
       " ('vimeo', 0.6964771747589111),\n",
       " ('purevolume', 0.6807675361633301),\n",
       " ('flickr', 0.6802016496658325),\n",
       " ('linkedin', 0.6753968596458435)]"
      ]
     },
     "execution_count": 9,
     "metadata": {},
     "output_type": "execute_result"
    }
   ],
   "source": [
    "model.most_similar('tumblr')"
   ]
  },
  {
   "cell_type": "code",
   "execution_count": 10,
   "metadata": {},
   "outputs": [
    {
     "name": "stdout",
     "output_type": "stream",
     "text": [
      "queen: 0.7699\n"
     ]
    }
   ],
   "source": [
    "result = model.most_similar(positive=['woman', 'king'], negative=['man'])\n",
    "print(\"{}: {:.4f}\".format(*result[0]))"
   ]
  },
  {
   "cell_type": "code",
   "execution_count": 11,
   "metadata": {},
   "outputs": [],
   "source": [
    "def analogy(x1, x2, y1):\n",
    "    result = model.most_similar(positive=[y1, x2], negative=[x1])\n",
    "    return result\n",
    "#     return result[0][0]"
   ]
  },
  {
   "cell_type": "code",
   "execution_count": 12,
   "metadata": {},
   "outputs": [
    {
     "data": {
      "text/plain": [
       "[('australian', 0.8923498392105103),\n",
       " ('zealand', 0.8012940883636475),\n",
       " ('british', 0.7840811014175415),\n",
       " ('australians', 0.6766529083251953),\n",
       " ('indian', 0.670796811580658),\n",
       " ('canadian', 0.660130500793457),\n",
       " ('english', 0.6396120190620422),\n",
       " ('england', 0.6350405216217041),\n",
       " ('sydney', 0.6257352232933044),\n",
       " ('britain', 0.6175569295883179)]"
      ]
     },
     "execution_count": 12,
     "metadata": {},
     "output_type": "execute_result"
    }
   ],
   "source": [
    "analogy('japan', 'japanese', 'australia')"
   ]
  },
  {
   "cell_type": "code",
   "execution_count": 13,
   "metadata": {},
   "outputs": [
    {
     "data": {
      "text/plain": [
       "[('champagne', 0.6480064392089844),\n",
       " ('wine', 0.6029773354530334),\n",
       " ('cognac', 0.599911093711853),\n",
       " ('drink', 0.596866250038147),\n",
       " ('perfume', 0.5843737125396729),\n",
       " ('drinks', 0.5787433981895447),\n",
       " ('vodka', 0.5771392583847046),\n",
       " ('beers', 0.5634331107139587),\n",
       " ('anheuser', 0.5613827705383301),\n",
       " ('bourbon', 0.552852988243103)]"
      ]
     },
     "execution_count": 13,
     "metadata": {},
     "output_type": "execute_result"
    }
   ],
   "source": [
    "analogy('australia', 'beer', 'france')"
   ]
  },
  {
   "cell_type": "code",
   "execution_count": 14,
   "metadata": {},
   "outputs": [
    {
     "data": {
      "text/plain": [
       "[('nixon', 0.7844685912132263),\n",
       " ('ronald', 0.7311492562294006),\n",
       " ('eisenhower', 0.7001146674156189),\n",
       " ('kennedy', 0.6773301362991333),\n",
       " ('roosevelt', 0.6699341535568237),\n",
       " ('h.w.', 0.6697346568107605),\n",
       " ('truman', 0.6546196937561035),\n",
       " ('kissinger', 0.6443866491317749),\n",
       " ('administrations', 0.6249614953994751),\n",
       " ('watergate', 0.6158170700073242)]"
      ]
     },
     "execution_count": 14,
     "metadata": {},
     "output_type": "execute_result"
    }
   ],
   "source": [
    "analogy('obama', 'clinton', 'reagan')"
   ]
  },
  {
   "cell_type": "code",
   "execution_count": 15,
   "metadata": {},
   "outputs": [
    {
     "data": {
      "text/plain": [
       "[('longest', 0.7037105560302734),\n",
       " ('the', 0.6229448914527893),\n",
       " ('major', 0.6216300129890442),\n",
       " ('time', 0.6173369884490967),\n",
       " ('first', 0.616451621055603),\n",
       " ('since', 0.60569828748703),\n",
       " ('decade', 0.6019696593284607),\n",
       " ('busiest', 0.600587785243988),\n",
       " ('its', 0.6004384756088257),\n",
       " ('part', 0.6002342700958252)]"
      ]
     },
     "execution_count": 15,
     "metadata": {},
     "output_type": "execute_result"
    }
   ],
   "source": [
    "analogy('tall', 'tallest', 'long')"
   ]
  },
  {
   "cell_type": "code",
   "execution_count": 16,
   "metadata": {},
   "outputs": [
    {
     "data": {
      "text/plain": [
       "[('terrible', 0.7074226140975952),\n",
       " ('awful', 0.70609450340271),\n",
       " ('horrible', 0.6906466484069824),\n",
       " ('scary', 0.680291473865509),\n",
       " ('weird', 0.6775556206703186),\n",
       " ('crazy', 0.6615543365478516),\n",
       " ('strange', 0.6522735953330994),\n",
       " ('dreadful', 0.6404813528060913),\n",
       " ('bizarre', 0.6389496922492981),\n",
       " ('incredible', 0.6321425437927246)]"
      ]
     },
     "execution_count": 16,
     "metadata": {},
     "output_type": "execute_result"
    }
   ],
   "source": [
    "analogy('good', 'fantastic', 'bad')"
   ]
  },
  {
   "cell_type": "code",
   "execution_count": 17,
   "metadata": {},
   "outputs": [
    {
     "name": "stdout",
     "output_type": "stream",
     "text": [
      "cereal\n"
     ]
    },
    {
     "name": "stderr",
     "output_type": "stream",
     "text": [
      "/Users/ling/miniconda3/lib/python3.7/site-packages/gensim/models/keyedvectors.py:730: FutureWarning: arrays to stack must be passed as a \"sequence\" type such as list or tuple. Support for non-sequence iterables such as generators is deprecated as of NumPy 1.16 and will raise an error in the future.\n",
      "  vectors = vstack(self.word_vec(word, use_norm=True) for word in used_words).astype(REAL)\n"
     ]
    }
   ],
   "source": [
    "print(model.doesnt_match(\"breakfast cereal dinner lunch\".split()))"
   ]
  },
  {
   "cell_type": "code",
   "execution_count": 17,
   "metadata": {},
   "outputs": [],
   "source": [
    "def display_pca_scatterplot(model, words=None, sample=0):\n",
    "    if words == None:\n",
    "        if sample > 0:\n",
    "            words = np.random.choice(list(model.vocab.keys()), sample)\n",
    "        else:\n",
    "            words = [ word for word in model.vocab ]\n",
    "        \n",
    "    word_vectors = np.array([model[w] for w in words])\n",
    "\n",
    "    twodim = PCA().fit_transform(word_vectors)[:,:2]\n",
    "    \n",
    "    plt.figure(figsize=(6,6))\n",
    "    plt.scatter(twodim[:,0], twodim[:,1], edgecolors='k', c='r')\n",
    "    for word, (x,y) in zip(words, twodim):\n",
    "        plt.text(x+0.05, y+0.05, word)"
   ]
  },
  {
   "cell_type": "code",
   "execution_count": 24,
   "metadata": {},
   "outputs": [
    {
     "data": {
      "image/png": "[encoded data removed]",
      "text/plain": [
       "<Figure size 432x432 with 1 Axes>"
      ]
     },
     "metadata": {},
     "output_type": "display_data"
    }
   ],
   "source": [
    "display_pca_scatterplot(model, \n",
    "                        ['coffee', 'tea', 'beer', 'wine', 'brandy', 'rum', 'champagne', 'water',\n",
    "                         'spaghetti', 'borscht', 'hamburger', 'pizza', 'falafel', 'sushi', 'meatballs',\n",
    "                         'dog', 'horse', 'cat', 'monkey', 'parrot', 'koala', 'lizard',\n",
    "                         'frog', 'toad', 'monkey', 'ape', 'kangaroo', 'wombat', 'wolf',\n",
    "                         'france', 'germany', 'hungary', 'luxembourg', 'australia', 'fiji', 'china',\n",
    "                         'homework', 'assignment', 'problem', 'exam', 'test', 'class',\n",
    "                         'school', 'college', 'university', 'institute'])"
   ]
  },
  {
   "cell_type": "code",
   "execution_count": 27,
   "metadata": {},
   "outputs": [
    {
     "data": {
      "image/png": "[encoded data removed]",
      "text/plain": [
       "<Figure size 432x432 with 1 Axes>"
      ]
     },
     "metadata": {},
     "output_type": "display_data"
    }
   ],
   "source": [
    "display_pca_scatterplot(model, sample=50)"
   ]
  },
  {
   "cell_type": "code",
   "execution_count": null,
   "metadata": {},
   "outputs": [],
   "source": []
  }
 ],
 "metadata": {
  "kernelspec": {
   "display_name": "Python 3",
   "language": "python",
   "name": "python3"
  },
  "language_info": {
   "codemirror_mode": {
    "name": "ipython",
    "version": 3
   },
   "file_extension": ".py",
   "mimetype": "text/x-python",
   "name": "python",
   "nbconvert_exporter": "python",
   "pygments_lexer": "ipython3",
   "version": "3.7.6"
  }
 },
 "nbformat": 4,
 "nbformat_minor": 2
}
