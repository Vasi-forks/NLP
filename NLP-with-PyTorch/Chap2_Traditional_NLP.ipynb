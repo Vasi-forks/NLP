{
  "nbformat": 4,
  "nbformat_minor": 0,
  "metadata": {
    "kernelspec": {
      "display_name": "Python 3",
      "language": "python",
      "name": "python3"
    },
    "language_info": {
      "codemirror_mode": {
        "name": "ipython",
        "version": 3
      },
      "file_extension": ".py",
      "mimetype": "text/x-python",
      "name": "python",
      "nbconvert_exporter": "python",
      "pygments_lexer": "ipython3",
      "version": "3.7.6"
    },
    "colab": {
      "name": "Chap2_Traditional_NLP.ipynb",
      "provenance": [],
      "include_colab_link": true
    },
    "accelerator": "GPU"
  },
  "cells": [
    {
      "cell_type": "markdown",
      "metadata": {
        "id": "view-in-github",
        "colab_type": "text"
      },
      "source": [
        "<a href=\"https://colab.research.google.com/github/linghduoduo/NLP/blob/master/Chap2_Traditional_NLP.ipynb\" target=\"_parent\"><img src=\"https://colab.research.google.com/assets/colab-badge.svg\" alt=\"Open In Colab\"/></a>"
      ]
    },
    {
      "cell_type": "markdown",
      "metadata": {
        "id": "OwNFEURA36DC"
      },
      "source": [
        "### Corpora, Tokens and Types"
      ]
    },
    {
      "cell_type": "code",
      "metadata": {
        "id": "5wGWV8rc36DI"
      },
      "source": [
        "##!python -m spacy download en_core_web_sm"
      ],
      "execution_count": 1,
      "outputs": []
    },
    {
      "cell_type": "code",
      "metadata": {
        "id": "OzYHSpPm36DK"
      },
      "source": [
        "import spacy\n",
        "nlp = spacy.load(\"en_core_web_sm\")"
      ],
      "execution_count": 2,
      "outputs": []
    },
    {
      "cell_type": "code",
      "metadata": {
        "colab": {
          "base_uri": "https://localhost:8080/"
        },
        "id": "KiHCwzPE36DK",
        "outputId": "142e10a0-b108-42e0-c428-1094b5886b8b"
      },
      "source": [
        "text = \"Mary, don’t slap the green witch\"\n",
        "print([str(token) for token in nlp(text.lower())])"
      ],
      "execution_count": 3,
      "outputs": [
        {
          "output_type": "stream",
          "text": [
            "['mary', ',', 'do', 'n’t', 'slap', 'the', 'green', 'witch']\n"
          ],
          "name": "stdout"
        }
      ]
    },
    {
      "cell_type": "code",
      "metadata": {
        "colab": {
          "base_uri": "https://localhost:8080/"
        },
        "id": "rRXpm75C36DL",
        "outputId": "31573d3a-129f-497d-be8c-77d51215a9bb"
      },
      "source": [
        "from nltk.tokenize import TreebankWordTokenizer\n",
        "text = \"Mary, don’t slap the green witch\"\n",
        "tokenizer = TreebankWordTokenizer()\n",
        "print(tokenizer.tokenize(text))"
      ],
      "execution_count": 4,
      "outputs": [
        {
          "output_type": "stream",
          "text": [
            "['Mary', ',', 'don', '’', 't', 'slap', 'the', 'green', 'witch']\n"
          ],
          "name": "stdout"
        }
      ]
    },
    {
      "cell_type": "code",
      "metadata": {
        "colab": {
          "base_uri": "https://localhost:8080/"
        },
        "id": "Q8u6CbSR36DL",
        "outputId": "9c62aca3-f4ef-402c-a9ab-4e6fbae1dd01"
      },
      "source": [
        "from nltk.tokenize import TweetTokenizer\n",
        "tweet=u\"Snow White and the Seven Degrees #MakeAMovieCold@midnight:-)\"\n",
        "tokenizer = TweetTokenizer()\n",
        "print(tokenizer.tokenize(tweet.lower()))"
      ],
      "execution_count": 5,
      "outputs": [
        {
          "output_type": "stream",
          "text": [
            "['snow', 'white', 'and', 'the', 'seven', 'degrees', '#makeamoviecold', '@midnight', ':-)']\n"
          ],
          "name": "stdout"
        }
      ]
    },
    {
      "cell_type": "markdown",
      "metadata": {
        "id": "X4H2PgrK36DM"
      },
      "source": [
        "### Unigrams, Bigrams, Trigrams, ..., N-grams"
      ]
    },
    {
      "cell_type": "code",
      "metadata": {
        "colab": {
          "base_uri": "https://localhost:8080/"
        },
        "id": "aWXyDvqh36DM",
        "outputId": "cdda7543-0b4d-4f2c-b862-e79bc4b33472"
      },
      "source": [
        "def n_grams(text, n):\n",
        "    '''\n",
        "    takes tokens or text, returns a list of n-grams\n",
        "    '''\n",
        "    return [text[i:i+n] for i in range(len(text)-n+1)]\n",
        "\n",
        "cleaned = ['mary', ',', \"n't\", 'slap', 'green', 'witch', '.']\n",
        "print(n_grams(cleaned, 3))"
      ],
      "execution_count": 6,
      "outputs": [
        {
          "output_type": "stream",
          "text": [
            "[['mary', ',', \"n't\"], [',', \"n't\", 'slap'], [\"n't\", 'slap', 'green'], ['slap', 'green', 'witch'], ['green', 'witch', '.']]\n"
          ],
          "name": "stdout"
        }
      ]
    },
    {
      "cell_type": "markdown",
      "metadata": {
        "id": "_-Jrk8l336DM"
      },
      "source": [
        "### Lemmas and Stems"
      ]
    },
    {
      "cell_type": "code",
      "metadata": {
        "colab": {
          "base_uri": "https://localhost:8080/"
        },
        "id": "4H74lnwL36DN",
        "outputId": "eec175e4-a766-4324-b2fe-e9cdf1729e72"
      },
      "source": [
        "doc = nlp(u\"he was running late\")\n",
        "for token in doc:\n",
        "    print('{} --> {}'.format(token, token.lemma_))"
      ],
      "execution_count": 7,
      "outputs": [
        {
          "output_type": "stream",
          "text": [
            "he --> -PRON-\n",
            "was --> be\n",
            "running --> run\n",
            "late --> late\n"
          ],
          "name": "stdout"
        }
      ]
    },
    {
      "cell_type": "markdown",
      "metadata": {
        "id": "nIzEKsc236DN"
      },
      "source": [
        "### Categorizing Words: POS Tagging"
      ]
    },
    {
      "cell_type": "code",
      "metadata": {
        "colab": {
          "base_uri": "https://localhost:8080/"
        },
        "id": "Ze37_d3Z36DN",
        "outputId": "3114b8c7-d50a-435a-9055-948551a67a99"
      },
      "source": [
        "doc = nlp(u\"Mary slapped the green witch.\")\n",
        "for token in doc:\n",
        "    print('{} - {}'.format(token, token.pos_))"
      ],
      "execution_count": 8,
      "outputs": [
        {
          "output_type": "stream",
          "text": [
            "Mary - PROPN\n",
            "slapped - VERB\n",
            "the - DET\n",
            "green - ADJ\n",
            "witch - NOUN\n",
            ". - PUNCT\n"
          ],
          "name": "stdout"
        }
      ]
    },
    {
      "cell_type": "markdown",
      "metadata": {
        "id": "yGM-UjtX36DO"
      },
      "source": [
        "### Chunking and Named Entity Recognition"
      ]
    },
    {
      "cell_type": "code",
      "metadata": {
        "colab": {
          "base_uri": "https://localhost:8080/"
        },
        "id": "C-BfyTMZ36DO",
        "outputId": "7de5b1fc-0c0d-4521-bf55-2a929ae18b82"
      },
      "source": [
        "doc  = nlp(u\"Mary slapped the green witch.\")\n",
        "for chunk in doc.noun_chunks:\n",
        "    print ('{} - {}'.format(chunk, chunk.label_))"
      ],
      "execution_count": 9,
      "outputs": [
        {
          "output_type": "stream",
          "text": [
            "Mary - NP\n",
            "the green witch - NP\n"
          ],
          "name": "stdout"
        }
      ]
    }
  ]
}