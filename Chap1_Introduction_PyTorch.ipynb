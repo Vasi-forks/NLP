{
  "nbformat": 4,
  "nbformat_minor": 0,
  "metadata": {
    "kernelspec": {
      "display_name": "Python 3",
      "language": "python",
      "name": "python3"
    },
    "language_info": {
      "codemirror_mode": {
        "name": "ipython",
        "version": 3
      },
      "file_extension": ".py",
      "mimetype": "text/x-python",
      "name": "python",
      "nbconvert_exporter": "python",
      "pygments_lexer": "ipython3",
      "version": "3.7.6"
    },
    "colab": {
      "name": "Chap1-Introduction-PyTorch.ipynb",
      "provenance": [],
      "include_colab_link": true
    }
  },
  "cells": [
    {
      "cell_type": "markdown",
      "metadata": {
        "id": "view-in-github",
        "colab_type": "text"
      },
      "source": [
        "<a href=\"https://colab.research.google.com/github/linghduoduo/NLP/blob/master/Chap1_Introduction_PyTorch.ipynb\" target=\"_parent\"><img src=\"https://colab.research.google.com/assets/colab-badge.svg\" alt=\"Open In Colab\"/></a>"
      ]
    },
    {
      "cell_type": "markdown",
      "metadata": {
        "id": "R4fqKq5nyPQx"
      },
      "source": [
        "## Observation and Target Encoding"
      ]
    },
    {
      "cell_type": "code",
      "metadata": {
        "id": "HXXOhJdUyPQ3"
      },
      "source": [
        "from sklearn.feature_extraction.text import CountVectorizer"
      ],
      "execution_count": 1,
      "outputs": []
    },
    {
      "cell_type": "code",
      "metadata": {
        "id": "ftP043xNyPQ3"
      },
      "source": [
        "import seaborn as sns"
      ],
      "execution_count": 2,
      "outputs": []
    },
    {
      "cell_type": "code",
      "metadata": {
        "id": "1W7PDOw3yPQ4"
      },
      "source": [
        "corpus = ['Time flies flies like an arrow.','Fruit flies like a banana.']\n",
        "one_hot_vectorizer = CountVectorizer(binary=True)\n",
        "one_hot = one_hot_vectorizer.fit_transform(corpus).toarray()"
      ],
      "execution_count": 3,
      "outputs": []
    },
    {
      "cell_type": "code",
      "metadata": {
        "id": "_8TNhVtAyPQ4"
      },
      "source": [
        "from sklearn.feature_extraction.text import TfidfVectorizer\n",
        "import seaborn as sns\n",
        " \n",
        "tfidf_vectorizer = TfidfVectorizer()\n",
        "tfidf = tfidf_vectorizer.fit_transform(corpus).toarray()"
      ],
      "execution_count": 4,
      "outputs": []
    },
    {
      "cell_type": "code",
      "metadata": {
        "id": "polZHbnwyPQ4",
        "colab": {
          "base_uri": "https://localhost:8080/"
        },
        "outputId": "685386d0-1ccd-41b5-bfa7-c41ea6cba659"
      },
      "source": [
        "tfidf"
      ],
      "execution_count": 5,
      "outputs": [
        {
          "output_type": "execute_result",
          "data": {
            "text/plain": [
              "array([[0.42519636, 0.42519636, 0.        , 0.60506143, 0.        ,\n",
              "        0.30253071, 0.42519636],\n",
              "       [0.        , 0.        , 0.57615236, 0.40993715, 0.57615236,\n",
              "        0.40993715, 0.        ]])"
            ]
          },
          "metadata": {
            "tags": []
          },
          "execution_count": 5
        }
      ]
    },
    {
      "cell_type": "markdown",
      "metadata": {
        "id": "h2pUHhoHyPQ5"
      },
      "source": [
        "## PyTorch Basics"
      ]
    },
    {
      "cell_type": "code",
      "metadata": {
        "id": "yDnj2D7tyPQ5",
        "colab": {
          "base_uri": "https://localhost:8080/"
        },
        "outputId": "c917bb55-3f0d-4ea9-9a50-866ca981bcfd"
      },
      "source": [
        "import torch\n",
        "import numpy as np\n",
        "torch.manual_seed(1234)"
      ],
      "execution_count": 6,
      "outputs": [
        {
          "output_type": "execute_result",
          "data": {
            "text/plain": [
              "<torch._C.Generator at 0x7fae05b9d498>"
            ]
          },
          "metadata": {
            "tags": []
          },
          "execution_count": 6
        }
      ]
    },
    {
      "cell_type": "code",
      "metadata": {
        "id": "QpB-1G9ZyPQ6"
      },
      "source": [
        "def describe(x):\n",
        "    print(\"Type: {}\".format(x.type()))\n",
        "    print(\"Shape/size: {}\".format(x.shape))\n",
        "    print(\"Values: \\n{}\".format(x))"
      ],
      "execution_count": 7,
      "outputs": []
    },
    {
      "cell_type": "markdown",
      "metadata": {
        "id": "0mUNA3IHyPQ6"
      },
      "source": [
        "- Scalar is a single number.\n",
        "- Vector is an array of numbers.\n",
        "- Matrix is a 2-D array of numbers.\n",
        "- Tensors are N-D arrays of numbers."
      ]
    },
    {
      "cell_type": "code",
      "metadata": {
        "id": "brcSxbqzyPQ6",
        "colab": {
          "base_uri": "https://localhost:8080/"
        },
        "outputId": "b73a0b62-e4ce-42ea-82ca-b22dd8db8c7c"
      },
      "source": [
        "describe(torch.Tensor(2, 3))"
      ],
      "execution_count": 8,
      "outputs": [
        {
          "output_type": "stream",
          "text": [
            "Type: torch.FloatTensor\n",
            "Shape/size: torch.Size([2, 3])\n",
            "Values: \n",
            "tensor([[5.0205e-35, 0.0000e+00, 3.7835e-44],\n",
            "        [0.0000e+00,        nan, 0.0000e+00]])\n"
          ],
          "name": "stdout"
        }
      ]
    },
    {
      "cell_type": "code",
      "metadata": {
        "scrolled": true,
        "id": "KS-MzB8jyPQ7",
        "colab": {
          "base_uri": "https://localhost:8080/"
        },
        "outputId": "5b040c0b-9d48-4cb0-f961-b1168c99b972"
      },
      "source": [
        "describe(torch.rand(2,3))"
      ],
      "execution_count": 9,
      "outputs": [
        {
          "output_type": "stream",
          "text": [
            "Type: torch.FloatTensor\n",
            "Shape/size: torch.Size([2, 3])\n",
            "Values: \n",
            "tensor([[0.0290, 0.4019, 0.2598],\n",
            "        [0.3666, 0.0583, 0.7006]])\n"
          ],
          "name": "stdout"
        }
      ]
    },
    {
      "cell_type": "code",
      "metadata": {
        "scrolled": true,
        "id": "qM0ggJscyPQ7",
        "colab": {
          "base_uri": "https://localhost:8080/"
        },
        "outputId": "68834c1a-1a29-4f6f-daa6-a9525519ca2b"
      },
      "source": [
        "describe(torch.randn(2,3))"
      ],
      "execution_count": 10,
      "outputs": [
        {
          "output_type": "stream",
          "text": [
            "Type: torch.FloatTensor\n",
            "Shape/size: torch.Size([2, 3])\n",
            "Values: \n",
            "tensor([[-0.8545,  0.5098, -0.0821],\n",
            "        [ 0.6607,  0.0785,  0.7884]])\n"
          ],
          "name": "stdout"
        }
      ]
    },
    {
      "cell_type": "code",
      "metadata": {
        "scrolled": true,
        "id": "n3ANIu41yPQ7",
        "colab": {
          "base_uri": "https://localhost:8080/"
        },
        "outputId": "4f55794f-b219-4aec-ca12-643111d6ea7b"
      },
      "source": [
        "describe(torch.zeros(2,3))"
      ],
      "execution_count": 11,
      "outputs": [
        {
          "output_type": "stream",
          "text": [
            "Type: torch.FloatTensor\n",
            "Shape/size: torch.Size([2, 3])\n",
            "Values: \n",
            "tensor([[0., 0., 0.],\n",
            "        [0., 0., 0.]])\n"
          ],
          "name": "stdout"
        }
      ]
    },
    {
      "cell_type": "code",
      "metadata": {
        "id": "FDrCg8iiyPQ7",
        "colab": {
          "base_uri": "https://localhost:8080/"
        },
        "outputId": "e05706ed-1393-4be4-a3be-e4f0715b289c"
      },
      "source": [
        "x=torch.ones(2,3)\n",
        "describe(x)"
      ],
      "execution_count": 12,
      "outputs": [
        {
          "output_type": "stream",
          "text": [
            "Type: torch.FloatTensor\n",
            "Shape/size: torch.Size([2, 3])\n",
            "Values: \n",
            "tensor([[1., 1., 1.],\n",
            "        [1., 1., 1.]])\n"
          ],
          "name": "stdout"
        }
      ]
    },
    {
      "cell_type": "code",
      "metadata": {
        "id": "Q8X0JRklyPQ7",
        "colab": {
          "base_uri": "https://localhost:8080/"
        },
        "outputId": "8a4aefc7-ba23-4b6b-a306-335b40bd905c"
      },
      "source": [
        "x.fill_(5)\n",
        "describe(x)"
      ],
      "execution_count": 13,
      "outputs": [
        {
          "output_type": "stream",
          "text": [
            "Type: torch.FloatTensor\n",
            "Shape/size: torch.Size([2, 3])\n",
            "Values: \n",
            "tensor([[5., 5., 5.],\n",
            "        [5., 5., 5.]])\n"
          ],
          "name": "stdout"
        }
      ]
    },
    {
      "cell_type": "code",
      "metadata": {
        "id": "jgNOWH7fyPQ8",
        "colab": {
          "base_uri": "https://localhost:8080/"
        },
        "outputId": "24a020b9-82e4-4772-8d85-64461ec73e1d"
      },
      "source": [
        "x = torch.Tensor([[1,2,3], [4,5,6]])\n",
        "describe(x)"
      ],
      "execution_count": 14,
      "outputs": [
        {
          "output_type": "stream",
          "text": [
            "Type: torch.FloatTensor\n",
            "Shape/size: torch.Size([2, 3])\n",
            "Values: \n",
            "tensor([[1., 2., 3.],\n",
            "        [4., 5., 6.]])\n"
          ],
          "name": "stdout"
        }
      ]
    },
    {
      "cell_type": "code",
      "metadata": {
        "id": "EdH3Wi-wyPQ8",
        "colab": {
          "base_uri": "https://localhost:8080/"
        },
        "outputId": "5efe7fa7-4866-4b2c-c221-580571c550e6"
      },
      "source": [
        "x = torch.Tensor(3,4).fill_(5)\n",
        "print(x.type())\n",
        "print(x.shape)\n",
        "print(x)"
      ],
      "execution_count": 15,
      "outputs": [
        {
          "output_type": "stream",
          "text": [
            "torch.FloatTensor\n",
            "torch.Size([3, 4])\n",
            "tensor([[5., 5., 5., 5.],\n",
            "        [5., 5., 5., 5.],\n",
            "        [5., 5., 5., 5.]])\n"
          ],
          "name": "stdout"
        }
      ]
    },
    {
      "cell_type": "code",
      "metadata": {
        "scrolled": true,
        "id": "7k2ZLEuZyPQ8",
        "colab": {
          "base_uri": "https://localhost:8080/"
        },
        "outputId": "25853178-e654-4c8f-e8b3-6f1847001967"
      },
      "source": [
        "import numpy as np\n",
        "npy = np.random.rand(2, 3)\n",
        "describe(torch.from_numpy(npy))"
      ],
      "execution_count": 16,
      "outputs": [
        {
          "output_type": "stream",
          "text": [
            "Type: torch.DoubleTensor\n",
            "Shape/size: torch.Size([2, 3])\n",
            "Values: \n",
            "tensor([[0.3037, 0.0437, 0.3088],\n",
            "        [0.3447, 0.9759, 0.4864]], dtype=torch.float64)\n"
          ],
          "name": "stdout"
        }
      ]
    },
    {
      "cell_type": "code",
      "metadata": {
        "id": "V5Wxb-bDyPQ8",
        "colab": {
          "base_uri": "https://localhost:8080/"
        },
        "outputId": "aea78d33-d15d-4108-f75e-575073490651"
      },
      "source": [
        "x = torch.FloatTensor([[1, 2, 3],  \n",
        "                      [4, 5, 6]])\n",
        "describe(x)"
      ],
      "execution_count": 17,
      "outputs": [
        {
          "output_type": "stream",
          "text": [
            "Type: torch.FloatTensor\n",
            "Shape/size: torch.Size([2, 3])\n",
            "Values: \n",
            "tensor([[1., 2., 3.],\n",
            "        [4., 5., 6.]])\n"
          ],
          "name": "stdout"
        }
      ]
    },
    {
      "cell_type": "code",
      "metadata": {
        "id": "sbueXC_iyPQ9",
        "colab": {
          "base_uri": "https://localhost:8080/"
        },
        "outputId": "5a9a722b-dff9-4d4a-85a2-dccc2535fe75"
      },
      "source": [
        "x = x.long()\n",
        "describe(x)"
      ],
      "execution_count": 18,
      "outputs": [
        {
          "output_type": "stream",
          "text": [
            "Type: torch.LongTensor\n",
            "Shape/size: torch.Size([2, 3])\n",
            "Values: \n",
            "tensor([[1, 2, 3],\n",
            "        [4, 5, 6]])\n"
          ],
          "name": "stdout"
        }
      ]
    },
    {
      "cell_type": "code",
      "metadata": {
        "id": "3aktY8NryPQ9",
        "colab": {
          "base_uri": "https://localhost:8080/"
        },
        "outputId": "e40095e3-74d0-47d3-bde3-d01f8e78584c"
      },
      "source": [
        "x = torch.tensor([[1, 2, 3], \n",
        "                 [4, 5, 6]], dtype=torch.int64)\n",
        "describe(x)"
      ],
      "execution_count": 19,
      "outputs": [
        {
          "output_type": "stream",
          "text": [
            "Type: torch.LongTensor\n",
            "Shape/size: torch.Size([2, 3])\n",
            "Values: \n",
            "tensor([[1, 2, 3],\n",
            "        [4, 5, 6]])\n"
          ],
          "name": "stdout"
        }
      ]
    },
    {
      "cell_type": "code",
      "metadata": {
        "id": "KBOrtx6qyPQ9",
        "colab": {
          "base_uri": "https://localhost:8080/"
        },
        "outputId": "0f145d4d-328f-4cf6-80c7-490dbb331cf7"
      },
      "source": [
        "x = torch.randn(2, 3)\n",
        "describe(x)"
      ],
      "execution_count": 20,
      "outputs": [
        {
          "output_type": "stream",
          "text": [
            "Type: torch.FloatTensor\n",
            "Shape/size: torch.Size([2, 3])\n",
            "Values: \n",
            "tensor([[ 1.5385, -0.9757,  1.5769],\n",
            "        [ 0.3840, -0.6039, -0.5240]])\n"
          ],
          "name": "stdout"
        }
      ]
    },
    {
      "cell_type": "code",
      "metadata": {
        "id": "0FlwBcQKyPQ9",
        "colab": {
          "base_uri": "https://localhost:8080/"
        },
        "outputId": "18e0264a-89e8-47c1-deb0-a6863aea9b47"
      },
      "source": [
        "describe(torch.add(x, x))"
      ],
      "execution_count": 21,
      "outputs": [
        {
          "output_type": "stream",
          "text": [
            "Type: torch.FloatTensor\n",
            "Shape/size: torch.Size([2, 3])\n",
            "Values: \n",
            "tensor([[ 3.0771, -1.9515,  3.1539],\n",
            "        [ 0.7680, -1.2077, -1.0479]])\n"
          ],
          "name": "stdout"
        }
      ]
    },
    {
      "cell_type": "code",
      "metadata": {
        "scrolled": true,
        "id": "AdjES1FnyPQ9",
        "colab": {
          "base_uri": "https://localhost:8080/"
        },
        "outputId": "999b8054-22f9-41dc-8bca-329013111642"
      },
      "source": [
        "describe(x + x)"
      ],
      "execution_count": 22,
      "outputs": [
        {
          "output_type": "stream",
          "text": [
            "Type: torch.FloatTensor\n",
            "Shape/size: torch.Size([2, 3])\n",
            "Values: \n",
            "tensor([[ 3.0771, -1.9515,  3.1539],\n",
            "        [ 0.7680, -1.2077, -1.0479]])\n"
          ],
          "name": "stdout"
        }
      ]
    },
    {
      "cell_type": "code",
      "metadata": {
        "id": "_kvrUi12yPQ-",
        "colab": {
          "base_uri": "https://localhost:8080/"
        },
        "outputId": "deeb11e2-07cf-411f-c670-4778cb0bcbd4"
      },
      "source": [
        "x = torch.arange(6)\n",
        "describe(x)"
      ],
      "execution_count": 23,
      "outputs": [
        {
          "output_type": "stream",
          "text": [
            "Type: torch.LongTensor\n",
            "Shape/size: torch.Size([6])\n",
            "Values: \n",
            "tensor([0, 1, 2, 3, 4, 5])\n"
          ],
          "name": "stdout"
        }
      ]
    },
    {
      "cell_type": "code",
      "metadata": {
        "id": "QctDMzWDyPQ-",
        "colab": {
          "base_uri": "https://localhost:8080/"
        },
        "outputId": "9a414624-5d45-4c84-d064-b0982ef339d2"
      },
      "source": [
        "x = x.view(2, 3)\n",
        "describe(x)"
      ],
      "execution_count": 24,
      "outputs": [
        {
          "output_type": "stream",
          "text": [
            "Type: torch.LongTensor\n",
            "Shape/size: torch.Size([2, 3])\n",
            "Values: \n",
            "tensor([[0, 1, 2],\n",
            "        [3, 4, 5]])\n"
          ],
          "name": "stdout"
        }
      ]
    },
    {
      "cell_type": "code",
      "metadata": {
        "id": "7nXZoSgSyPQ-",
        "colab": {
          "base_uri": "https://localhost:8080/"
        },
        "outputId": "b3834f6f-b6c6-4b1d-c0db-690f439100f0"
      },
      "source": [
        "##we represent rows as the dimension 0 and columns as dimension 1\n",
        "describe(torch.sum(x, dim=0))"
      ],
      "execution_count": 25,
      "outputs": [
        {
          "output_type": "stream",
          "text": [
            "Type: torch.LongTensor\n",
            "Shape/size: torch.Size([3])\n",
            "Values: \n",
            "tensor([3, 5, 7])\n"
          ],
          "name": "stdout"
        }
      ]
    },
    {
      "cell_type": "code",
      "metadata": {
        "id": "wJaQ3W_JyPQ-",
        "colab": {
          "base_uri": "https://localhost:8080/"
        },
        "outputId": "38043650-1909-43e2-9cfc-691b4e2325d7"
      },
      "source": [
        "describe(torch.sum(x, dim=1))"
      ],
      "execution_count": 26,
      "outputs": [
        {
          "output_type": "stream",
          "text": [
            "Type: torch.LongTensor\n",
            "Shape/size: torch.Size([2])\n",
            "Values: \n",
            "tensor([ 3, 12])\n"
          ],
          "name": "stdout"
        }
      ]
    },
    {
      "cell_type": "code",
      "metadata": {
        "id": "fsRhBg8qyPQ-",
        "colab": {
          "base_uri": "https://localhost:8080/"
        },
        "outputId": "ba8cff65-38f9-47dc-a1d8-8219c944abfa"
      },
      "source": [
        "describe(torch.transpose(x, 0, 1))"
      ],
      "execution_count": 27,
      "outputs": [
        {
          "output_type": "stream",
          "text": [
            "Type: torch.LongTensor\n",
            "Shape/size: torch.Size([3, 2])\n",
            "Values: \n",
            "tensor([[0, 3],\n",
            "        [1, 4],\n",
            "        [2, 5]])\n"
          ],
          "name": "stdout"
        }
      ]
    },
    {
      "cell_type": "markdown",
      "metadata": {
        "id": "igErCKAjyPQ-"
      },
      "source": [
        "#### Slicing and indexing a tensor"
      ]
    },
    {
      "cell_type": "code",
      "metadata": {
        "id": "CeNc-bqdyPQ_",
        "colab": {
          "base_uri": "https://localhost:8080/"
        },
        "outputId": "9eeae9c1-4562-4272-cfba-a8e2470c7e08"
      },
      "source": [
        "x = torch.arange(6).view(2, 3)\n",
        "describe(x)"
      ],
      "execution_count": 28,
      "outputs": [
        {
          "output_type": "stream",
          "text": [
            "Type: torch.LongTensor\n",
            "Shape/size: torch.Size([2, 3])\n",
            "Values: \n",
            "tensor([[0, 1, 2],\n",
            "        [3, 4, 5]])\n"
          ],
          "name": "stdout"
        }
      ]
    },
    {
      "cell_type": "code",
      "metadata": {
        "id": "N8baIah1yPQ_",
        "colab": {
          "base_uri": "https://localhost:8080/"
        },
        "outputId": "a6f85fce-40ea-4e86-d5cd-e152dc120d1e"
      },
      "source": [
        "describe(x[:1, :2])"
      ],
      "execution_count": 29,
      "outputs": [
        {
          "output_type": "stream",
          "text": [
            "Type: torch.LongTensor\n",
            "Shape/size: torch.Size([1, 2])\n",
            "Values: \n",
            "tensor([[0, 1]])\n"
          ],
          "name": "stdout"
        }
      ]
    },
    {
      "cell_type": "code",
      "metadata": {
        "id": "dud6-zChyPQ_",
        "colab": {
          "base_uri": "https://localhost:8080/"
        },
        "outputId": "7947bb64-f0c0-4824-c1f8-56e63f609324"
      },
      "source": [
        "describe(x[0, 1])"
      ],
      "execution_count": 30,
      "outputs": [
        {
          "output_type": "stream",
          "text": [
            "Type: torch.LongTensor\n",
            "Shape/size: torch.Size([])\n",
            "Values: \n",
            "1\n"
          ],
          "name": "stdout"
        }
      ]
    },
    {
      "cell_type": "code",
      "metadata": {
        "id": "INMIxyb0yPQ_",
        "colab": {
          "base_uri": "https://localhost:8080/"
        },
        "outputId": "51569910-6151-499e-9dc9-fe55e9f033cb"
      },
      "source": [
        "indices = torch.LongTensor([0, 2])\n",
        "describe(torch.index_select(x, dim=1, index=indices))"
      ],
      "execution_count": 31,
      "outputs": [
        {
          "output_type": "stream",
          "text": [
            "Type: torch.LongTensor\n",
            "Shape/size: torch.Size([2, 2])\n",
            "Values: \n",
            "tensor([[0, 2],\n",
            "        [3, 5]])\n"
          ],
          "name": "stdout"
        }
      ]
    },
    {
      "cell_type": "code",
      "metadata": {
        "id": "6vToTLReyPQ_",
        "colab": {
          "base_uri": "https://localhost:8080/"
        },
        "outputId": "f0435bc3-83e6-4343-c344-b7a539ee9824"
      },
      "source": [
        "indices = torch.LongTensor([0, 0])\n",
        "describe(torch.index_select(x, dim=0, index=indices))"
      ],
      "execution_count": 32,
      "outputs": [
        {
          "output_type": "stream",
          "text": [
            "Type: torch.LongTensor\n",
            "Shape/size: torch.Size([2, 3])\n",
            "Values: \n",
            "tensor([[0, 1, 2],\n",
            "        [0, 1, 2]])\n"
          ],
          "name": "stdout"
        }
      ]
    },
    {
      "cell_type": "code",
      "metadata": {
        "id": "yqkR-seQyPRA",
        "colab": {
          "base_uri": "https://localhost:8080/"
        },
        "outputId": "cfd7e79e-ba87-4cb8-b9af-0f4d6968af43"
      },
      "source": [
        "row_indices = torch.arange(2).long()\n",
        "col_indices = torch.LongTensor([0, 1])\n",
        "describe(x[row_indices, col_indices])"
      ],
      "execution_count": 33,
      "outputs": [
        {
          "output_type": "stream",
          "text": [
            "Type: torch.LongTensor\n",
            "Shape/size: torch.Size([2])\n",
            "Values: \n",
            "tensor([0, 4])\n"
          ],
          "name": "stdout"
        }
      ]
    },
    {
      "cell_type": "code",
      "metadata": {
        "id": "8T8UnJbMyPRA",
        "colab": {
          "base_uri": "https://localhost:8080/"
        },
        "outputId": "5f5e87ec-3433-4915-9913-c4c8566848f2"
      },
      "source": [
        "row_indices"
      ],
      "execution_count": 34,
      "outputs": [
        {
          "output_type": "execute_result",
          "data": {
            "text/plain": [
              "tensor([0, 1])"
            ]
          },
          "metadata": {
            "tags": []
          },
          "execution_count": 34
        }
      ]
    },
    {
      "cell_type": "code",
      "metadata": {
        "id": "pRjH3gc9yPRA",
        "colab": {
          "base_uri": "https://localhost:8080/"
        },
        "outputId": "08dd1952-b810-4edd-e4f1-8ff87a0069f7"
      },
      "source": [
        "x = torch.LongTensor([[1, 2, 3],  \n",
        "                      [4, 5, 6],\n",
        "                      [7, 8, 9]])\n",
        "describe(x)\n",
        "print(x.dtype)\n",
        "print(x.numpy().dtype)"
      ],
      "execution_count": 35,
      "outputs": [
        {
          "output_type": "stream",
          "text": [
            "Type: torch.LongTensor\n",
            "Shape/size: torch.Size([3, 3])\n",
            "Values: \n",
            "tensor([[1, 2, 3],\n",
            "        [4, 5, 6],\n",
            "        [7, 8, 9]])\n",
            "torch.int64\n",
            "int64\n"
          ],
          "name": "stdout"
        }
      ]
    },
    {
      "cell_type": "code",
      "metadata": {
        "id": "QApNCkGJyPRA",
        "colab": {
          "base_uri": "https://localhost:8080/"
        },
        "outputId": "e24ca8bf-86de-4159-c2ec-0cf971e8c8b3"
      },
      "source": [
        "x = torch.FloatTensor([[1, 2, 3],  \n",
        "                       [4, 5, 6],\n",
        "                       [7, 8, 9]])\n",
        "x = x.long()\n",
        "describe(x)"
      ],
      "execution_count": 36,
      "outputs": [
        {
          "output_type": "stream",
          "text": [
            "Type: torch.LongTensor\n",
            "Shape/size: torch.Size([3, 3])\n",
            "Values: \n",
            "tensor([[1, 2, 3],\n",
            "        [4, 5, 6],\n",
            "        [7, 8, 9]])\n"
          ],
          "name": "stdout"
        }
      ]
    },
    {
      "cell_type": "code",
      "metadata": {
        "id": "RMxGdxuRyPRA",
        "colab": {
          "base_uri": "https://localhost:8080/"
        },
        "outputId": "ab89853c-2d19-4ca9-a3b8-2aabe58e8cfd"
      },
      "source": [
        "x = torch.arange(0, 10)\n",
        "print(x)"
      ],
      "execution_count": 37,
      "outputs": [
        {
          "output_type": "stream",
          "text": [
            "tensor([0, 1, 2, 3, 4, 5, 6, 7, 8, 9])\n"
          ],
          "name": "stdout"
        }
      ]
    },
    {
      "cell_type": "code",
      "metadata": {
        "id": "Sjko210IyPRA",
        "colab": {
          "base_uri": "https://localhost:8080/"
        },
        "outputId": "59e63abb-acff-4c7c-fdca-d306e7708e04"
      },
      "source": [
        "x = torch.arange(0, 10).long()\n",
        "print(x)"
      ],
      "execution_count": 38,
      "outputs": [
        {
          "output_type": "stream",
          "text": [
            "tensor([0, 1, 2, 3, 4, 5, 6, 7, 8, 9])\n"
          ],
          "name": "stdout"
        }
      ]
    },
    {
      "cell_type": "code",
      "metadata": {
        "id": "PsoHlGGNyPRB",
        "colab": {
          "base_uri": "https://localhost:8080/"
        },
        "outputId": "c55f1ff3-753f-46e4-dd9f-65c46701b841"
      },
      "source": [
        "x = torch.arange(0, 20)\n",
        "\n",
        "print(x.view(1, 20))\n",
        "print(x.view(2, 10))\n",
        "print(x.view(4, 5))\n",
        "print(x.view(5, 4))\n",
        "print(x.view(10, 2))\n",
        "print(x.view(20, 1))"
      ],
      "execution_count": 39,
      "outputs": [
        {
          "output_type": "stream",
          "text": [
            "tensor([[ 0,  1,  2,  3,  4,  5,  6,  7,  8,  9, 10, 11, 12, 13, 14, 15, 16, 17,\n",
            "         18, 19]])\n",
            "tensor([[ 0,  1,  2,  3,  4,  5,  6,  7,  8,  9],\n",
            "        [10, 11, 12, 13, 14, 15, 16, 17, 18, 19]])\n",
            "tensor([[ 0,  1,  2,  3,  4],\n",
            "        [ 5,  6,  7,  8,  9],\n",
            "        [10, 11, 12, 13, 14],\n",
            "        [15, 16, 17, 18, 19]])\n",
            "tensor([[ 0,  1,  2,  3],\n",
            "        [ 4,  5,  6,  7],\n",
            "        [ 8,  9, 10, 11],\n",
            "        [12, 13, 14, 15],\n",
            "        [16, 17, 18, 19]])\n",
            "tensor([[ 0,  1],\n",
            "        [ 2,  3],\n",
            "        [ 4,  5],\n",
            "        [ 6,  7],\n",
            "        [ 8,  9],\n",
            "        [10, 11],\n",
            "        [12, 13],\n",
            "        [14, 15],\n",
            "        [16, 17],\n",
            "        [18, 19]])\n",
            "tensor([[ 0],\n",
            "        [ 1],\n",
            "        [ 2],\n",
            "        [ 3],\n",
            "        [ 4],\n",
            "        [ 5],\n",
            "        [ 6],\n",
            "        [ 7],\n",
            "        [ 8],\n",
            "        [ 9],\n",
            "        [10],\n",
            "        [11],\n",
            "        [12],\n",
            "        [13],\n",
            "        [14],\n",
            "        [15],\n",
            "        [16],\n",
            "        [17],\n",
            "        [18],\n",
            "        [19]])\n"
          ],
          "name": "stdout"
        }
      ]
    },
    {
      "cell_type": "code",
      "metadata": {
        "id": "4pN7qq1NyPRB",
        "colab": {
          "base_uri": "https://localhost:8080/"
        },
        "outputId": "31a0c6ee-35d4-4a67-d86e-eda1a9eb2321"
      },
      "source": [
        "x = torch.arange(12).view(3, 4)\n",
        "y = torch.arange(4).view(1, 4)\n",
        "z = torch.arange(3).view(3, 1)\n",
        "\n",
        "print(x)\n",
        "print(y)\n",
        "print(z)\n",
        "print(x + y)\n",
        "print(x + z)"
      ],
      "execution_count": 40,
      "outputs": [
        {
          "output_type": "stream",
          "text": [
            "tensor([[ 0,  1,  2,  3],\n",
            "        [ 4,  5,  6,  7],\n",
            "        [ 8,  9, 10, 11]])\n",
            "tensor([[0, 1, 2, 3]])\n",
            "tensor([[0],\n",
            "        [1],\n",
            "        [2]])\n",
            "tensor([[ 0,  2,  4,  6],\n",
            "        [ 4,  6,  8, 10],\n",
            "        [ 8, 10, 12, 14]])\n",
            "tensor([[ 0,  1,  2,  3],\n",
            "        [ 5,  6,  7,  8],\n",
            "        [10, 11, 12, 13]])\n"
          ],
          "name": "stdout"
        }
      ]
    },
    {
      "cell_type": "code",
      "metadata": {
        "id": "_JvWfCEHyPRB",
        "colab": {
          "base_uri": "https://localhost:8080/"
        },
        "outputId": "28488061-60e8-4391-d236-c4cae5e96004"
      },
      "source": [
        "x = torch.arange(12).view(3, 4)\n",
        "print(x.shape)\n",
        "\n",
        "x = x.unsqueeze(dim=1)\n",
        "print(x.shape)\n",
        "\n",
        "x = x.squeeze()\n",
        "print(x.shape)"
      ],
      "execution_count": 41,
      "outputs": [
        {
          "output_type": "stream",
          "text": [
            "torch.Size([3, 4])\n",
            "torch.Size([3, 1, 4])\n",
            "torch.Size([3, 4])\n"
          ],
          "name": "stdout"
        }
      ]
    },
    {
      "cell_type": "code",
      "metadata": {
        "id": "gzcCwF2pyPRB",
        "colab": {
          "base_uri": "https://localhost:8080/"
        },
        "outputId": "b10870de-bbdb-47e7-85a8-0645987ece7d"
      },
      "source": [
        "x = torch.rand(3,4)\n",
        "print(\"x: \\n\", x)\n",
        "print(\"--\")\n",
        "print(\"torch.add(x, x): \\n\", torch.add(x, x))\n",
        "print(\"--\")\n",
        "print(\"x+x: \\n\", x + x)"
      ],
      "execution_count": 42,
      "outputs": [
        {
          "output_type": "stream",
          "text": [
            "x: \n",
            " tensor([[0.6662, 0.3343, 0.7893, 0.3216],\n",
            "        [0.5247, 0.6688, 0.8436, 0.4265],\n",
            "        [0.9561, 0.0770, 0.4108, 0.0014]])\n",
            "--\n",
            "torch.add(x, x): \n",
            " tensor([[1.3324, 0.6686, 1.5786, 0.6433],\n",
            "        [1.0494, 1.3377, 1.6872, 0.8530],\n",
            "        [1.9123, 0.1540, 0.8216, 0.0028]])\n",
            "--\n",
            "x+x: \n",
            " tensor([[1.3324, 0.6686, 1.5786, 0.6433],\n",
            "        [1.0494, 1.3377, 1.6872, 0.8530],\n",
            "        [1.9123, 0.1540, 0.8216, 0.0028]])\n"
          ],
          "name": "stdout"
        }
      ]
    },
    {
      "cell_type": "code",
      "metadata": {
        "id": "dHA-2DHHyPRB",
        "colab": {
          "base_uri": "https://localhost:8080/"
        },
        "outputId": "5f0be51a-d107-4e11-c4da-167c849ebe4d"
      },
      "source": [
        "x = torch.arange(12).reshape(3, 4)\n",
        "print(x)\n",
        "print(x.add_(x))"
      ],
      "execution_count": 43,
      "outputs": [
        {
          "output_type": "stream",
          "text": [
            "tensor([[ 0,  1,  2,  3],\n",
            "        [ 4,  5,  6,  7],\n",
            "        [ 8,  9, 10, 11]])\n",
            "tensor([[ 0,  2,  4,  6],\n",
            "        [ 8, 10, 12, 14],\n",
            "        [16, 18, 20, 22]])\n"
          ],
          "name": "stdout"
        }
      ]
    },
    {
      "cell_type": "markdown",
      "metadata": {
        "id": "MhXafp54yPRC"
      },
      "source": [
        "#### Indexing, Slicing, Joining and Mutating"
      ]
    },
    {
      "cell_type": "code",
      "metadata": {
        "id": "SLiLDg3wyPRC",
        "colab": {
          "base_uri": "https://localhost:8080/"
        },
        "outputId": "7a80f914-22aa-451a-862c-cdf03b43add9"
      },
      "source": [
        "x = torch.arange(6).view(2, 3)\n",
        "print(\"x: \\n\", x)\n",
        "print(\"---\")\n",
        "print(\"x[:2, :2]: \\n\", x[:2, :2])\n",
        "print(\"---\")\n",
        "print(\"x[0][1]: \\n\", x[0][1])\n",
        "print(\"---\")\n",
        "print(\"Setting [0][1] to be 8\")\n",
        "x[0][1] = 8\n",
        "print(x)"
      ],
      "execution_count": 44,
      "outputs": [
        {
          "output_type": "stream",
          "text": [
            "x: \n",
            " tensor([[0, 1, 2],\n",
            "        [3, 4, 5]])\n",
            "---\n",
            "x[:2, :2]: \n",
            " tensor([[0, 1],\n",
            "        [3, 4]])\n",
            "---\n",
            "x[0][1]: \n",
            " tensor(1)\n",
            "---\n",
            "Setting [0][1] to be 8\n",
            "tensor([[0, 8, 2],\n",
            "        [3, 4, 5]])\n"
          ],
          "name": "stdout"
        }
      ]
    },
    {
      "cell_type": "code",
      "metadata": {
        "id": "8nOPPsWDyPRC",
        "colab": {
          "base_uri": "https://localhost:8080/"
        },
        "outputId": "29a5e0b1-fd87-4a47-a176-54901f7e4b21"
      },
      "source": [
        "x = torch.arange(9).view(3,3)\n",
        "print(x)\n",
        "\n",
        "print(\"---\")\n",
        "indices = torch.LongTensor([0, 2])\n",
        "print(torch.index_select(x, dim=0, index=indices))\n",
        "\n",
        "print(\"---\")\n",
        "indices = torch.LongTensor([0, 2])\n",
        "print(torch.index_select(x, dim=1, index=indices))"
      ],
      "execution_count": 45,
      "outputs": [
        {
          "output_type": "stream",
          "text": [
            "tensor([[0, 1, 2],\n",
            "        [3, 4, 5],\n",
            "        [6, 7, 8]])\n",
            "---\n",
            "tensor([[0, 1, 2],\n",
            "        [6, 7, 8]])\n",
            "---\n",
            "tensor([[0, 2],\n",
            "        [3, 5],\n",
            "        [6, 8]])\n"
          ],
          "name": "stdout"
        }
      ]
    },
    {
      "cell_type": "code",
      "metadata": {
        "id": "w6kgcYSCyPRC",
        "colab": {
          "base_uri": "https://localhost:8080/"
        },
        "outputId": "b3898d9f-208f-4727-a308-1b58f15e0405"
      },
      "source": [
        "x = torch.arange(9).view(3,3)\n",
        "indices = torch.LongTensor([0, 2])\n",
        "\n",
        "print(x[indices])\n",
        "print(\"---\")\n",
        "print(x[indices, :])\n",
        "print(\"---\")\n",
        "print(x[:, indices])"
      ],
      "execution_count": 46,
      "outputs": [
        {
          "output_type": "stream",
          "text": [
            "tensor([[0, 1, 2],\n",
            "        [6, 7, 8]])\n",
            "---\n",
            "tensor([[0, 1, 2],\n",
            "        [6, 7, 8]])\n",
            "---\n",
            "tensor([[0, 2],\n",
            "        [3, 5],\n",
            "        [6, 8]])\n"
          ],
          "name": "stdout"
        }
      ]
    },
    {
      "cell_type": "code",
      "metadata": {
        "id": "LgZuaRFTyPRC",
        "colab": {
          "base_uri": "https://localhost:8080/"
        },
        "outputId": "95e303fa-d51d-4206-f61a-7c718acb11c4"
      },
      "source": [
        "describe(torch.cat([x, x], dim=0))"
      ],
      "execution_count": 47,
      "outputs": [
        {
          "output_type": "stream",
          "text": [
            "Type: torch.LongTensor\n",
            "Shape/size: torch.Size([6, 3])\n",
            "Values: \n",
            "tensor([[0, 1, 2],\n",
            "        [3, 4, 5],\n",
            "        [6, 7, 8],\n",
            "        [0, 1, 2],\n",
            "        [3, 4, 5],\n",
            "        [6, 7, 8]])\n"
          ],
          "name": "stdout"
        }
      ]
    },
    {
      "cell_type": "code",
      "metadata": {
        "id": "9WooWB1jyPRD",
        "colab": {
          "base_uri": "https://localhost:8080/"
        },
        "outputId": "246b280f-4675-4133-85a6-9bb4a889feee"
      },
      "source": [
        "describe(torch.cat([x, x], dim=1))"
      ],
      "execution_count": 48,
      "outputs": [
        {
          "output_type": "stream",
          "text": [
            "Type: torch.LongTensor\n",
            "Shape/size: torch.Size([3, 6])\n",
            "Values: \n",
            "tensor([[0, 1, 2, 0, 1, 2],\n",
            "        [3, 4, 5, 3, 4, 5],\n",
            "        [6, 7, 8, 6, 7, 8]])\n"
          ],
          "name": "stdout"
        }
      ]
    },
    {
      "cell_type": "code",
      "metadata": {
        "id": "rUQC__onyPRD",
        "colab": {
          "base_uri": "https://localhost:8080/"
        },
        "outputId": "59183718-429d-40aa-c24b-040939fe9295"
      },
      "source": [
        "describe(torch.stack([x, x]))"
      ],
      "execution_count": 49,
      "outputs": [
        {
          "output_type": "stream",
          "text": [
            "Type: torch.LongTensor\n",
            "Shape/size: torch.Size([2, 3, 3])\n",
            "Values: \n",
            "tensor([[[0, 1, 2],\n",
            "         [3, 4, 5],\n",
            "         [6, 7, 8]],\n",
            "\n",
            "        [[0, 1, 2],\n",
            "         [3, 4, 5],\n",
            "         [6, 7, 8]]])\n"
          ],
          "name": "stdout"
        }
      ]
    },
    {
      "cell_type": "code",
      "metadata": {
        "id": "3qAJuN84yPRD",
        "colab": {
          "base_uri": "https://localhost:8080/"
        },
        "outputId": "5da5b4a8-638b-4b05-dec8-2d29c3f72368"
      },
      "source": [
        "x = torch.arange(9).view(3,3)\n",
        "\n",
        "print(x)\n",
        "print(\"---\")\n",
        "new_x = torch.cat([x, x, x], dim=1)\n",
        "print(new_x.shape)\n",
        "print(new_x)"
      ],
      "execution_count": 50,
      "outputs": [
        {
          "output_type": "stream",
          "text": [
            "tensor([[0, 1, 2],\n",
            "        [3, 4, 5],\n",
            "        [6, 7, 8]])\n",
            "---\n",
            "torch.Size([3, 9])\n",
            "tensor([[0, 1, 2, 0, 1, 2, 0, 1, 2],\n",
            "        [3, 4, 5, 3, 4, 5, 3, 4, 5],\n",
            "        [6, 7, 8, 6, 7, 8, 6, 7, 8]])\n"
          ],
          "name": "stdout"
        }
      ]
    },
    {
      "cell_type": "code",
      "metadata": {
        "id": "_znrmCdGyPRD",
        "colab": {
          "base_uri": "https://localhost:8080/"
        },
        "outputId": "78aac655-aa6d-4299-cb06-289907f25abf"
      },
      "source": [
        "x = torch.arange(9).view(3,3)\n",
        "print(x)\n",
        "print(\"---\")\n",
        "new_x = torch.stack([x, x, x])\n",
        "print(new_x.shape)\n",
        "print(new_x)"
      ],
      "execution_count": 51,
      "outputs": [
        {
          "output_type": "stream",
          "text": [
            "tensor([[0, 1, 2],\n",
            "        [3, 4, 5],\n",
            "        [6, 7, 8]])\n",
            "---\n",
            "torch.Size([3, 3, 3])\n",
            "tensor([[[0, 1, 2],\n",
            "         [3, 4, 5],\n",
            "         [6, 7, 8]],\n",
            "\n",
            "        [[0, 1, 2],\n",
            "         [3, 4, 5],\n",
            "         [6, 7, 8]],\n",
            "\n",
            "        [[0, 1, 2],\n",
            "         [3, 4, 5],\n",
            "         [6, 7, 8]]])\n"
          ],
          "name": "stdout"
        }
      ]
    },
    {
      "cell_type": "markdown",
      "metadata": {
        "id": "6PmvWBioyPRD"
      },
      "source": [
        "####  Linear Algebra Tensor Functions"
      ]
    },
    {
      "cell_type": "code",
      "metadata": {
        "id": "ij4D6sCTyPRE",
        "colab": {
          "base_uri": "https://localhost:8080/"
        },
        "outputId": "dcb60696-ca14-431a-8e2d-99111a21ce22"
      },
      "source": [
        "x = torch.arange(0, 12).view(3,4)\n",
        "print(\"x: \\n\", x) \n",
        "print(\"---\")\n",
        "print(\"x.tranpose(1, 0): \\n\", x.transpose(1, 0))"
      ],
      "execution_count": 52,
      "outputs": [
        {
          "output_type": "stream",
          "text": [
            "x: \n",
            " tensor([[ 0,  1,  2,  3],\n",
            "        [ 4,  5,  6,  7],\n",
            "        [ 8,  9, 10, 11]])\n",
            "---\n",
            "x.tranpose(1, 0): \n",
            " tensor([[ 0,  4,  8],\n",
            "        [ 1,  5,  9],\n",
            "        [ 2,  6, 10],\n",
            "        [ 3,  7, 11]])\n"
          ],
          "name": "stdout"
        }
      ]
    },
    {
      "cell_type": "code",
      "metadata": {
        "id": "Fw8r82bNyPRE",
        "colab": {
          "base_uri": "https://localhost:8080/"
        },
        "outputId": "e4d3c734-24c5-4c1f-8aa9-bde662b9a157"
      },
      "source": [
        "batch_size = 3\n",
        "seq_size = 4\n",
        "feature_size = 5\n",
        "\n",
        "x = torch.arange(batch_size * seq_size * feature_size).view(batch_size, seq_size, feature_size)\n",
        "\n",
        "print(\"x.shape: \\n\", x.shape)\n",
        "print(\"x: \\n\", x)\n",
        "print(\"-----\")\n",
        "\n",
        "print(\"x.transpose(1, 0).shape: \\n\", x.transpose(1, 0).shape)\n",
        "print(\"x.transpose(1, 0): \\n\", x.transpose(1, 0))"
      ],
      "execution_count": 53,
      "outputs": [
        {
          "output_type": "stream",
          "text": [
            "x.shape: \n",
            " torch.Size([3, 4, 5])\n",
            "x: \n",
            " tensor([[[ 0,  1,  2,  3,  4],\n",
            "         [ 5,  6,  7,  8,  9],\n",
            "         [10, 11, 12, 13, 14],\n",
            "         [15, 16, 17, 18, 19]],\n",
            "\n",
            "        [[20, 21, 22, 23, 24],\n",
            "         [25, 26, 27, 28, 29],\n",
            "         [30, 31, 32, 33, 34],\n",
            "         [35, 36, 37, 38, 39]],\n",
            "\n",
            "        [[40, 41, 42, 43, 44],\n",
            "         [45, 46, 47, 48, 49],\n",
            "         [50, 51, 52, 53, 54],\n",
            "         [55, 56, 57, 58, 59]]])\n",
            "-----\n",
            "x.transpose(1, 0).shape: \n",
            " torch.Size([4, 3, 5])\n",
            "x.transpose(1, 0): \n",
            " tensor([[[ 0,  1,  2,  3,  4],\n",
            "         [20, 21, 22, 23, 24],\n",
            "         [40, 41, 42, 43, 44]],\n",
            "\n",
            "        [[ 5,  6,  7,  8,  9],\n",
            "         [25, 26, 27, 28, 29],\n",
            "         [45, 46, 47, 48, 49]],\n",
            "\n",
            "        [[10, 11, 12, 13, 14],\n",
            "         [30, 31, 32, 33, 34],\n",
            "         [50, 51, 52, 53, 54]],\n",
            "\n",
            "        [[15, 16, 17, 18, 19],\n",
            "         [35, 36, 37, 38, 39],\n",
            "         [55, 56, 57, 58, 59]]])\n"
          ],
          "name": "stdout"
        }
      ]
    },
    {
      "cell_type": "code",
      "metadata": {
        "id": "jmyzqG2yyPRE",
        "colab": {
          "base_uri": "https://localhost:8080/"
        },
        "outputId": "2bb77f78-dd22-4c28-d336-c6f9dfac9150"
      },
      "source": [
        "torch.randn(2, 3, requires_grad=True)"
      ],
      "execution_count": 54,
      "outputs": [
        {
          "output_type": "execute_result",
          "data": {
            "text/plain": [
              "tensor([[-0.4790,  0.8539, -0.2285],\n",
              "        [ 0.3081,  1.1171,  0.1585]], requires_grad=True)"
            ]
          },
          "metadata": {
            "tags": []
          },
          "execution_count": 54
        }
      ]
    },
    {
      "cell_type": "code",
      "metadata": {
        "id": "GPxu3NDKyPRE",
        "colab": {
          "base_uri": "https://localhost:8080/"
        },
        "outputId": "0b5dbd8c-3a0a-418b-f519-03512b460834"
      },
      "source": [
        "x1 = torch.arange(6).view(2, 3).float()\n",
        "describe(x1)\n",
        "\n",
        "x2 = torch.ones(3, 2)\n",
        "x2[:, 1] += 1\n",
        "describe(x2)\n",
        "\n",
        "describe(torch.mm(x1, x2))"
      ],
      "execution_count": 55,
      "outputs": [
        {
          "output_type": "stream",
          "text": [
            "Type: torch.FloatTensor\n",
            "Shape/size: torch.Size([2, 3])\n",
            "Values: \n",
            "tensor([[0., 1., 2.],\n",
            "        [3., 4., 5.]])\n",
            "Type: torch.FloatTensor\n",
            "Shape/size: torch.Size([3, 2])\n",
            "Values: \n",
            "tensor([[1., 2.],\n",
            "        [1., 2.],\n",
            "        [1., 2.]])\n",
            "Type: torch.FloatTensor\n",
            "Shape/size: torch.Size([2, 2])\n",
            "Values: \n",
            "tensor([[ 3.,  6.],\n",
            "        [12., 24.]])\n"
          ],
          "name": "stdout"
        }
      ]
    },
    {
      "cell_type": "code",
      "metadata": {
        "id": "FXR3yEikyPRE",
        "colab": {
          "base_uri": "https://localhost:8080/"
        },
        "outputId": "4bc95a95-bc0f-4039-cc43-79552d242927"
      },
      "source": [
        "x1 = torch.arange(6).view(2, 3)\n",
        "x1 = x1.float()\n",
        "describe(x1)"
      ],
      "execution_count": 56,
      "outputs": [
        {
          "output_type": "stream",
          "text": [
            "Type: torch.FloatTensor\n",
            "Shape/size: torch.Size([2, 3])\n",
            "Values: \n",
            "tensor([[0., 1., 2.],\n",
            "        [3., 4., 5.]])\n"
          ],
          "name": "stdout"
        }
      ]
    },
    {
      "cell_type": "code",
      "metadata": {
        "id": "cQ9Ttxm1yPRF",
        "colab": {
          "base_uri": "https://localhost:8080/"
        },
        "outputId": "b436ff30-6dc4-4a59-b1ed-cc0026e4b73d"
      },
      "source": [
        "x2 = torch.ones(3, 2)\n",
        "x2[:, 1] += 1\n",
        "describe(x2)"
      ],
      "execution_count": 57,
      "outputs": [
        {
          "output_type": "stream",
          "text": [
            "Type: torch.FloatTensor\n",
            "Shape/size: torch.Size([3, 2])\n",
            "Values: \n",
            "tensor([[1., 2.],\n",
            "        [1., 2.],\n",
            "        [1., 2.]])\n"
          ],
          "name": "stdout"
        }
      ]
    },
    {
      "cell_type": "code",
      "metadata": {
        "id": "V5NaW4A5yPRF",
        "colab": {
          "base_uri": "https://localhost:8080/"
        },
        "outputId": "f456420c-ce91-4c4c-9b8a-6d1a3af9740b"
      },
      "source": [
        "describe(torch.mm(x1, x2))"
      ],
      "execution_count": 58,
      "outputs": [
        {
          "output_type": "stream",
          "text": [
            "Type: torch.FloatTensor\n",
            "Shape/size: torch.Size([2, 2])\n",
            "Values: \n",
            "tensor([[ 3.,  6.],\n",
            "        [12., 24.]])\n"
          ],
          "name": "stdout"
        }
      ]
    },
    {
      "cell_type": "code",
      "metadata": {
        "id": "bL2k1KBYyPRF",
        "colab": {
          "base_uri": "https://localhost:8080/"
        },
        "outputId": "1b7ea9b7-b338-4193-9c26-91861ba0f07c"
      },
      "source": [
        "x = torch.ones(2, 2, requires_grad=True)\n",
        "describe(x)\n",
        "print(x.grad is None)"
      ],
      "execution_count": 59,
      "outputs": [
        {
          "output_type": "stream",
          "text": [
            "Type: torch.FloatTensor\n",
            "Shape/size: torch.Size([2, 2])\n",
            "Values: \n",
            "tensor([[1., 1.],\n",
            "        [1., 1.]], requires_grad=True)\n",
            "True\n"
          ],
          "name": "stdout"
        }
      ]
    },
    {
      "cell_type": "code",
      "metadata": {
        "id": "TnJeYkQGyPRF",
        "colab": {
          "base_uri": "https://localhost:8080/"
        },
        "outputId": "2896ea04-9d9b-4df4-f2fa-2c02ae8e8ed1"
      },
      "source": [
        "y = (x + 2) * (x + 5) + 3\n",
        "describe(y)\n",
        "print(x.grad is None)"
      ],
      "execution_count": 60,
      "outputs": [
        {
          "output_type": "stream",
          "text": [
            "Type: torch.FloatTensor\n",
            "Shape/size: torch.Size([2, 2])\n",
            "Values: \n",
            "tensor([[21., 21.],\n",
            "        [21., 21.]], grad_fn=<AddBackward0>)\n",
            "True\n"
          ],
          "name": "stdout"
        }
      ]
    },
    {
      "cell_type": "code",
      "metadata": {
        "id": "Mmk6x45MyPRF",
        "colab": {
          "base_uri": "https://localhost:8080/"
        },
        "outputId": "77fc839e-099c-47ed-9b6a-660e0a241aa3"
      },
      "source": [
        "z = y.mean()\n",
        "describe(z)\n",
        "z.backward()\n",
        "print(x.grad is None)"
      ],
      "execution_count": 61,
      "outputs": [
        {
          "output_type": "stream",
          "text": [
            "Type: torch.FloatTensor\n",
            "Shape/size: torch.Size([])\n",
            "Values: \n",
            "21.0\n",
            "False\n"
          ],
          "name": "stdout"
        }
      ]
    },
    {
      "cell_type": "code",
      "metadata": {
        "id": "TSLtKSktyPRF",
        "colab": {
          "base_uri": "https://localhost:8080/"
        },
        "outputId": "ad3cc2c6-ef51-4c13-a5bc-ce643d77aded"
      },
      "source": [
        "print (torch.cuda.is_available())"
      ],
      "execution_count": 62,
      "outputs": [
        {
          "output_type": "stream",
          "text": [
            "False\n"
          ],
          "name": "stdout"
        }
      ]
    },
    {
      "cell_type": "markdown",
      "metadata": {
        "id": "3EzhAUlCyPRG"
      },
      "source": [
        "### Computing Gradients"
      ]
    },
    {
      "cell_type": "code",
      "metadata": {
        "id": "gXmxjJjSyPRG",
        "colab": {
          "base_uri": "https://localhost:8080/"
        },
        "outputId": "6e8b1c9d-7a5f-42a6-f21b-ea009a11e7ed"
      },
      "source": [
        "x = torch.tensor([[2.0, 3.0]], requires_grad=True)\n",
        "z = 3 * x\n",
        "print(z)"
      ],
      "execution_count": 63,
      "outputs": [
        {
          "output_type": "stream",
          "text": [
            "tensor([[6., 9.]], grad_fn=<MulBackward0>)\n"
          ],
          "name": "stdout"
        }
      ]
    },
    {
      "cell_type": "code",
      "metadata": {
        "id": "oVgPD60TyPRG",
        "colab": {
          "base_uri": "https://localhost:8080/"
        },
        "outputId": "cb5acc71-1805-42c9-fdf4-ad43a3940535"
      },
      "source": [
        "x = torch.tensor([[2.0, 3.0]], requires_grad=True)\n",
        "print(\"x: \\n\", x)\n",
        "print(\"---\")"
      ],
      "execution_count": 64,
      "outputs": [
        {
          "output_type": "stream",
          "text": [
            "x: \n",
            " tensor([[2., 3.]], requires_grad=True)\n",
            "---\n"
          ],
          "name": "stdout"
        }
      ]
    },
    {
      "cell_type": "code",
      "metadata": {
        "id": "Ep1vITcEyPRG",
        "colab": {
          "base_uri": "https://localhost:8080/"
        },
        "outputId": "a1a7808b-6f9a-4cb6-a578-866a7afd6a9a"
      },
      "source": [
        "z = 3 * x\n",
        "print(\"z = 3*x: \\n\", z)\n",
        "print(\"---\")"
      ],
      "execution_count": 65,
      "outputs": [
        {
          "output_type": "stream",
          "text": [
            "z = 3*x: \n",
            " tensor([[6., 9.]], grad_fn=<MulBackward0>)\n",
            "---\n"
          ],
          "name": "stdout"
        }
      ]
    },
    {
      "cell_type": "code",
      "metadata": {
        "id": "rZ0xbygtyPRG",
        "colab": {
          "base_uri": "https://localhost:8080/"
        },
        "outputId": "1c00bf01-307f-431f-8562-ca434b8133a8"
      },
      "source": [
        "loss = z.sum()\n",
        "print(\"loss = z.sum(): \\n\", loss)\n",
        "print(\"---\")"
      ],
      "execution_count": 66,
      "outputs": [
        {
          "output_type": "stream",
          "text": [
            "loss = z.sum(): \n",
            " tensor(15., grad_fn=<SumBackward0>)\n",
            "---\n"
          ],
          "name": "stdout"
        }
      ]
    },
    {
      "cell_type": "code",
      "metadata": {
        "id": "9HluJ9FYyPRG",
        "colab": {
          "base_uri": "https://localhost:8080/"
        },
        "outputId": "77988b30-ee6b-458b-e1da-f9e0f44630c8"
      },
      "source": [
        "loss.backward()\n",
        "\n",
        "print(\"after loss.backward(), x.grad: \\n\", x.grad)"
      ],
      "execution_count": 67,
      "outputs": [
        {
          "output_type": "stream",
          "text": [
            "after loss.backward(), x.grad: \n",
            " tensor([[3., 3.]])\n"
          ],
          "name": "stdout"
        }
      ]
    },
    {
      "cell_type": "code",
      "metadata": {
        "id": "XS6ShGYoyPRH"
      },
      "source": [
        "def f(x):\n",
        "    if (x.data > 0).all():\n",
        "        return torch.sin(x)\n",
        "    else:\n",
        "        return torch.cos(x)"
      ],
      "execution_count": 68,
      "outputs": []
    },
    {
      "cell_type": "code",
      "metadata": {
        "id": "udBRTtDyyPRH",
        "colab": {
          "base_uri": "https://localhost:8080/"
        },
        "outputId": "456ecf22-1624-47cf-f33b-aa58224ff3a7"
      },
      "source": [
        "x = torch.tensor([1.0], requires_grad=True)\n",
        "y = f(x)\n",
        "y.backward()\n",
        "print(x.grad)"
      ],
      "execution_count": 69,
      "outputs": [
        {
          "output_type": "stream",
          "text": [
            "tensor([0.5403])\n"
          ],
          "name": "stdout"
        }
      ]
    },
    {
      "cell_type": "code",
      "metadata": {
        "id": "HliEO5hUyPRI",
        "colab": {
          "base_uri": "https://localhost:8080/",
          "height": 358
        },
        "outputId": "8c5899ef-6b6e-41ff-9d97-a37439676f68"
      },
      "source": [
        "x = torch.tensor([1.0, 0.5], requires_grad=True)\n",
        "y = f(x)\n",
        "# this is meant to break!\n",
        "y.backward()\n",
        "print(x.grad)"
      ],
      "execution_count": 70,
      "outputs": [
        {
          "output_type": "error",
          "ename": "RuntimeError",
          "evalue": "ignored",
          "traceback": [
            "\u001b[0;31m---------------------------------------------------------------------------\u001b[0m",
            "\u001b[0;31mRuntimeError\u001b[0m                              Traceback (most recent call last)",
            "\u001b[0;32m<ipython-input-70-a63e7f90faf5>\u001b[0m in \u001b[0;36m<module>\u001b[0;34m()\u001b[0m\n\u001b[1;32m      2\u001b[0m \u001b[0my\u001b[0m \u001b[0;34m=\u001b[0m \u001b[0mf\u001b[0m\u001b[0;34m(\u001b[0m\u001b[0mx\u001b[0m\u001b[0;34m)\u001b[0m\u001b[0;34m\u001b[0m\u001b[0;34m\u001b[0m\u001b[0m\n\u001b[1;32m      3\u001b[0m \u001b[0;31m# this is meant to break!\u001b[0m\u001b[0;34m\u001b[0m\u001b[0;34m\u001b[0m\u001b[0;34m\u001b[0m\u001b[0m\n\u001b[0;32m----> 4\u001b[0;31m \u001b[0my\u001b[0m\u001b[0;34m.\u001b[0m\u001b[0mbackward\u001b[0m\u001b[0;34m(\u001b[0m\u001b[0;34m)\u001b[0m\u001b[0;34m\u001b[0m\u001b[0;34m\u001b[0m\u001b[0m\n\u001b[0m\u001b[1;32m      5\u001b[0m \u001b[0mprint\u001b[0m\u001b[0;34m(\u001b[0m\u001b[0mx\u001b[0m\u001b[0;34m.\u001b[0m\u001b[0mgrad\u001b[0m\u001b[0;34m)\u001b[0m\u001b[0;34m\u001b[0m\u001b[0;34m\u001b[0m\u001b[0m\n",
            "\u001b[0;32m/usr/local/lib/python3.6/dist-packages/torch/tensor.py\u001b[0m in \u001b[0;36mbackward\u001b[0;34m(self, gradient, retain_graph, create_graph)\u001b[0m\n\u001b[1;32m    219\u001b[0m                 \u001b[0mretain_graph\u001b[0m\u001b[0;34m=\u001b[0m\u001b[0mretain_graph\u001b[0m\u001b[0;34m,\u001b[0m\u001b[0;34m\u001b[0m\u001b[0;34m\u001b[0m\u001b[0m\n\u001b[1;32m    220\u001b[0m                 create_graph=create_graph)\n\u001b[0;32m--> 221\u001b[0;31m         \u001b[0mtorch\u001b[0m\u001b[0;34m.\u001b[0m\u001b[0mautograd\u001b[0m\u001b[0;34m.\u001b[0m\u001b[0mbackward\u001b[0m\u001b[0;34m(\u001b[0m\u001b[0mself\u001b[0m\u001b[0;34m,\u001b[0m \u001b[0mgradient\u001b[0m\u001b[0;34m,\u001b[0m \u001b[0mretain_graph\u001b[0m\u001b[0;34m,\u001b[0m \u001b[0mcreate_graph\u001b[0m\u001b[0;34m)\u001b[0m\u001b[0;34m\u001b[0m\u001b[0;34m\u001b[0m\u001b[0m\n\u001b[0m\u001b[1;32m    222\u001b[0m \u001b[0;34m\u001b[0m\u001b[0m\n\u001b[1;32m    223\u001b[0m     \u001b[0;32mdef\u001b[0m \u001b[0mregister_hook\u001b[0m\u001b[0;34m(\u001b[0m\u001b[0mself\u001b[0m\u001b[0;34m,\u001b[0m \u001b[0mhook\u001b[0m\u001b[0;34m)\u001b[0m\u001b[0;34m:\u001b[0m\u001b[0;34m\u001b[0m\u001b[0;34m\u001b[0m\u001b[0m\n",
            "\u001b[0;32m/usr/local/lib/python3.6/dist-packages/torch/autograd/__init__.py\u001b[0m in \u001b[0;36mbackward\u001b[0;34m(tensors, grad_tensors, retain_graph, create_graph, grad_variables)\u001b[0m\n\u001b[1;32m    124\u001b[0m \u001b[0;34m\u001b[0m\u001b[0m\n\u001b[1;32m    125\u001b[0m     \u001b[0mgrad_tensors_\u001b[0m \u001b[0;34m=\u001b[0m \u001b[0m_tensor_or_tensors_to_tuple\u001b[0m\u001b[0;34m(\u001b[0m\u001b[0mgrad_tensors\u001b[0m\u001b[0;34m,\u001b[0m \u001b[0mlen\u001b[0m\u001b[0;34m(\u001b[0m\u001b[0mtensors\u001b[0m\u001b[0;34m)\u001b[0m\u001b[0;34m)\u001b[0m\u001b[0;34m\u001b[0m\u001b[0;34m\u001b[0m\u001b[0m\n\u001b[0;32m--> 126\u001b[0;31m     \u001b[0mgrad_tensors_\u001b[0m \u001b[0;34m=\u001b[0m \u001b[0m_make_grads\u001b[0m\u001b[0;34m(\u001b[0m\u001b[0mtensors\u001b[0m\u001b[0;34m,\u001b[0m \u001b[0mgrad_tensors_\u001b[0m\u001b[0;34m)\u001b[0m\u001b[0;34m\u001b[0m\u001b[0;34m\u001b[0m\u001b[0m\n\u001b[0m\u001b[1;32m    127\u001b[0m     \u001b[0;32mif\u001b[0m \u001b[0mretain_graph\u001b[0m \u001b[0;32mis\u001b[0m \u001b[0;32mNone\u001b[0m\u001b[0;34m:\u001b[0m\u001b[0;34m\u001b[0m\u001b[0;34m\u001b[0m\u001b[0m\n\u001b[1;32m    128\u001b[0m         \u001b[0mretain_graph\u001b[0m \u001b[0;34m=\u001b[0m \u001b[0mcreate_graph\u001b[0m\u001b[0;34m\u001b[0m\u001b[0;34m\u001b[0m\u001b[0m\n",
            "\u001b[0;32m/usr/local/lib/python3.6/dist-packages/torch/autograd/__init__.py\u001b[0m in \u001b[0;36m_make_grads\u001b[0;34m(outputs, grads)\u001b[0m\n\u001b[1;32m     48\u001b[0m             \u001b[0;32mif\u001b[0m \u001b[0mout\u001b[0m\u001b[0;34m.\u001b[0m\u001b[0mrequires_grad\u001b[0m\u001b[0;34m:\u001b[0m\u001b[0;34m\u001b[0m\u001b[0;34m\u001b[0m\u001b[0m\n\u001b[1;32m     49\u001b[0m                 \u001b[0;32mif\u001b[0m \u001b[0mout\u001b[0m\u001b[0;34m.\u001b[0m\u001b[0mnumel\u001b[0m\u001b[0;34m(\u001b[0m\u001b[0;34m)\u001b[0m \u001b[0;34m!=\u001b[0m \u001b[0;36m1\u001b[0m\u001b[0;34m:\u001b[0m\u001b[0;34m\u001b[0m\u001b[0;34m\u001b[0m\u001b[0m\n\u001b[0;32m---> 50\u001b[0;31m                     \u001b[0;32mraise\u001b[0m \u001b[0mRuntimeError\u001b[0m\u001b[0;34m(\u001b[0m\u001b[0;34m\"grad can be implicitly created only for scalar outputs\"\u001b[0m\u001b[0;34m)\u001b[0m\u001b[0;34m\u001b[0m\u001b[0;34m\u001b[0m\u001b[0m\n\u001b[0m\u001b[1;32m     51\u001b[0m                 \u001b[0mnew_grads\u001b[0m\u001b[0;34m.\u001b[0m\u001b[0mappend\u001b[0m\u001b[0;34m(\u001b[0m\u001b[0mtorch\u001b[0m\u001b[0;34m.\u001b[0m\u001b[0mones_like\u001b[0m\u001b[0;34m(\u001b[0m\u001b[0mout\u001b[0m\u001b[0;34m,\u001b[0m \u001b[0mmemory_format\u001b[0m\u001b[0;34m=\u001b[0m\u001b[0mtorch\u001b[0m\u001b[0;34m.\u001b[0m\u001b[0mpreserve_format\u001b[0m\u001b[0;34m)\u001b[0m\u001b[0;34m)\u001b[0m\u001b[0;34m\u001b[0m\u001b[0;34m\u001b[0m\u001b[0m\n\u001b[1;32m     52\u001b[0m             \u001b[0;32melse\u001b[0m\u001b[0;34m:\u001b[0m\u001b[0;34m\u001b[0m\u001b[0;34m\u001b[0m\u001b[0m\n",
            "\u001b[0;31mRuntimeError\u001b[0m: grad can be implicitly created only for scalar outputs"
          ]
        }
      ]
    },
    {
      "cell_type": "code",
      "metadata": {
        "id": "MEoE23WXyPRI",
        "outputId": "b956ec7c-265a-438d-a24d-1c4623d49004"
      },
      "source": [
        "x = torch.tensor([1.0, 0.5], requires_grad=True)\n",
        "y = f(x)\n",
        "y.sum().backward()\n",
        "print(x.grad)"
      ],
      "execution_count": null,
      "outputs": [
        {
          "output_type": "stream",
          "text": [
            "tensor([0.5403, 0.8776])\n"
          ],
          "name": "stdout"
        }
      ]
    },
    {
      "cell_type": "code",
      "metadata": {
        "id": "ZiS7cuA4yPRI",
        "outputId": "f1e4c4da-827b-49f2-85b4-089a42a5c84a"
      },
      "source": [
        "x = torch.tensor([1.0, -1], requires_grad=True)\n",
        "y = f(x)\n",
        "y.sum().backward()\n",
        "print(x.grad)"
      ],
      "execution_count": null,
      "outputs": [
        {
          "output_type": "stream",
          "text": [
            "tensor([-0.8415,  0.8415])\n"
          ],
          "name": "stdout"
        }
      ]
    },
    {
      "cell_type": "code",
      "metadata": {
        "id": "v8a_PKbJyPRI",
        "outputId": "3512958b-129c-4459-d469-bd11a7685344"
      },
      "source": [
        "x = torch.tensor([-0.5, -1], requires_grad=True)\n",
        "y = f(x)\n",
        "y.sum().backward()\n",
        "print(x.grad)"
      ],
      "execution_count": null,
      "outputs": [
        {
          "output_type": "stream",
          "text": [
            "tensor([0.4794, 0.8415])\n"
          ],
          "name": "stdout"
        }
      ]
    },
    {
      "cell_type": "code",
      "metadata": {
        "id": "576Gobo9yPRI",
        "outputId": "461bc1ae-a53f-4083-a218-55edf702c33d"
      },
      "source": [
        "def f2(x):\n",
        "    mask = torch.gt(x, 0).float()\n",
        "    return mask * torch.sin(x) + (1 - mask) * torch.cos(x)\n",
        "\n",
        "x = torch.tensor([1.0, -1], requires_grad=True)\n",
        "y = f2(x)\n",
        "y.sum().backward()\n",
        "print(x.grad)"
      ],
      "execution_count": null,
      "outputs": [
        {
          "output_type": "stream",
          "text": [
            "tensor([0.5403, 0.8415])\n"
          ],
          "name": "stdout"
        }
      ]
    },
    {
      "cell_type": "code",
      "metadata": {
        "id": "lpg30TiTyPRJ"
      },
      "source": [
        "def describe_grad(x):\n",
        "    if x.grad is None:\n",
        "        print(\"No gradient information\")\n",
        "    else:\n",
        "        print(\"Gradient: \\n{}\".format(x.grad))\n",
        "        print(\"Gradient Function: {}\".format(x.grad_fn))"
      ],
      "execution_count": null,
      "outputs": []
    },
    {
      "cell_type": "code",
      "metadata": {
        "id": "zYnhH7kJyPRJ"
      },
      "source": [
        ""
      ],
      "execution_count": null,
      "outputs": []
    }
  ]
}